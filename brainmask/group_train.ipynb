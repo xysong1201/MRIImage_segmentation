{
 "cells": [
  {
   "cell_type": "code",
   "execution_count": 1,
   "metadata": {},
   "outputs": [],
   "source": [
    "import os\n",
    "from torch.utils.data import Dataset, DataLoader, ConcatDataset,  WeightedRandomSampler\n",
    "from skimage import io, transform\n",
    "from torchvision import transforms, utils\n",
    "import torch\n",
    "import numpy as np\n",
    "import nibabel as nib\n",
    "from random import randint\n",
    "from PIL import Image\n",
    "import torch.optim as optim\n",
    "import time\n",
    "import torch.nn as nn\n",
    "from my_Dataset import TrainDataset\n",
    "import matplotlib.pyplot as plt\n",
    "from weight_axial import weight,count\n",
    "# import res18 as Res\n",
    "import Resnet as Res\n",
    "# from QN import QuickNat"
   ]
  },
  {
   "cell_type": "code",
   "execution_count": 2,
   "metadata": {},
   "outputs": [
    {
     "name": "stdout",
     "output_type": "stream",
     "text": [
      "cuda\n"
     ]
    }
   ],
   "source": [
    "gpu_id = 0\n",
    "os.environ[\"CUDA_DEVICE_ORDER\"] = \"PCI_BUS_ID\"\n",
    "os.environ[\"CUDA_VISIBLE_DEVICES\"] = str(gpu_id)\n",
    "\n",
    "device = torch.device('cuda')\n",
    "print(device)"
   ]
  },
  {
   "cell_type": "code",
   "execution_count": 3,
   "metadata": {},
   "outputs": [],
   "source": [
    "sub_idx = 0\n",
    "slice_idx = 2\n",
    "T1a_dir = '/home/xiaoyu/MRIdata_group/T1w/axial/sub{}/slice{}'.format(sub_idx,slice_idx)\n",
    "brainmask_dir = '/home/xiaoyu/MRIdata_group/brainmask/axial/sub{}/group{}'.format(sub_idx,slice_idx)\n",
    "total_data = TrainDataset(T1a_dir=T1a_dir, brainmask_dir = brainmask_dir)"
   ]
  },
  {
   "cell_type": "code",
   "execution_count": 4,
   "metadata": {},
   "outputs": [
    {
     "name": "stdout",
     "output_type": "stream",
     "text": [
      "3300\n"
     ]
    }
   ],
   "source": [
    "for sub_idx in range(1,330):\n",
    "    T1a_dir = '/home/xiaoyu/MRIdata_group/T1w/axial/sub{}/slice{}'.format(sub_idx,slice_idx)\n",
    "    brainmask_dir = '/home/xiaoyu/MRIdata_group/brainmask/axial/sub{}/group{}'.format(sub_idx,slice_idx)\n",
    "    train_data = TrainDataset(T1a_dir=T1a_dir, brainmask_dir = brainmask_dir)\n",
    "    total_data = total_data + train_data\n",
    "print(len(total_data))"
   ]
  },
  {
   "cell_type": "code",
   "execution_count": null,
   "metadata": {},
   "outputs": [
    {
     "name": "stdout",
     "output_type": "stream",
     "text": [
      "275\n"
     ]
    }
   ],
   "source": [
    "dataloader = DataLoader(total_data, batch_size = 12, shuffle = True, num_workers = 4)\n",
    "print(len(dataloader))"
   ]
  },
  {
   "cell_type": "code",
   "execution_count": null,
   "metadata": {},
   "outputs": [],
   "source": [
    "# total_data[0]['T1a'].shape"
   ]
  },
  {
   "cell_type": "code",
   "execution_count": null,
   "metadata": {},
   "outputs": [
    {
     "name": "stdout",
     "output_type": "stream",
     "text": [
      "11169216\n"
     ]
    }
   ],
   "source": [
    "# params= {'num_channels':1, 'num_filters':64, 'kernel_h':5, 'kernel_w':5, 'kernel_c':1, 'stride_conv':1,'pool':2, \n",
    "#          'stride_pool':2, 'num_class':3, 'se_block': 'CSSE','drop_out':0.2}\n",
    "# model = QuickNat(params)\n",
    "model = Res.resnet18()\n",
    "start=time.time()\n",
    "nb_param=0\n",
    "for param in model.parameters():\n",
    "    nb_param+=np.prod(list(param.data.size()))\n",
    "print(nb_param)"
   ]
  },
  {
   "cell_type": "code",
   "execution_count": null,
   "metadata": {},
   "outputs": [],
   "source": [
    "# print(model)"
   ]
  },
  {
   "cell_type": "code",
   "execution_count": null,
   "metadata": {},
   "outputs": [
    {
     "name": "stdout",
     "output_type": "stream",
     "text": [
      "torch.Size([5, 3, 128, 128])\n"
     ]
    }
   ],
   "source": [
    "bs=5\n",
    "x=torch.rand(bs,1,128,128)\n",
    "y = model(x)\n",
    "print(y.size())"
   ]
  },
  {
   "cell_type": "code",
   "execution_count": null,
   "metadata": {},
   "outputs": [],
   "source": [
    "model = model.to(device)\n",
    "weight = weight.to(device)\n",
    "criterion = nn.NLLLoss(weight = weight)\n",
    "optimizer = optim.Adam(model.parameters() ,lr=0.001)\n",
    "scheduler = optim.lr_scheduler.StepLR(optimizer, step_size=50, gamma=0.85)"
   ]
  },
  {
   "cell_type": "code",
   "execution_count": null,
   "metadata": {},
   "outputs": [
    {
     "name": "stdout",
     "output_type": "stream",
     "text": [
      "epoch= 0 \t time= 0.581281328201294 min \t loss= 0.5971902255578475\n",
      "[0.59719023]\n",
      "epoch= 1 \t time= 1.0605087955792745 min \t loss= 0.5347271073948253\n",
      "epoch= 2 \t time= 1.5443926493326823 min \t loss= 0.5171541708165949\n",
      "epoch= 3 \t time= 2.0248178283373517 min \t loss= 0.5065172930197283\n",
      "epoch= 4 \t time= 2.5096007148424784 min \t loss= 0.4941827379573475\n",
      "epoch= 5 \t time= 2.9951432943344116 min \t loss= 0.4801149401881478\n",
      "epoch= 6 \t time= 3.481102482477824 min \t loss= 0.46295833099972117\n",
      "epoch= 7 \t time= 3.9670823574066163 min \t loss= 0.44526272361928765\n",
      "epoch= 8 \t time= 4.448407824834188 min \t loss= 0.4193103337287903\n",
      "epoch= 9 \t time= 4.929426741600037 min \t loss= 0.39255718978968535\n",
      "epoch= 10 \t time= 5.411434626579284 min \t loss= 0.36064660386605696\n",
      "[0.59719023 0.53472711 0.51715417 0.50651729 0.49418274 0.48011494\n",
      " 0.46295833 0.44526272 0.41931033 0.39255719 0.3606466 ]\n",
      "epoch= 11 \t time= 5.894329873720805 min \t loss= 0.3280150404843417\n",
      "epoch= 12 \t time= 6.379026067256928 min \t loss= 0.30135772081938655\n",
      "epoch= 13 \t time= 6.86451027393341 min \t loss= 0.2750674439018423\n",
      "epoch= 14 \t time= 7.350332339604695 min \t loss= 0.25143077704039485\n",
      "epoch= 15 \t time= 7.8371105511983234 min \t loss= 0.23471527538516304\n",
      "epoch= 16 \t time= 8.322710959116618 min \t loss= 0.21893317769874227\n",
      "epoch= 17 \t time= 8.808311041196188 min \t loss= 0.20879729520190846\n",
      "epoch= 18 \t time= 9.294141062100728 min \t loss= 0.2012344296953895\n",
      "epoch= 19 \t time= 9.78106905221939 min \t loss= 0.1924163450978019\n",
      "epoch= 20 \t time= 10.266216985384624 min \t loss= 0.18675239129499954\n",
      "[0.59719023 0.53472711 0.51715417 0.50651729 0.49418274 0.48011494\n",
      " 0.46295833 0.44526272 0.41931033 0.39255719 0.3606466  0.32801504\n",
      " 0.30135772 0.27506744 0.25143078 0.23471528 0.21893318 0.2087973\n",
      " 0.20123443 0.19241635 0.18675239]\n",
      "epoch= 21 \t time= 10.754141283035278 min \t loss= 0.17827965405854312\n",
      "epoch= 22 \t time= 11.23789420525233 min \t loss= 0.17192598202011802\n",
      "epoch= 23 \t time= 11.723018844922384 min \t loss= 0.17012648257342253\n",
      "epoch= 24 \t time= 12.207482357819876 min \t loss= 0.1685857012055137\n",
      "epoch= 25 \t time= 12.692428521315257 min \t loss= 0.16029834633523768\n",
      "epoch= 26 \t time= 13.178405718008678 min \t loss= 0.15478647844357923\n",
      "epoch= 27 \t time= 13.664064860343933 min \t loss= 0.15071778170087122\n",
      "epoch= 28 \t time= 14.144405202070873 min \t loss= 0.16700669039379468\n",
      "epoch= 29 \t time= 14.628899538516999 min \t loss= 0.2039884560216557\n",
      "epoch= 30 \t time= 15.113215148448944 min \t loss= 0.17651688434860924\n",
      "[0.59719023 0.53472711 0.51715417 0.50651729 0.49418274 0.48011494\n",
      " 0.46295833 0.44526272 0.41931033 0.39255719 0.3606466  0.32801504\n",
      " 0.30135772 0.27506744 0.25143078 0.23471528 0.21893318 0.2087973\n",
      " 0.20123443 0.19241635 0.18675239 0.17827965 0.17192598 0.17012648\n",
      " 0.1685857  0.16029835 0.15478648 0.15071778 0.16700669 0.20398846\n",
      " 0.17651688]\n",
      "epoch= 31 \t time= 15.596498461564382 min \t loss= 0.15795815337787975\n",
      "epoch= 32 \t time= 16.0826508919398 min \t loss= 0.14706530793146655\n",
      "epoch= 33 \t time= 16.568338298797606 min \t loss= 0.1408610293811018\n",
      "epoch= 34 \t time= 17.05334673325221 min \t loss= 0.13795366311615165\n",
      "epoch= 35 \t time= 17.54037787914276 min \t loss= 0.13627287610010666\n",
      "epoch= 36 \t time= 18.027157362302145 min \t loss= 0.13535146951675414\n",
      "epoch= 37 \t time= 18.512459631760915 min \t loss= 0.13491902489553798\n",
      "epoch= 38 \t time= 18.993079602718353 min \t loss= 0.13484366709535772\n",
      "epoch= 39 \t time= 19.475713646411897 min \t loss= 0.13481818825006486\n",
      "epoch= 40 \t time= 19.960546374320984 min \t loss= 0.1352734990011562\n",
      "[0.59719023 0.53472711 0.51715417 0.50651729 0.49418274 0.48011494\n",
      " 0.46295833 0.44526272 0.41931033 0.39255719 0.3606466  0.32801504\n",
      " 0.30135772 0.27506744 0.25143078 0.23471528 0.21893318 0.2087973\n",
      " 0.20123443 0.19241635 0.18675239 0.17827965 0.17192598 0.17012648\n",
      " 0.1685857  0.16029835 0.15478648 0.15071778 0.16700669 0.20398846\n",
      " 0.17651688 0.15795815 0.14706531 0.14086103 0.13795366 0.13627288\n",
      " 0.13535147 0.13491902 0.13484367 0.13481819 0.1352735 ]\n",
      "epoch= 41 \t time= 20.447775427500407 min \t loss= 0.23750061352144589\n",
      "epoch= 42 \t time= 20.93190141916275 min \t loss= 0.19492965058846906\n",
      "epoch= 43 \t time= 21.412797864278158 min \t loss= 0.16139107406139375\n",
      "epoch= 44 \t time= 21.896145657698312 min \t loss= 0.14873073423450645\n",
      "epoch= 45 \t time= 22.377807553609212 min \t loss= 0.14154305842789736\n",
      "epoch= 46 \t time= 22.858507593472797 min \t loss= 0.13746179496700114\n",
      "epoch= 47 \t time= 23.339628648757934 min \t loss= 0.13524616647850382\n",
      "epoch= 48 \t time= 23.822972257932026 min \t loss= 0.13437634814869273\n",
      "epoch= 49 \t time= 24.30839542547862 min \t loss= 0.13393915211612528\n",
      "epoch= 50 \t time= 24.792475668589272 min \t loss= 0.13351509140296416\n",
      "[0.59719023 0.53472711 0.51715417 0.50651729 0.49418274 0.48011494\n",
      " 0.46295833 0.44526272 0.41931033 0.39255719 0.3606466  0.32801504\n",
      " 0.30135772 0.27506744 0.25143078 0.23471528 0.21893318 0.2087973\n",
      " 0.20123443 0.19241635 0.18675239 0.17827965 0.17192598 0.17012648\n",
      " 0.1685857  0.16029835 0.15478648 0.15071778 0.16700669 0.20398846\n",
      " 0.17651688 0.15795815 0.14706531 0.14086103 0.13795366 0.13627288\n",
      " 0.13535147 0.13491902 0.13484367 0.13481819 0.1352735  0.23750061\n",
      " 0.19492965 0.16139107 0.14873073 0.14154306 0.13746179 0.13524617\n",
      " 0.13437635 0.13393915 0.13351509]\n",
      "epoch= 51 \t time= 25.279371404647826 min \t loss= 0.1332649865746498\n",
      "epoch= 52 \t time= 25.764178053538004 min \t loss= 0.1330253662575375\n",
      "epoch= 53 \t time= 26.24848005374273 min \t loss= 0.133149468627843\n",
      "epoch= 54 \t time= 26.73345739444097 min \t loss= 0.1332143406976353\n",
      "epoch= 55 \t time= 27.217472064495087 min \t loss= 0.13335249621759762\n",
      "epoch= 56 \t time= 27.70182851155599 min \t loss= 0.13350052486766467\n",
      "epoch= 57 \t time= 28.183028582731882 min \t loss= 0.14130877207625997\n",
      "epoch= 58 \t time= 28.668118878205618 min \t loss= 0.21607505251060832\n",
      "epoch= 59 \t time= 29.153794598579406 min \t loss= 0.1691493093154647\n",
      "epoch= 60 \t time= 29.639431035518648 min \t loss= 0.14802989572286607\n",
      "[0.59719023 0.53472711 0.51715417 0.50651729 0.49418274 0.48011494\n",
      " 0.46295833 0.44526272 0.41931033 0.39255719 0.3606466  0.32801504\n",
      " 0.30135772 0.27506744 0.25143078 0.23471528 0.21893318 0.2087973\n",
      " 0.20123443 0.19241635 0.18675239 0.17827965 0.17192598 0.17012648\n",
      " 0.1685857  0.16029835 0.15478648 0.15071778 0.16700669 0.20398846\n",
      " 0.17651688 0.15795815 0.14706531 0.14086103 0.13795366 0.13627288\n",
      " 0.13535147 0.13491902 0.13484367 0.13481819 0.1352735  0.23750061\n",
      " 0.19492965 0.16139107 0.14873073 0.14154306 0.13746179 0.13524617\n",
      " 0.13437635 0.13393915 0.13351509 0.13326499 0.13302537 0.13314947\n",
      " 0.13321434 0.1333525  0.13350052 0.14130877 0.21607505 0.16914931\n",
      " 0.1480299 ]\n",
      "epoch= 61 \t time= 30.127075850963593 min \t loss= 0.13965177877382798\n",
      "epoch= 62 \t time= 30.61181683540344 min \t loss= 0.1362570986964486\n",
      "epoch= 63 \t time= 31.096601605415344 min \t loss= 0.13469039339910854\n",
      "epoch= 64 \t time= 31.581887622674305 min \t loss= 0.13373155615546486\n",
      "epoch= 65 \t time= 32.0648820122083 min \t loss= 0.13329173031178387\n",
      "epoch= 66 \t time= 32.55534071127574 min \t loss= 0.1331178813089024\n",
      "epoch= 67 \t time= 33.039666871229805 min \t loss= 0.13289242018352856\n",
      "epoch= 68 \t time= 33.524048570791884 min \t loss= 0.13282231130383232\n",
      "epoch= 69 \t time= 34.00469496647517 min \t loss= 0.1328961229595271\n",
      "epoch= 70 \t time= 34.48878790934881 min \t loss= 0.1329002722555941\n",
      "[0.59719023 0.53472711 0.51715417 0.50651729 0.49418274 0.48011494\n",
      " 0.46295833 0.44526272 0.41931033 0.39255719 0.3606466  0.32801504\n",
      " 0.30135772 0.27506744 0.25143078 0.23471528 0.21893318 0.2087973\n",
      " 0.20123443 0.19241635 0.18675239 0.17827965 0.17192598 0.17012648\n",
      " 0.1685857  0.16029835 0.15478648 0.15071778 0.16700669 0.20398846\n",
      " 0.17651688 0.15795815 0.14706531 0.14086103 0.13795366 0.13627288\n",
      " 0.13535147 0.13491902 0.13484367 0.13481819 0.1352735  0.23750061\n",
      " 0.19492965 0.16139107 0.14873073 0.14154306 0.13746179 0.13524617\n",
      " 0.13437635 0.13393915 0.13351509 0.13326499 0.13302537 0.13314947\n",
      " 0.13321434 0.1333525  0.13350052 0.14130877 0.21607505 0.16914931\n",
      " 0.1480299  0.13965178 0.1362571  0.13469039 0.13373156 0.13329173\n",
      " 0.13311788 0.13289242 0.13282231 0.13289612 0.13290027]\n",
      "epoch= 71 \t time= 34.97245645125707 min \t loss= 0.13299890201200137\n",
      "epoch= 72 \t time= 35.45413987636566 min \t loss= 0.16454389883713288\n",
      "epoch= 73 \t time= 35.93584154844284 min \t loss= 0.18027562444860284\n"
     ]
    },
    {
     "name": "stdout",
     "output_type": "stream",
     "text": [
      "epoch= 74 \t time= 36.42112883726756 min \t loss= 0.15346411328424106\n",
      "epoch= 75 \t time= 36.90603865385056 min \t loss= 0.14224684568968687\n",
      "epoch= 76 \t time= 37.39109570980072 min \t loss= 0.13660005534237082\n",
      "epoch= 77 \t time= 37.87422842184703 min \t loss= 0.13457968844608828\n",
      "epoch= 78 \t time= 38.35893648862839 min \t loss= 0.13344878223809328\n",
      "epoch= 79 \t time= 38.843806322415666 min \t loss= 0.13309995968233454\n",
      "epoch= 80 \t time= 39.32785982290904 min \t loss= 0.1328540733998472\n",
      "[0.59719023 0.53472711 0.51715417 0.50651729 0.49418274 0.48011494\n",
      " 0.46295833 0.44526272 0.41931033 0.39255719 0.3606466  0.32801504\n",
      " 0.30135772 0.27506744 0.25143078 0.23471528 0.21893318 0.2087973\n",
      " 0.20123443 0.19241635 0.18675239 0.17827965 0.17192598 0.17012648\n",
      " 0.1685857  0.16029835 0.15478648 0.15071778 0.16700669 0.20398846\n",
      " 0.17651688 0.15795815 0.14706531 0.14086103 0.13795366 0.13627288\n",
      " 0.13535147 0.13491902 0.13484367 0.13481819 0.1352735  0.23750061\n",
      " 0.19492965 0.16139107 0.14873073 0.14154306 0.13746179 0.13524617\n",
      " 0.13437635 0.13393915 0.13351509 0.13326499 0.13302537 0.13314947\n",
      " 0.13321434 0.1333525  0.13350052 0.14130877 0.21607505 0.16914931\n",
      " 0.1480299  0.13965178 0.1362571  0.13469039 0.13373156 0.13329173\n",
      " 0.13311788 0.13289242 0.13282231 0.13289612 0.13290027 0.1329989\n",
      " 0.1645439  0.18027562 0.15346411 0.14224685 0.13660006 0.13457969\n",
      " 0.13344878 0.13309996 0.13285407]\n",
      "epoch= 81 \t time= 39.813651438554125 min \t loss= 0.13259722536260432\n",
      "epoch= 82 \t time= 40.29882027308146 min \t loss= 0.132598966170441\n",
      "epoch= 83 \t time= 40.78393177588781 min \t loss= 0.13267099291086196\n",
      "epoch= 84 \t time= 41.26745690107346 min \t loss= 0.1327868966622786\n",
      "epoch= 85 \t time= 41.74785482088725 min \t loss= 0.13278759541836652\n",
      "epoch= 86 \t time= 42.23196365038554 min \t loss= 0.13285769351504065\n",
      "epoch= 87 \t time= 42.7168238679568 min \t loss= 0.13294667726213283\n",
      "epoch= 88 \t time= 43.201446533203125 min \t loss= 0.13301593257622285\n",
      "epoch= 89 \t time= 43.685732154051465 min \t loss= 0.13853620989756152\n",
      "epoch= 90 \t time= 44.17010005712509 min \t loss= 0.2017137719826265\n",
      "[0.59719023 0.53472711 0.51715417 0.50651729 0.49418274 0.48011494\n",
      " 0.46295833 0.44526272 0.41931033 0.39255719 0.3606466  0.32801504\n",
      " 0.30135772 0.27506744 0.25143078 0.23471528 0.21893318 0.2087973\n",
      " 0.20123443 0.19241635 0.18675239 0.17827965 0.17192598 0.17012648\n",
      " 0.1685857  0.16029835 0.15478648 0.15071778 0.16700669 0.20398846\n",
      " 0.17651688 0.15795815 0.14706531 0.14086103 0.13795366 0.13627288\n",
      " 0.13535147 0.13491902 0.13484367 0.13481819 0.1352735  0.23750061\n",
      " 0.19492965 0.16139107 0.14873073 0.14154306 0.13746179 0.13524617\n",
      " 0.13437635 0.13393915 0.13351509 0.13326499 0.13302537 0.13314947\n",
      " 0.13321434 0.1333525  0.13350052 0.14130877 0.21607505 0.16914931\n",
      " 0.1480299  0.13965178 0.1362571  0.13469039 0.13373156 0.13329173\n",
      " 0.13311788 0.13289242 0.13282231 0.13289612 0.13290027 0.1329989\n",
      " 0.1645439  0.18027562 0.15346411 0.14224685 0.13660006 0.13457969\n",
      " 0.13344878 0.13309996 0.13285407 0.13259723 0.13259897 0.13267099\n",
      " 0.1327869  0.1327876  0.13285769 0.13294668 0.13301593 0.13853621\n",
      " 0.20171377]\n",
      "epoch= 91 \t time= 44.657759356498715 min \t loss= 0.15676702838052403\n",
      "epoch= 92 \t time= 45.14192216793696 min \t loss= 0.1421232493628155\n",
      "epoch= 93 \t time= 45.627126018206276 min \t loss= 0.1371390643173998\n",
      "epoch= 94 \t time= 46.111537011464435 min \t loss= 0.13481046484275297\n",
      "epoch= 95 \t time= 46.592256192366285 min \t loss= 0.13375139683485032\n",
      "epoch= 96 \t time= 47.07513586680094 min \t loss= 0.13308176390149376\n",
      "epoch= 97 \t time= 47.55894271532694 min \t loss= 0.13280247447165575\n",
      "epoch= 98 \t time= 48.042619959513345 min \t loss= 0.13252096804705532\n",
      "epoch= 99 \t time= 48.523914436499275 min \t loss= 0.13240709838542072\n",
      "epoch= 100 \t time= 49.00860762993495 min \t loss= 0.13227699512785132\n",
      "[0.59719023 0.53472711 0.51715417 0.50651729 0.49418274 0.48011494\n",
      " 0.46295833 0.44526272 0.41931033 0.39255719 0.3606466  0.32801504\n",
      " 0.30135772 0.27506744 0.25143078 0.23471528 0.21893318 0.2087973\n",
      " 0.20123443 0.19241635 0.18675239 0.17827965 0.17192598 0.17012648\n",
      " 0.1685857  0.16029835 0.15478648 0.15071778 0.16700669 0.20398846\n",
      " 0.17651688 0.15795815 0.14706531 0.14086103 0.13795366 0.13627288\n",
      " 0.13535147 0.13491902 0.13484367 0.13481819 0.1352735  0.23750061\n",
      " 0.19492965 0.16139107 0.14873073 0.14154306 0.13746179 0.13524617\n",
      " 0.13437635 0.13393915 0.13351509 0.13326499 0.13302537 0.13314947\n",
      " 0.13321434 0.1333525  0.13350052 0.14130877 0.21607505 0.16914931\n",
      " 0.1480299  0.13965178 0.1362571  0.13469039 0.13373156 0.13329173\n",
      " 0.13311788 0.13289242 0.13282231 0.13289612 0.13290027 0.1329989\n",
      " 0.1645439  0.18027562 0.15346411 0.14224685 0.13660006 0.13457969\n",
      " 0.13344878 0.13309996 0.13285407 0.13259723 0.13259897 0.13267099\n",
      " 0.1327869  0.1327876  0.13285769 0.13294668 0.13301593 0.13853621\n",
      " 0.20171377 0.15676703 0.14212325 0.13713906 0.13481046 0.1337514\n",
      " 0.13308176 0.13280247 0.13252097 0.1324071  0.132277  ]\n"
     ]
    }
   ],
   "source": [
    "loss_list = []\n",
    "for epoch in range(0,200):\n",
    "    running_loss = 0\n",
    "    num_batches = 0\n",
    "    scheduler.step()\n",
    "    for i_batch, sample_batched in enumerate(dataloader):\n",
    "    \n",
    "        optimizer.zero_grad()\n",
    "        \n",
    "        #get the inputs\n",
    "        inputs, labels = sample_batched['T1a'], sample_batched['brainmask']\n",
    "        \n",
    "\n",
    "        inputs = inputs.to(device)\n",
    "        labels = labels.to(device)\n",
    "\n",
    "        inputs.requires_grad_()\n",
    "        \n",
    "        #forward + backward +optimize\n",
    "        scores = model(inputs)\n",
    "\n",
    "          \n",
    "        # Define the loss\n",
    "        loss = criterion(scores, labels.long()) \n",
    "        loss.backward()\n",
    "        optimizer.step()\n",
    "        \n",
    "        # compute and accumulate stats\n",
    "        running_loss += loss.detach().item()\n",
    "\n",
    "       \n",
    "        num_batches+=1 \n",
    "        \n",
    "        \n",
    "    # AVERAGE STATS THEN DISPLAY    \n",
    "    total_loss = running_loss/num_batches\n",
    "    loss_list = np.append(loss_list,total_loss)\n",
    "   \n",
    "    elapsed = (time.time()-start)/60\n",
    "        \n",
    "    print('epoch=',epoch, '\\t time=', elapsed,'min', '\\t loss=', total_loss ) \n",
    "    if epoch%10==0:\n",
    "        print(loss_list)\n",
    "        torch.save(model.state_dict(),'model')\n",
    "   \n",
    " \n",
    "print('Finish Training')"
   ]
  },
  {
   "cell_type": "code",
   "execution_count": null,
   "metadata": {},
   "outputs": [],
   "source": [
    "# plt.plot(loss_list)"
   ]
  },
  {
   "cell_type": "code",
   "execution_count": null,
   "metadata": {},
   "outputs": [],
   "source": [
    "# l = loss_list[0]\n",
    "# sum_dif = []\n",
    "# for loss in loss_list:\n",
    "#     dif = l-loss\n",
    "#     l = loss\n",
    "# #     num = np.random.randint(1, 20)\n",
    "# #     print(num)\n",
    "\n",
    "# #     if(num == 7):\n",
    "# #         break\n",
    "#     sum_dif = np.append(sum_dif,dif)\n",
    "# print(sum_dif)\n",
    "# plt.plot(sum_dif)"
   ]
  },
  {
   "cell_type": "code",
   "execution_count": null,
   "metadata": {},
   "outputs": [],
   "source": [
    "# def show_mask(image, mask):\n",
    "#     \"\"\"\n",
    "#     Show image and mask\n",
    "#     Args:\n",
    "#         image(numpyarray): The training image\n",
    "#         semantic(numpyarray): The training image segmentation\n",
    "#     \"\"\"    \n",
    "#     plt.subplot(1,2,1)\n",
    "#     plt.title('image')\n",
    "#     plt.imshow(image)\n",
    "#     plt.subplot(1,2,2)\n",
    "#     plt.title('mask')\n",
    "#     plt.imshow(mask)\n",
    "#     plt.show()"
   ]
  },
  {
   "cell_type": "code",
   "execution_count": null,
   "metadata": {},
   "outputs": [],
   "source": []
  },
  {
   "cell_type": "code",
   "execution_count": null,
   "metadata": {},
   "outputs": [],
   "source": [
    "# sample=total_data[4]\n",
    "# img = sample['T1a']\n",
    "# mask = sample['brainmask']\n",
    "\n",
    "# show_mask(img.squeeze(), mask)\n",
    "\n",
    "# img = img.unsqueeze(dim = 0)\n",
    "\n",
    "# img = img.to(device)\n",
    "\n",
    "\n",
    "# # feed it to network\n",
    "# scores =  model(img)\n",
    "# scores = scores.detach().cpu().squeeze().permute(1,2,0)\n",
    "\n",
    "# scores = torch.exp(scores)\n",
    "\n",
    "# a,b = torch.max(scores,dim=2)\n",
    "# plt.imshow(b)\n"
   ]
  },
  {
   "cell_type": "code",
   "execution_count": null,
   "metadata": {},
   "outputs": [],
   "source": []
  },
  {
   "cell_type": "code",
   "execution_count": null,
   "metadata": {},
   "outputs": [],
   "source": []
  },
  {
   "cell_type": "code",
   "execution_count": null,
   "metadata": {},
   "outputs": [],
   "source": [
    "-"
   ]
  }
 ],
 "metadata": {
  "kernelspec": {
   "display_name": "Python 3",
   "language": "python",
   "name": "python3"
  },
  "language_info": {
   "codemirror_mode": {
    "name": "ipython",
    "version": 3
   },
   "file_extension": ".py",
   "mimetype": "text/x-python",
   "name": "python",
   "nbconvert_exporter": "python",
   "pygments_lexer": "ipython3",
   "version": "3.6.7"
  }
 },
 "nbformat": 4,
 "nbformat_minor": 2
}
