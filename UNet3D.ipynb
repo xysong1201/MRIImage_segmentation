{
 "cells": [
  {
   "cell_type": "code",
   "execution_count": 12,
   "metadata": {},
   "outputs": [],
   "source": [
    "import torch\n",
    "import os\n",
    "import torch.nn as nn\n",
    "import torch.nn.functional as F"
   ]
  },
  {
   "cell_type": "markdown",
   "metadata": {},
   "source": [
    "#### Define the 3D Unet"
   ]
  },
  {
   "cell_type": "code",
   "execution_count": 14,
   "metadata": {},
   "outputs": [],
   "source": [
    "class double_conv3d(nn.Module):\n",
    "    def __init__(self, in_channel, out_channel):\n",
    "        super(double_conv3d, self).__init__()\n",
    "        \n",
    "        self.doubleconv3d = nn.Sequential(\n",
    "            nn.Conv3d(in_channel, out_channel, kernel_size = 3, padding =1), #same padding\n",
    "            nn.BatchNorm3d(out_channel),\n",
    "            nn.ReLU(),\n",
    "            nn.Conv3d(out_channel, out_channel, kernel_size = 3,padding =1), #same padding\n",
    "            nn.BatchNorm3d(out_channel),\n",
    "            nn.ReLU()\n",
    "        )\n",
    "    def forward(self, x):\n",
    "        x = self.doubleconv3d(x)\n",
    "        return x"
   ]
  },
  {
   "cell_type": "code",
   "execution_count": 15,
   "metadata": {},
   "outputs": [],
   "source": [
    "class down3d(nn.Module):\n",
    "    def __init__(self, in_channel, out_channel):\n",
    "        super(down3d, self).__init__()\n",
    "        self.downconv3d = nn.Sequential(\n",
    "            nn.MaxPool3d(2, stride = 2),\n",
    "            double_conv3d(in_channel, out_channel)\n",
    "        )\n",
    "    def forward(self, x):\n",
    "        x = self.downconv3d(x)\n",
    "        return x "
   ]
  },
  {
   "cell_type": "code",
   "execution_count": 16,
   "metadata": {},
   "outputs": [],
   "source": [
    "class up3d(nn.Module):\n",
    "    def __init__(self,in_channel, out_channel):\n",
    "        super(up3d, self).__init__()\n",
    "        self.up3d = nn.ConvTranspose3d(in_channel, out_channel, kernel_size = 2, stride = 2)\n",
    "        self.conv3d = double_conv3d(in_channel, out_channel)\n",
    "    def forward(self, x1, x2):\n",
    "        # after the convtranspose2d, the output W,H doubled.\n",
    "        x1 = self.up3d(x1)\n",
    "        diffY = x2.size()[2] - x1.size()[2]\n",
    "        diffX = x2.size()[3] - x1.size()[3]\n",
    "        # crop x2 \n",
    "        x2 = x2[:,:,diffY//2:diffY//2+x1.size()[2] , diffX//2:diffY//2+x1.size()[3]] \n",
    "        x = torch.cat([x2,x1], dim = 1)\n",
    "        x = self.conv3d(x)\n",
    "        return x"
   ]
  },
  {
   "cell_type": "code",
   "execution_count": 17,
   "metadata": {},
   "outputs": [],
   "source": [
    "class outconv3d(nn.Module):\n",
    "    def __init__(self, in_ch, out_ch):\n",
    "        super(outconv3d, self).__init__()\n",
    "        self.conv3d = nn.Conv3d(in_ch, out_ch, 1)\n",
    "\n",
    "    def forward(self, x):\n",
    "        x = self.conv3d(x)\n",
    "        return x"
   ]
  },
  {
   "cell_type": "code",
   "execution_count": 18,
   "metadata": {},
   "outputs": [],
   "source": [
    "class UNet3D(nn.Module):\n",
    "    \"\"\"\n",
    "    Args:\n",
    "        input channel(int)\n",
    "        output channel(int)\n",
    "    \"\"\"\n",
    "    def __init__(self):\n",
    "        super(UNet3D, self).__init__()\n",
    "        self.conv_in = double_conv3d(3,8)\n",
    "\n",
    "        self.down1 = down3d(8,16)\n",
    "        self.down2 = down3d(16,32)\n",
    "        self.down3 = down3d(32,64)\n",
    "        self.down4 = down3d(64,128)\n",
    "        \n",
    "        self.up1 = up3d(128,64)\n",
    "        self.up2 = up3d(64,32)\n",
    "        self.up3 = up3d(32,16)\n",
    "        self.up4 = up3d(16,8)\n",
    "        \n",
    "        self.conv_out = outconv3d(8,3)\n",
    "       \n",
    "\n",
    "    def forward(self, x):\n",
    "        x1 = self.conv_in(x)\n",
    "        x2 = self.down1(x1)\n",
    "        x3 = self.down2(x2)\n",
    "        x4 = self.down3(x3)\n",
    "        x5 = self.down4(x4)\n",
    "        x = self.up1(x5, x4)\n",
    "        x = self.up2(x, x3)\n",
    "        x = self.up3(x, x2)\n",
    "        x = self.up4(x, x1)\n",
    "        x = self.conv_out(x)\n",
    "        x = F.log_softmax(x, dim =1)\n",
    "        return x"
   ]
  },
  {
   "cell_type": "code",
   "execution_count": null,
   "metadata": {},
   "outputs": [],
   "source": []
  },
  {
   "cell_type": "code",
   "execution_count": null,
   "metadata": {},
   "outputs": [],
   "source": []
  },
  {
   "cell_type": "code",
   "execution_count": null,
   "metadata": {},
   "outputs": [],
   "source": []
  },
  {
   "cell_type": "code",
   "execution_count": null,
   "metadata": {},
   "outputs": [],
   "source": []
  },
  {
   "cell_type": "code",
   "execution_count": null,
   "metadata": {},
   "outputs": [],
   "source": []
  }
 ],
 "metadata": {
  "kernelspec": {
   "display_name": "Python 3",
   "language": "python",
   "name": "python3"
  },
  "language_info": {
   "codemirror_mode": {
    "name": "ipython",
    "version": 3
   },
   "file_extension": ".py",
   "mimetype": "text/x-python",
   "name": "python",
   "nbconvert_exporter": "python",
   "pygments_lexer": "ipython3",
   "version": "3.6.7"
  }
 },
 "nbformat": 4,
 "nbformat_minor": 2
}
