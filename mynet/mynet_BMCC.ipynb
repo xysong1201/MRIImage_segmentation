{
 "cells": [
  {
   "cell_type": "code",
   "execution_count": 2,
   "metadata": {},
   "outputs": [],
   "source": [
    "from __future__ import print_function\n",
    "import torch\n",
    "import torch.nn as nn\n",
    "import torch.optim as optim\n",
    "import torch.nn.functional as F\n",
    "import os\n",
    "from torch.utils.data import Dataset, DataLoader\n",
    "import matplotlib.pyplot as plt\n",
    "from skimage import io, transform\n",
    "import utils_xy\n",
    "from torchvision import transforms, utils\n",
    "import numpy as np\n",
    "from PIL import Image"
   ]
  },
  {
   "cell_type": "code",
   "execution_count": 3,
   "metadata": {},
   "outputs": [
    {
     "name": "stdout",
     "output_type": "stream",
     "text": [
      "cuda\n"
     ]
    }
   ],
   "source": [
    "gpu_id = 1\n",
    "os.environ[\"CUDA_DEVICE_ORDER\"] = \"PCI_BUS_ID\"\n",
    "os.environ[\"CUDA_VISIBLE_DEVICES\"] = str(gpu_id)\n",
    "\n",
    "device = torch.device('cuda')\n",
    "print (device)"
   ]
  },
  {
   "cell_type": "markdown",
   "metadata": {},
   "source": [
    "### I. Load the image and mask\n",
    "There are 43 images and 43 masks respectively, for each image, the size is 1024x1024x3, for each mask, the size is 1024x1024"
   ]
  },
  {
   "cell_type": "code",
   "execution_count": 4,
   "metadata": {},
   "outputs": [
    {
     "name": "stdout",
     "output_type": "stream",
     "text": [
      "Training images numbers: 43\n",
      "Training mask Images numbers:43\n"
     ]
    }
   ],
   "source": [
    "img_dir = '/home/xiaoyu/BMMC/BMMCdata'\n",
    "mask_dir = '/home/xiaoyu/BMMC/BMMCmasks'\n",
    "\n",
    "img_list = sorted(os.listdir(img_dir))\n",
    "mask_list = sorted(os.listdir(mask_dir))\n",
    "\n",
    "print(\"Training images numbers: \"+str(len(img_list)))\n",
    "print(\"Training mask Images numbers:\"+str(len(mask_list)))"
   ]
  },
  {
   "cell_type": "markdown",
   "metadata": {},
   "source": [
    "### Find the unique color in mask\n",
    "The unique color in mask is 85, 170, 255, so we can consider there are 3 classes in mask"
   ]
  },
  {
   "cell_type": "code",
   "execution_count": 5,
   "metadata": {},
   "outputs": [
    {
     "name": "stdout",
     "output_type": "stream",
     "text": [
      "tensor([ 85., 170., 255.])\n"
     ]
    }
   ],
   "source": [
    "colors = torch.tensor([])\n",
    "for i in range(len(img_list)):\n",
    "    img_arr = io.imread(os.path.join(img_dir, img_list[i]))\n",
    "    img_tensor = torch.from_numpy(np.uint8(img_arr))\n",
    "    img_tensor = img_tensor.permute(2,0,1)\n",
    "    \n",
    "    mask_str = mask_list[i]\n",
    "    mask_arr = io.imread(os.path.join(mask_dir, mask_str))\n",
    "    mask_tensor = torch.from_numpy(mask_arr)\n",
    "    unique_color = torch.unique(mask_tensor).type(torch.FloatTensor)\n",
    "    colors = torch.cat((colors,unique_color))\n",
    "colors = torch.unique(colors)\n",
    "print(colors)"
   ]
  },
  {
   "cell_type": "markdown",
   "metadata": {},
   "source": [
    "### Define the traindataset"
   ]
  },
  {
   "cell_type": "code",
   "execution_count": 6,
   "metadata": {},
   "outputs": [],
   "source": [
    "class TrainDataset(Dataset):\n",
    "    \n",
    "    def __init__(self, img_dir, mask_dir, transform=None):\n",
    "      \n",
    "        self.img_dir = img_dir\n",
    "        self.mask_dir = mask_dir\n",
    "        self.transform = transform\n",
    "        \n",
    "        self.mapping = {\n",
    "            85: 0,\n",
    "            170: 1,\n",
    "            255: 2\n",
    "        }\n",
    "        \n",
    "    def mask_to_class(self, mask):\n",
    "        for k in self.mapping:\n",
    "            mask[mask==k] = self.mapping[k]\n",
    "        return mask\n",
    "        \n",
    "    def __len__(self):\n",
    "        return len(os.listdir(self.img_dir))\n",
    "    \n",
    "    def __getitem__(self, idx):\n",
    "        \n",
    "        img_list = sorted(os.listdir(img_dir))\n",
    "        mask_list = sorted(os.listdir(mask_dir))\n",
    "        \n",
    "        img_str = img_list[idx]\n",
    "        img_arr = io.imread(os.path.join(img_dir, img_str))\n",
    "        img_tensor = torch.from_numpy(np.uint8(img_arr))\n",
    "        img_tensor = img_tensor.permute(2,0,1)\n",
    "        \n",
    "        mask_str = mask_list[idx]\n",
    "        mask_arr = io.imread(os.path.join(mask_dir, mask_str))\n",
    "        mask_tensor = torch.from_numpy(mask_arr)\n",
    "        \n",
    "        mask_class = self.mask_to_class(mask_tensor)\n",
    "        \n",
    "        sample = {'image':img_tensor, 'mask':mask_class}\n",
    "        \n",
    "        if self.transform:\n",
    "            sample = self.transform(sample)\n",
    "        return sample"
   ]
  },
  {
   "cell_type": "code",
   "execution_count": 6,
   "metadata": {},
   "outputs": [
    {
     "name": "stdout",
     "output_type": "stream",
     "text": [
      "torch.Size([3, 1024, 1024])\n",
      "torch.Size([1024, 1024])\n"
     ]
    }
   ],
   "source": [
    "# TrainDataset Test\n",
    "traindata = TrainDataset(img_dir = img_dir, mask_dir = mask_dir)\n",
    "print(traindata[0]['image'].shape)\n",
    "print(traindata[0]['mask'].shape)"
   ]
  },
  {
   "cell_type": "markdown",
   "metadata": {},
   "source": [
    "### Define the dataloader"
   ]
  },
  {
   "cell_type": "code",
   "execution_count": 16,
   "metadata": {},
   "outputs": [],
   "source": [
    "dataloader = DataLoader(traindata, batch_size=1, shuffle = False, num_workers = 4)"
   ]
  },
  {
   "cell_type": "markdown",
   "metadata": {},
   "source": [
    "#### There are 3 classes in total, for every pixel in image, there is a class assigned in ground truth mask"
   ]
  },
  {
   "cell_type": "markdown",
   "metadata": {},
   "source": [
    "### II. Define the network"
   ]
  },
  {
   "cell_type": "code",
   "execution_count": 19,
   "metadata": {},
   "outputs": [],
   "source": [
    "class MyNet(nn.Module):\n",
    "    def __init__(self, in_channels, out_channels, kernel_size, padding, stride):\n",
    "        super(MyNet, self).__init__()\n",
    "        \n",
    "        self.conv1 = nn.Conv2d(in_channels, out_channels, kernel_size, padding, stride)\n",
    "        \n",
    "#         self.conv2 = nn.Conv2d(out_channels, out_channels, kernel_size, padding, stride)\n",
    "        \n",
    "    def forward(self, x):\n",
    "        x = self.conv1(x)\n",
    "#         x = conv2(x)\n",
    "        return x"
   ]
  },
  {
   "cell_type": "code",
   "execution_count": 56,
   "metadata": {},
   "outputs": [],
   "source": [
    "mynet = MyNet(in_channels = 3, out_channels = 12, kernel_size = 5, stride = 2, padding = 1)"
   ]
  },
  {
   "cell_type": "code",
   "execution_count": 57,
   "metadata": {},
   "outputs": [
    {
     "name": "stdout",
     "output_type": "stream",
     "text": [
      "MyNet(\n",
      "  (conv1): Conv2d(3, 12, kernel_size=(5, 5), stride=(1, 1), padding=(2, 2))\n",
      ")\n"
     ]
    }
   ],
   "source": [
    "print(mynet)"
   ]
  },
  {
   "cell_type": "code",
   "execution_count": 58,
   "metadata": {},
   "outputs": [
    {
     "name": "stdout",
     "output_type": "stream",
     "text": [
      "[Parameter containing:\n",
      "tensor([[[[ 0.0795, -0.0976, -0.0133,  0.0555,  0.0326],\n",
      "          [ 0.0297, -0.0397, -0.1002, -0.0518,  0.0422],\n",
      "          [-0.0729,  0.0295,  0.0272,  0.0671,  0.0111],\n",
      "          [-0.0918, -0.1007, -0.0795, -0.0767,  0.0880],\n",
      "          [-0.0053,  0.0968,  0.0829, -0.0126, -0.0127]],\n",
      "\n",
      "         [[ 0.0306,  0.0734, -0.0526, -0.0868, -0.0198],\n",
      "          [ 0.1075, -0.0404, -0.0423,  0.1097, -0.0553],\n",
      "          [-0.0541,  0.0497, -0.0396,  0.0013,  0.0855],\n",
      "          [-0.0440, -0.0237,  0.0382, -0.0048, -0.0561],\n",
      "          [ 0.0824,  0.0297, -0.0942, -0.0950,  0.0884]],\n",
      "\n",
      "         [[ 0.0599, -0.0888,  0.0803,  0.0697, -0.0684],\n",
      "          [ 0.0072, -0.0635,  0.0683,  0.1062, -0.0504],\n",
      "          [ 0.0297,  0.1040, -0.0433, -0.0726, -0.0607],\n",
      "          [-0.0647,  0.0513,  0.0313, -0.0224,  0.0392],\n",
      "          [ 0.0619,  0.0510, -0.0281,  0.1063,  0.0181]]],\n",
      "\n",
      "\n",
      "        [[[ 0.0449, -0.0663,  0.0083, -0.0125,  0.1106],\n",
      "          [-0.0403,  0.0553, -0.1018,  0.0447,  0.0554],\n",
      "          [ 0.1038, -0.0066,  0.1086,  0.0404,  0.0771],\n",
      "          [-0.0475,  0.0094,  0.0304, -0.0025, -0.0668],\n",
      "          [ 0.0441,  0.0236,  0.0080,  0.1012, -0.0458]],\n",
      "\n",
      "         [[-0.0172, -0.0005,  0.1048,  0.0376, -0.0697],\n",
      "          [ 0.0571, -0.0227, -0.0119,  0.0481,  0.0029],\n",
      "          [-0.0223,  0.0619,  0.0051, -0.0157,  0.0628],\n",
      "          [-0.1003,  0.0890, -0.1105, -0.0172,  0.0053],\n",
      "          [ 0.1041,  0.0621, -0.0183, -0.0470,  0.0271]],\n",
      "\n",
      "         [[-0.0481, -0.0140, -0.1044,  0.0322,  0.0494],\n",
      "          [-0.0362,  0.0885, -0.1125,  0.0250, -0.1028],\n",
      "          [ 0.0958,  0.0806,  0.0830,  0.1015, -0.0126],\n",
      "          [ 0.0226, -0.0325, -0.0404,  0.0245, -0.0051],\n",
      "          [ 0.0103, -0.0776, -0.1131,  0.0928,  0.0200]]],\n",
      "\n",
      "\n",
      "        [[[ 0.0865,  0.0080,  0.0932,  0.0081,  0.0926],\n",
      "          [-0.0251,  0.0179,  0.0132,  0.0312, -0.0846],\n",
      "          [ 0.0694, -0.0003,  0.0675,  0.0455,  0.0738],\n",
      "          [ 0.0389,  0.0414,  0.0710,  0.1032, -0.0074],\n",
      "          [ 0.0494, -0.0156,  0.0888, -0.0191, -0.0343]],\n",
      "\n",
      "         [[-0.0550,  0.0168, -0.0870,  0.0247,  0.0211],\n",
      "          [-0.0922, -0.0942,  0.0246, -0.0529, -0.0653],\n",
      "          [ 0.0221,  0.0957, -0.0321,  0.0260, -0.0191],\n",
      "          [-0.0948, -0.0975, -0.0560,  0.0737,  0.0793],\n",
      "          [-0.1046,  0.0643, -0.0465, -0.0151,  0.0356]],\n",
      "\n",
      "         [[-0.0233,  0.0330,  0.0307, -0.0987, -0.0966],\n",
      "          [-0.0966,  0.0580,  0.0760, -0.0392, -0.0910],\n",
      "          [ 0.0033, -0.0066, -0.0171,  0.0460, -0.0948],\n",
      "          [ 0.0360, -0.0223, -0.0103,  0.0819, -0.0317],\n",
      "          [-0.0176, -0.0989, -0.1033, -0.0407,  0.0610]]],\n",
      "\n",
      "\n",
      "        [[[ 0.0030,  0.0184, -0.0219,  0.0528, -0.0042],\n",
      "          [-0.0607, -0.0199,  0.0340,  0.0917,  0.0480],\n",
      "          [-0.0865, -0.0794, -0.0392, -0.0984, -0.0815],\n",
      "          [ 0.1085, -0.0209, -0.1026,  0.0791, -0.0405],\n",
      "          [ 0.0546, -0.0732,  0.0497, -0.0302, -0.0751]],\n",
      "\n",
      "         [[ 0.0561,  0.0603, -0.0703,  0.0056, -0.0702],\n",
      "          [ 0.0681,  0.0600,  0.1142, -0.0585, -0.0099],\n",
      "          [-0.0628,  0.1044, -0.0179,  0.0901,  0.0405],\n",
      "          [ 0.0853,  0.0952, -0.0957,  0.0539,  0.0347],\n",
      "          [ 0.0548, -0.0304, -0.0406,  0.0882, -0.0511]],\n",
      "\n",
      "         [[-0.0565, -0.0449, -0.0376,  0.0876,  0.0017],\n",
      "          [ 0.0778,  0.0717, -0.0311,  0.0262,  0.0384],\n",
      "          [ 0.0536, -0.1135,  0.0990,  0.0137, -0.0796],\n",
      "          [-0.0811, -0.0993,  0.0765, -0.0748,  0.0343],\n",
      "          [-0.1132, -0.1073,  0.0314,  0.0638, -0.0502]]],\n",
      "\n",
      "\n",
      "        [[[ 0.0793,  0.0630,  0.1027, -0.0647,  0.1154],\n",
      "          [-0.0700, -0.0535,  0.0656, -0.0605,  0.0651],\n",
      "          [ 0.0439, -0.1153,  0.0899,  0.0603, -0.0478],\n",
      "          [ 0.0992, -0.0363, -0.0358, -0.0863,  0.0390],\n",
      "          [ 0.0026, -0.0432,  0.1119, -0.0351, -0.0734]],\n",
      "\n",
      "         [[ 0.0304, -0.0184, -0.0038,  0.1134,  0.0108],\n",
      "          [-0.0044, -0.0264, -0.0529,  0.0409,  0.0506],\n",
      "          [ 0.0746, -0.0821, -0.0796,  0.0354,  0.0162],\n",
      "          [ 0.0776,  0.0804, -0.0278,  0.0123,  0.0194],\n",
      "          [ 0.1034,  0.0140, -0.0883,  0.0054,  0.0909]],\n",
      "\n",
      "         [[ 0.0501,  0.0982,  0.0747, -0.0099, -0.0687],\n",
      "          [ 0.0913, -0.0681, -0.0195, -0.1060, -0.0218],\n",
      "          [ 0.0026,  0.0307,  0.0558,  0.0045, -0.0316],\n",
      "          [ 0.0991, -0.0812,  0.0217, -0.1133, -0.1105],\n",
      "          [ 0.0283, -0.0056,  0.0652,  0.0050, -0.0825]]],\n",
      "\n",
      "\n",
      "        [[[ 0.0149,  0.0345,  0.0887,  0.0699,  0.0081],\n",
      "          [ 0.0784, -0.0483,  0.0740,  0.1103,  0.0245],\n",
      "          [-0.0542, -0.1130, -0.0313,  0.0401,  0.0509],\n",
      "          [ 0.0969,  0.0687, -0.0106,  0.0068,  0.0772],\n",
      "          [ 0.0675,  0.0090, -0.0562,  0.0101,  0.1052]],\n",
      "\n",
      "         [[-0.0027, -0.0654, -0.0980, -0.0357,  0.0052],\n",
      "          [ 0.0515, -0.0340, -0.0433, -0.0528, -0.0015],\n",
      "          [-0.0337,  0.0739, -0.0421, -0.0282, -0.1040],\n",
      "          [ 0.0243,  0.0041,  0.0194, -0.0412,  0.0971],\n",
      "          [ 0.0024,  0.1053, -0.0581,  0.0129, -0.0264]],\n",
      "\n",
      "         [[-0.0737,  0.0328,  0.0471,  0.0176,  0.1126],\n",
      "          [-0.0984,  0.0107, -0.0856,  0.0797, -0.0434],\n",
      "          [ 0.0257,  0.0826,  0.0275,  0.0323,  0.0400],\n",
      "          [-0.0327, -0.0435, -0.0021,  0.0685,  0.1011],\n",
      "          [ 0.0443, -0.0659, -0.0478, -0.0563,  0.1117]]],\n",
      "\n",
      "\n",
      "        [[[-0.0781,  0.0031,  0.0620, -0.0234, -0.0100],\n",
      "          [ 0.0274, -0.0236, -0.1032, -0.0728, -0.1073],\n",
      "          [ 0.1109,  0.0918, -0.0703, -0.0241, -0.0092],\n",
      "          [-0.0981,  0.0696,  0.1147,  0.0413, -0.0841],\n",
      "          [ 0.0832,  0.1021,  0.0587, -0.0695,  0.0895]],\n",
      "\n",
      "         [[ 0.0678,  0.1029, -0.0758, -0.0990, -0.0289],\n",
      "          [ 0.1066, -0.0346,  0.0077,  0.0133,  0.0698],\n",
      "          [ 0.1066, -0.0770, -0.0953, -0.0262, -0.0370],\n",
      "          [-0.1058,  0.1138, -0.0264,  0.0459, -0.0035],\n",
      "          [-0.0773, -0.1062,  0.0761,  0.0134,  0.1061]],\n",
      "\n",
      "         [[-0.0878, -0.0871,  0.0035,  0.0462,  0.0145],\n",
      "          [ 0.0909,  0.1034, -0.0609,  0.0268,  0.0966],\n",
      "          [ 0.0338, -0.0174, -0.0488, -0.0539,  0.0380],\n",
      "          [ 0.0318,  0.0660,  0.0937, -0.0990,  0.0827],\n",
      "          [-0.0746, -0.1089,  0.1027, -0.1033,  0.0241]]],\n",
      "\n",
      "\n",
      "        [[[-0.0495, -0.0369,  0.0876,  0.0845, -0.0524],\n",
      "          [ 0.0465, -0.0231, -0.0332,  0.0157,  0.0631],\n",
      "          [ 0.0535, -0.0629, -0.1058,  0.0004,  0.0829],\n",
      "          [-0.0998, -0.0641,  0.0475,  0.0920, -0.0609],\n",
      "          [ 0.1062, -0.0225, -0.0603,  0.0902,  0.0655]],\n",
      "\n",
      "         [[-0.0224,  0.0229,  0.0107,  0.0565,  0.0978],\n",
      "          [ 0.0946, -0.0028,  0.0679, -0.0856,  0.0105],\n",
      "          [ 0.0577, -0.0555,  0.0555,  0.0885, -0.0202],\n",
      "          [ 0.0561, -0.1131, -0.1154,  0.0109,  0.0800],\n",
      "          [ 0.0670, -0.1090, -0.0376,  0.0140, -0.0720]],\n",
      "\n",
      "         [[ 0.0976, -0.0963, -0.0379,  0.0795,  0.0946],\n",
      "          [-0.0488, -0.0809, -0.0935, -0.0488,  0.0617],\n",
      "          [-0.0973,  0.0624, -0.0865,  0.0170, -0.0216],\n",
      "          [ 0.0899,  0.0574, -0.0205,  0.0881, -0.0707],\n",
      "          [ 0.0259, -0.0924,  0.1124, -0.1053,  0.0364]]],\n",
      "\n",
      "\n",
      "        [[[ 0.1076, -0.0351, -0.1012,  0.0026,  0.0002],\n",
      "          [ 0.0956,  0.0625, -0.0956,  0.0606,  0.0967],\n",
      "          [-0.0018,  0.0084,  0.0950,  0.0908, -0.0454],\n",
      "          [-0.0441, -0.1107, -0.0589, -0.0406,  0.0209],\n",
      "          [ 0.0243,  0.0467, -0.0691,  0.0420,  0.0216]],\n",
      "\n",
      "         [[-0.0985,  0.0603,  0.0407, -0.0323,  0.0219],\n",
      "          [ 0.0274,  0.0631, -0.0412, -0.0476, -0.0882],\n",
      "          [ 0.0990, -0.0628,  0.0148, -0.0279,  0.0926],\n",
      "          [-0.0395, -0.1103,  0.0048,  0.0078,  0.0118],\n",
      "          [-0.0835,  0.0600, -0.1131,  0.1042,  0.1124]],\n",
      "\n",
      "         [[-0.0794, -0.0486, -0.0109, -0.0346,  0.1121],\n",
      "          [-0.0896, -0.0034,  0.0977, -0.0983, -0.0838],\n",
      "          [-0.1111, -0.0645, -0.0402, -0.0437, -0.0494],\n",
      "          [ 0.1133, -0.0819, -0.0248, -0.0335,  0.0744],\n",
      "          [ 0.1062,  0.0363, -0.0625, -0.0201, -0.0467]]],\n",
      "\n",
      "\n",
      "        [[[-0.0476,  0.0007, -0.0333,  0.0113, -0.0173],\n",
      "          [ 0.1148,  0.0199, -0.0009,  0.0249, -0.0808],\n",
      "          [-0.0397, -0.0127, -0.0526, -0.1069,  0.0141],\n",
      "          [-0.0766, -0.0437,  0.0746,  0.0698,  0.0386],\n",
      "          [-0.0128, -0.0301, -0.0664, -0.0628,  0.0099]],\n",
      "\n",
      "         [[ 0.1017,  0.1084,  0.0874, -0.0742, -0.0130],\n",
      "          [-0.0191, -0.0981,  0.0652,  0.0907, -0.0172],\n",
      "          [-0.0293,  0.0492, -0.0247,  0.0125, -0.0068],\n",
      "          [-0.0311,  0.0126,  0.0808,  0.1090, -0.0185],\n",
      "          [ 0.0099, -0.1032, -0.0367, -0.0300,  0.0408]],\n",
      "\n",
      "         [[-0.0720,  0.0431, -0.0731, -0.0284,  0.0711],\n",
      "          [-0.0165,  0.0156, -0.1020, -0.0643,  0.0433],\n",
      "          [-0.0820, -0.1011, -0.0637,  0.0034, -0.0849],\n",
      "          [-0.0610, -0.0151, -0.0631,  0.0202,  0.0446],\n",
      "          [-0.0278, -0.0157,  0.0829, -0.0320, -0.0253]]],\n",
      "\n",
      "\n",
      "        [[[ 0.0770,  0.1073,  0.0153, -0.0754, -0.0574],\n",
      "          [-0.0494,  0.0162,  0.0913, -0.0654, -0.0822],\n",
      "          [-0.0994, -0.0914,  0.0698, -0.0562, -0.0285],\n",
      "          [ 0.0772, -0.0307,  0.0744,  0.0999, -0.0063],\n",
      "          [-0.0224, -0.0753, -0.1138,  0.0019,  0.0349]],\n",
      "\n",
      "         [[ 0.0704,  0.0323, -0.0375, -0.0081,  0.1127],\n",
      "          [-0.0804, -0.0485, -0.0515, -0.1060, -0.0511],\n",
      "          [-0.0991, -0.0266,  0.0196,  0.0945,  0.0434],\n",
      "          [ 0.0356,  0.1101, -0.0206, -0.0846,  0.0691],\n",
      "          [-0.0500,  0.1003,  0.0283, -0.1124,  0.0646]],\n",
      "\n",
      "         [[ 0.0272,  0.0293, -0.1064, -0.0348,  0.0699],\n",
      "          [-0.0804, -0.0562,  0.0580,  0.0695,  0.0827],\n",
      "          [ 0.0870,  0.0556,  0.0743,  0.0452,  0.0273],\n",
      "          [-0.0803,  0.0280, -0.0404,  0.0273,  0.0161],\n",
      "          [-0.0185, -0.0422,  0.0661,  0.0856,  0.0519]]],\n",
      "\n",
      "\n",
      "        [[[-0.0390, -0.0690, -0.0796, -0.0474, -0.1115],\n",
      "          [ 0.0850,  0.0475,  0.0475, -0.0776,  0.0176],\n",
      "          [ 0.0597,  0.0178, -0.0832, -0.0495, -0.0962],\n",
      "          [-0.0888, -0.0175,  0.0625, -0.0875, -0.0635],\n",
      "          [-0.0698, -0.0479,  0.0460,  0.0875,  0.0777]],\n",
      "\n",
      "         [[-0.0668, -0.1037, -0.0329,  0.0462,  0.0476],\n",
      "          [ 0.1054, -0.0685,  0.0597, -0.0545,  0.1140],\n",
      "          [-0.1125,  0.0468, -0.0790,  0.0459,  0.0787],\n",
      "          [ 0.0647,  0.0854, -0.1063, -0.0060,  0.0067],\n",
      "          [-0.0465,  0.1153, -0.0543,  0.0348, -0.0436]],\n",
      "\n",
      "         [[-0.1085, -0.0293,  0.1141, -0.0880, -0.0295],\n",
      "          [ 0.1043, -0.0019, -0.0930, -0.1041, -0.0197],\n",
      "          [-0.0195, -0.0475,  0.0906,  0.0914,  0.0256],\n",
      "          [ 0.0725, -0.0731,  0.0907, -0.0171, -0.1052],\n",
      "          [ 0.0177, -0.0620, -0.0309, -0.0394, -0.0783]]]], requires_grad=True), Parameter containing:\n",
      "tensor([-0.0496, -0.0709,  0.0829,  0.0337, -0.0298, -0.0880, -0.0773,  0.0655,\n",
      "        -0.0902, -0.0351, -0.0168, -0.0272], requires_grad=True)]\n"
     ]
    }
   ],
   "source": [
    "mynet_params = list(mynet.parameters())\n",
    "print(mynet_params)"
   ]
  },
  {
   "cell_type": "code",
   "execution_count": 59,
   "metadata": {},
   "outputs": [
    {
     "name": "stdout",
     "output_type": "stream",
     "text": [
      "The length of the mynet parameter is: \n",
      "2\n"
     ]
    }
   ],
   "source": [
    "print(\"The length of the mynet parameter is: \")\n",
    "print(len(mynet_params))"
   ]
  },
  {
   "cell_type": "code",
   "execution_count": 60,
   "metadata": {},
   "outputs": [
    {
     "name": "stdout",
     "output_type": "stream",
     "text": [
      "The conv1's weight: \n",
      "torch.Size([12, 3, 5, 5])\n"
     ]
    }
   ],
   "source": [
    "print(\"The conv1's weight: \")\n",
    "print(mynet_params[0].size()) "
   ]
  },
  {
   "cell_type": "code",
   "execution_count": 61,
   "metadata": {},
   "outputs": [
    {
     "data": {
      "text/plain": [
       "<torch.cuda.device at 0x7f5bd2761da0>"
      ]
     },
     "execution_count": 61,
     "metadata": {},
     "output_type": "execute_result"
    }
   ],
   "source": [
    "current_device = torch.cuda.current_device()\n",
    "torch.cuda.device(current_device)"
   ]
  },
  {
   "cell_type": "code",
   "execution_count": 62,
   "metadata": {},
   "outputs": [
    {
     "data": {
      "text/plain": [
       "'GeForce GTX 1080 Ti'"
      ]
     },
     "execution_count": 62,
     "metadata": {},
     "output_type": "execute_result"
    }
   ],
   "source": [
    "torch.cuda.get_device_name(0)"
   ]
  },
  {
   "cell_type": "code",
   "execution_count": 63,
   "metadata": {},
   "outputs": [],
   "source": [
    "mynet = mynet.to(device)"
   ]
  },
  {
   "cell_type": "code",
   "execution_count": 64,
   "metadata": {},
   "outputs": [],
   "source": [
    "criterion = nn.NLLLoss()\n",
    "mylr = 0.05"
   ]
  },
  {
   "cell_type": "code",
   "execution_count": 65,
   "metadata": {},
   "outputs": [
    {
     "name": "stdout",
     "output_type": "stream",
     "text": [
      "torch.Size([1, 12, 1024, 1024])\n"
     ]
    },
    {
     "ename": "ValueError",
     "evalue": "Expected 2 or more dimensions (got 1)",
     "output_type": "error",
     "traceback": [
      "\u001b[0;31m---------------------------------------------------------------------------\u001b[0m",
      "\u001b[0;31mValueError\u001b[0m                                Traceback (most recent call last)",
      "\u001b[0;32m<ipython-input-65-aa8938ff950f>\u001b[0m in \u001b[0;36m<module>\u001b[0;34m\u001b[0m\n\u001b[1;32m     25\u001b[0m \u001b[0;34m\u001b[0m\u001b[0m\n\u001b[1;32m     26\u001b[0m         \u001b[0;31m# Define the loss\u001b[0m\u001b[0;34m\u001b[0m\u001b[0;34m\u001b[0m\u001b[0;34m\u001b[0m\u001b[0m\n\u001b[0;32m---> 27\u001b[0;31m         \u001b[0mloss\u001b[0m \u001b[0;34m=\u001b[0m \u001b[0mcriterion\u001b[0m\u001b[0;34m(\u001b[0m\u001b[0moutputs_flat\u001b[0m\u001b[0;34m,\u001b[0m \u001b[0mlabels_flat\u001b[0m\u001b[0;34m.\u001b[0m\u001b[0mcuda\u001b[0m\u001b[0;34m(\u001b[0m\u001b[0;34m)\u001b[0m\u001b[0;34m)\u001b[0m\u001b[0;34m\u001b[0m\u001b[0;34m\u001b[0m\u001b[0m\n\u001b[0m\u001b[1;32m     28\u001b[0m         \u001b[0mloss\u001b[0m\u001b[0;34m.\u001b[0m\u001b[0mbackward\u001b[0m\u001b[0;34m(\u001b[0m\u001b[0;34m)\u001b[0m\u001b[0;34m\u001b[0m\u001b[0;34m\u001b[0m\u001b[0m\n\u001b[1;32m     29\u001b[0m         \u001b[0moptimizer\u001b[0m\u001b[0;34m.\u001b[0m\u001b[0mstep\u001b[0m\u001b[0;34m(\u001b[0m\u001b[0;34m)\u001b[0m\u001b[0;34m\u001b[0m\u001b[0;34m\u001b[0m\u001b[0m\n",
      "\u001b[0;32m~/miniconda3/envs/deep_mol/lib/python3.6/site-packages/torch/nn/modules/module.py\u001b[0m in \u001b[0;36m__call__\u001b[0;34m(self, *input, **kwargs)\u001b[0m\n\u001b[1;32m    487\u001b[0m             \u001b[0mresult\u001b[0m \u001b[0;34m=\u001b[0m \u001b[0mself\u001b[0m\u001b[0;34m.\u001b[0m\u001b[0m_slow_forward\u001b[0m\u001b[0;34m(\u001b[0m\u001b[0;34m*\u001b[0m\u001b[0minput\u001b[0m\u001b[0;34m,\u001b[0m \u001b[0;34m**\u001b[0m\u001b[0mkwargs\u001b[0m\u001b[0;34m)\u001b[0m\u001b[0;34m\u001b[0m\u001b[0;34m\u001b[0m\u001b[0m\n\u001b[1;32m    488\u001b[0m         \u001b[0;32melse\u001b[0m\u001b[0;34m:\u001b[0m\u001b[0;34m\u001b[0m\u001b[0;34m\u001b[0m\u001b[0m\n\u001b[0;32m--> 489\u001b[0;31m             \u001b[0mresult\u001b[0m \u001b[0;34m=\u001b[0m \u001b[0mself\u001b[0m\u001b[0;34m.\u001b[0m\u001b[0mforward\u001b[0m\u001b[0;34m(\u001b[0m\u001b[0;34m*\u001b[0m\u001b[0minput\u001b[0m\u001b[0;34m,\u001b[0m \u001b[0;34m**\u001b[0m\u001b[0mkwargs\u001b[0m\u001b[0;34m)\u001b[0m\u001b[0;34m\u001b[0m\u001b[0;34m\u001b[0m\u001b[0m\n\u001b[0m\u001b[1;32m    490\u001b[0m         \u001b[0;32mfor\u001b[0m \u001b[0mhook\u001b[0m \u001b[0;32min\u001b[0m \u001b[0mself\u001b[0m\u001b[0;34m.\u001b[0m\u001b[0m_forward_hooks\u001b[0m\u001b[0;34m.\u001b[0m\u001b[0mvalues\u001b[0m\u001b[0;34m(\u001b[0m\u001b[0;34m)\u001b[0m\u001b[0;34m:\u001b[0m\u001b[0;34m\u001b[0m\u001b[0;34m\u001b[0m\u001b[0m\n\u001b[1;32m    491\u001b[0m             \u001b[0mhook_result\u001b[0m \u001b[0;34m=\u001b[0m \u001b[0mhook\u001b[0m\u001b[0;34m(\u001b[0m\u001b[0mself\u001b[0m\u001b[0;34m,\u001b[0m \u001b[0minput\u001b[0m\u001b[0;34m,\u001b[0m \u001b[0mresult\u001b[0m\u001b[0;34m)\u001b[0m\u001b[0;34m\u001b[0m\u001b[0;34m\u001b[0m\u001b[0m\n",
      "\u001b[0;32m~/miniconda3/envs/deep_mol/lib/python3.6/site-packages/torch/nn/modules/loss.py\u001b[0m in \u001b[0;36mforward\u001b[0;34m(self, input, target)\u001b[0m\n\u001b[1;32m    208\u001b[0m     \u001b[0;34m@\u001b[0m\u001b[0mweak_script_method\u001b[0m\u001b[0;34m\u001b[0m\u001b[0;34m\u001b[0m\u001b[0m\n\u001b[1;32m    209\u001b[0m     \u001b[0;32mdef\u001b[0m \u001b[0mforward\u001b[0m\u001b[0;34m(\u001b[0m\u001b[0mself\u001b[0m\u001b[0;34m,\u001b[0m \u001b[0minput\u001b[0m\u001b[0;34m,\u001b[0m \u001b[0mtarget\u001b[0m\u001b[0;34m)\u001b[0m\u001b[0;34m:\u001b[0m\u001b[0;34m\u001b[0m\u001b[0;34m\u001b[0m\u001b[0m\n\u001b[0;32m--> 210\u001b[0;31m         \u001b[0;32mreturn\u001b[0m \u001b[0mF\u001b[0m\u001b[0;34m.\u001b[0m\u001b[0mnll_loss\u001b[0m\u001b[0;34m(\u001b[0m\u001b[0minput\u001b[0m\u001b[0;34m,\u001b[0m \u001b[0mtarget\u001b[0m\u001b[0;34m,\u001b[0m \u001b[0mweight\u001b[0m\u001b[0;34m=\u001b[0m\u001b[0mself\u001b[0m\u001b[0;34m.\u001b[0m\u001b[0mweight\u001b[0m\u001b[0;34m,\u001b[0m \u001b[0mignore_index\u001b[0m\u001b[0;34m=\u001b[0m\u001b[0mself\u001b[0m\u001b[0;34m.\u001b[0m\u001b[0mignore_index\u001b[0m\u001b[0;34m,\u001b[0m \u001b[0mreduction\u001b[0m\u001b[0;34m=\u001b[0m\u001b[0mself\u001b[0m\u001b[0;34m.\u001b[0m\u001b[0mreduction\u001b[0m\u001b[0;34m)\u001b[0m\u001b[0;34m\u001b[0m\u001b[0;34m\u001b[0m\u001b[0m\n\u001b[0m\u001b[1;32m    211\u001b[0m \u001b[0;34m\u001b[0m\u001b[0m\n\u001b[1;32m    212\u001b[0m \u001b[0;34m\u001b[0m\u001b[0m\n",
      "\u001b[0;32m~/miniconda3/envs/deep_mol/lib/python3.6/site-packages/torch/nn/functional.py\u001b[0m in \u001b[0;36mnll_loss\u001b[0;34m(input, target, weight, size_average, ignore_index, reduce, reduction)\u001b[0m\n\u001b[1;32m   1782\u001b[0m     \u001b[0mdim\u001b[0m \u001b[0;34m=\u001b[0m \u001b[0minput\u001b[0m\u001b[0;34m.\u001b[0m\u001b[0mdim\u001b[0m\u001b[0;34m(\u001b[0m\u001b[0;34m)\u001b[0m\u001b[0;34m\u001b[0m\u001b[0;34m\u001b[0m\u001b[0m\n\u001b[1;32m   1783\u001b[0m     \u001b[0;32mif\u001b[0m \u001b[0mdim\u001b[0m \u001b[0;34m<\u001b[0m \u001b[0;36m2\u001b[0m\u001b[0;34m:\u001b[0m\u001b[0;34m\u001b[0m\u001b[0;34m\u001b[0m\u001b[0m\n\u001b[0;32m-> 1784\u001b[0;31m         \u001b[0;32mraise\u001b[0m \u001b[0mValueError\u001b[0m\u001b[0;34m(\u001b[0m\u001b[0;34m'Expected 2 or more dimensions (got {})'\u001b[0m\u001b[0;34m.\u001b[0m\u001b[0mformat\u001b[0m\u001b[0;34m(\u001b[0m\u001b[0mdim\u001b[0m\u001b[0;34m)\u001b[0m\u001b[0;34m)\u001b[0m\u001b[0;34m\u001b[0m\u001b[0;34m\u001b[0m\u001b[0m\n\u001b[0m\u001b[1;32m   1785\u001b[0m \u001b[0;34m\u001b[0m\u001b[0m\n\u001b[1;32m   1786\u001b[0m     \u001b[0;32mif\u001b[0m \u001b[0minput\u001b[0m\u001b[0;34m.\u001b[0m\u001b[0msize\u001b[0m\u001b[0;34m(\u001b[0m\u001b[0;36m0\u001b[0m\u001b[0;34m)\u001b[0m \u001b[0;34m!=\u001b[0m \u001b[0mtarget\u001b[0m\u001b[0;34m.\u001b[0m\u001b[0msize\u001b[0m\u001b[0;34m(\u001b[0m\u001b[0;36m0\u001b[0m\u001b[0;34m)\u001b[0m\u001b[0;34m:\u001b[0m\u001b[0;34m\u001b[0m\u001b[0;34m\u001b[0m\u001b[0m\n",
      "\u001b[0;31mValueError\u001b[0m: Expected 2 or more dimensions (got 1)"
     ]
    }
   ],
   "source": [
    "for epoch in range(20):\n",
    "    # loop over the dataset 1 times\n",
    "    running_loss = 0.0\n",
    "    if epoch%5==4:\n",
    "        mylr = mylr/5\n",
    "    optimizer = optim.SGD(mynet.parameters(), lr=mylr)\n",
    "    \n",
    "    for i_batch, sample_batched in enumerate(dataloader):\n",
    "        \n",
    "        #get the inputs\n",
    "        inputs, mask = sample_batched['image'], sample_batched['mask']\n",
    "        \n",
    "        inputs_float = inputs.type(torch.FloatTensor)\n",
    "        mask_float = mask.type(torch.FloatTensor)\n",
    "        \n",
    "        #zero the parameter gradients\n",
    "        optimizer.zero_grad()\n",
    "        \n",
    "        #forward + backward +optimize\n",
    "        outputs = mynet(inputs_float.cuda())\n",
    "        print(outputs.shape)\n",
    "        \n",
    "        outputs_flat = outputs.view(-1)\n",
    "        labels_flat = labels_float.view(-1)\n",
    "    \n",
    "        # Define the loss\n",
    "        loss = criterion(outputs_flat, labels_flat.cuda())      \n",
    "        loss.backward()\n",
    "        optimizer.step()\n",
    "        \n",
    "        #print statistics\n",
    "        running_loss += loss.item()\n",
    "        if i_batch%20 == 19: \n",
    "            # print every 20 mini-batchs\n",
    "            print('[%d, %5f] loss: %.3f'%(epoch +1, i_batch+1, running_loss/20))\n",
    "            running_loss = 0.0\n",
    "print('Finish Training')"
   ]
  },
  {
   "cell_type": "code",
   "execution_count": null,
   "metadata": {},
   "outputs": [],
   "source": []
  },
  {
   "cell_type": "code",
   "execution_count": null,
   "metadata": {},
   "outputs": [],
   "source": []
  },
  {
   "cell_type": "code",
   "execution_count": null,
   "metadata": {},
   "outputs": [],
   "source": []
  },
  {
   "cell_type": "code",
   "execution_count": null,
   "metadata": {},
   "outputs": [],
   "source": []
  }
 ],
 "metadata": {
  "kernelspec": {
   "display_name": "Python 3",
   "language": "python",
   "name": "python3"
  },
  "language_info": {
   "codemirror_mode": {
    "name": "ipython",
    "version": 3
   },
   "file_extension": ".py",
   "mimetype": "text/x-python",
   "name": "python",
   "nbconvert_exporter": "python",
   "pygments_lexer": "ipython3",
   "version": "3.6.7"
  }
 },
 "nbformat": 4,
 "nbformat_minor": 2
}
