{
 "cells": [
  {
   "cell_type": "code",
   "execution_count": 1,
   "metadata": {},
   "outputs": [],
   "source": [
    "import torch\n",
    "import torch.nn as nn\n",
    "import torch.optim as optim\n",
    "import torch.nn.functional as F\n",
    "import os\n",
    "from torch.utils.data import Dataset, DataLoader\n",
    "import matplotlib.pyplot as plt\n",
    "from skimage import io\n",
    "import utils_xy\n",
    "from torchvision import transforms, utils\n",
    "import numpy as np\n",
    "from PIL import Image\n",
    "from random import randint\n",
    "import time"
   ]
  },
  {
   "cell_type": "code",
   "execution_count": 2,
   "metadata": {},
   "outputs": [
    {
     "name": "stdout",
     "output_type": "stream",
     "text": [
      "cuda\n"
     ]
    }
   ],
   "source": [
    "gpu_id = 1\n",
    "os.environ[\"CUDA_DEVICE_ORDER\"] = \"PCI_BUS_ID\"\n",
    "os.environ[\"CUDA_VISIBLE_DEVICES\"] = str(gpu_id)\n",
    "\n",
    "device = torch.device('cuda')\n",
    "print (device)"
   ]
  },
  {
   "cell_type": "code",
   "execution_count": 3,
   "metadata": {},
   "outputs": [],
   "source": [
    "class DenseBlock(nn.Module):\n",
    "    '''\n",
    "    param:\n",
    "    in_channel, out_channel\n",
    "    '''\n",
    "\n",
    "    def __init__(self, in_channel, out_channel):\n",
    "        super(DenseBlock, self).__init__()\n",
    "        self.block1 = nn.Sequential(\n",
    "            nn.Conv2d(in_channel, out_channel, kernel_size = 5, padding = 2 ),\n",
    "            nn.BatchNorm2d(out_channel),\n",
    "            nn.PReLU()          \n",
    "        )\n",
    "        \n",
    "        self.block2 = nn.Sequential(\n",
    "            nn.Conv2d(out_channel+in_channel, out_channel, kernel_size = 5, padding = 2 ),\n",
    "            nn.BatchNorm2d(out_channel),\n",
    "            nn.PReLU() \n",
    "        )\n",
    "        \n",
    "        self.outconv = nn.Conv2d(2*out_channel+in_channel, out_channel, kernel_size = 1)\n",
    "        \n",
    "    def forward(self, x):\n",
    "        x1 = self.block1(x)\n",
    "        x2 = torch.cat((x, x1), dim=1)\n",
    "        x3 = self.block2(x2)\n",
    "        x4 = torch.cat((x,x1,x3), dim=1)\n",
    "        \n",
    "        out = self.outconv(x4)\n",
    "        \n",
    "        return out"
   ]
  },
  {
   "cell_type": "code",
   "execution_count": 4,
   "metadata": {},
   "outputs": [],
   "source": [
    "class down(nn.Module):\n",
    "    def __init__(self, in_channel, out_channel):\n",
    "        super(down, self).__init__()\n",
    "        self.maxpool = nn.MaxPool2d(2, stride = 2, return_indices=True)\n",
    "        self.conv = DenseBlock(in_channel, out_channel)     \n",
    "                   \n",
    "    def forward(self, x):\n",
    "        x1, indices = self.maxpool(x)\n",
    "        x1 = self.conv(x1)\n",
    "        return x1, indices"
   ]
  },
  {
   "cell_type": "code",
   "execution_count": 5,
   "metadata": {},
   "outputs": [],
   "source": [
    "class BottleNeck(nn.Module):\n",
    "    def __init__(self, in_channel, out_channel):\n",
    "        super(BottleNeck, self).__init__()\n",
    "        \n",
    "        self.pool = nn.MaxPool2d(2, stride = 2, return_indices=True)\n",
    "        self.conv = nn.Conv2d(in_channel, out_channel, kernel_size = 5, padding = 2)\n",
    "        self.BatchNorm = nn.BatchNorm2d(out_channel)\n",
    "       \n",
    "    def forward(self,x):\n",
    "        x , indices = self.pool(x)\n",
    "        x = self.conv(x)\n",
    "        x = self.BatchNorm(x)\n",
    "        return x, indices"
   ]
  },
  {
   "cell_type": "code",
   "execution_count": 6,
   "metadata": {},
   "outputs": [],
   "source": [
    "class up(nn.Module):\n",
    "    def __init__(self, in_channel, out_channel ):\n",
    "        super(up, self).__init__()\n",
    "        self.unpool = nn.MaxUnpool2d(2, stride=2)\n",
    "        self.conv = DenseBlock(in_channel*2, out_channel)\n",
    "      \n",
    "    \n",
    "    def forward(self, x1, x2, indice = None, output_size=None):\n",
    "        x1 = self.unpool(x1, indice, output_size)\n",
    "        x = torch.cat([x1,x2], dim = 1)\n",
    "        x = self.conv(x)\n",
    "        \n",
    "        return x"
   ]
  },
  {
   "cell_type": "code",
   "execution_count": 7,
   "metadata": {},
   "outputs": [],
   "source": [
    "class OutConv(nn.Module):\n",
    "    def __init__(self, in_channel, out_classes):\n",
    "        super(OutConv, self).__init__()\n",
    "        self.conv = nn.Conv2d(in_channel, out_classes, 1)\n",
    "    def forward(self,x):\n",
    "        x = self.conv(x)\n",
    "        return x"
   ]
  },
  {
   "cell_type": "code",
   "execution_count": 8,
   "metadata": {},
   "outputs": [],
   "source": [
    "class Encoder(nn.Module):\n",
    "    def __init__(self, in_channel, num_channel):\n",
    "        super(Encoder, self).__init__()\n",
    "        self.conv_in = DenseBlock(in_channel, num_channel)\n",
    "        \n",
    "        self.down1 = down(num_channel, num_channel)\n",
    "        self.down2 = down(num_channel, num_channel)\n",
    "        self.down3 = down(num_channel, num_channel) \n",
    "        \n",
    "        self.BottleNeck = BottleNeck(num_channel, num_channel)\n",
    "    def forward(self, x):\n",
    "        x1 = self.conv_in(x)\n",
    "        \n",
    "        x2, idx1 = self.down1(x1)\n",
    "        x3, idx2 = self.down2(x2)\n",
    "        x4, idx3 = self.down3(x3)\n",
    "        x5, idx4 = self.BottleNeck(x4)\n",
    "        \n",
    "        return x5, x4, x3, x2, x1, idx1, idx2, idx3, idx4"
   ]
  },
  {
   "cell_type": "code",
   "execution_count": 9,
   "metadata": {},
   "outputs": [],
   "source": [
    "class Decoder(nn.Module):\n",
    "    def __init__(self, in_channel, out_class):\n",
    "        super(Decoder, self).__init__()\n",
    "        \n",
    "        self.up1 = up(in_channel, in_channel)\n",
    "        self.up2 = up(in_channel, in_channel)\n",
    "        self.up3 = up(in_channel, in_channel)\n",
    "        self.up4 = up(in_channel, in_channel)\n",
    "        self.conv_out = OutConv(in_channel, out_class)\n",
    "\n",
    "    \n",
    "    def forward(self,x, idx1, idx2, idx3, idx4, x4,x3,x2,x1):\n",
    "        x = self.up1.forward(x,x4,idx4)\n",
    "        x = self.up2.forward(x,x3,idx3)\n",
    "        x = self.up3.forward(x,x2,idx2)\n",
    "        x = self.up4.forward(x,x1,idx1)\n",
    "        x = self.conv_out(x)\n",
    "        x = F.log_softmax(x, dim =1)\n",
    "        return x       "
   ]
  },
  {
   "cell_type": "code",
   "execution_count": 10,
   "metadata": {},
   "outputs": [],
   "source": [
    "class QuickNAT(nn.Module):\n",
    "    def __init__(self, in_channel, num_channel, out_class):\n",
    "        super(QuickNAT, self).__init__()\n",
    "        self.in_channel = in_channel\n",
    "        self.num_channel = num_channel\n",
    "        self.out_class = out_class\n",
    "        self.encoder = Encoder(self.in_channel, self.num_channel)\n",
    "        self.decoder = Decoder(self.num_channel, self.out_class)\n",
    "        \n",
    "    def forward(self,x):\n",
    "        x5, x4, x3, x2, x1, idx1, idx2, idx3, idx4 = self.encoder(x)\n",
    "        x = self.decoder.forward(x5, idx1, idx2, idx3, idx4, x4,x3,x2,x1)\n",
    "        return x"
   ]
  },
  {
   "cell_type": "code",
   "execution_count": null,
   "metadata": {},
   "outputs": [],
   "source": []
  },
  {
   "cell_type": "code",
   "execution_count": null,
   "metadata": {},
   "outputs": [],
   "source": []
  },
  {
   "cell_type": "code",
   "execution_count": null,
   "metadata": {},
   "outputs": [],
   "source": []
  },
  {
   "cell_type": "code",
   "execution_count": null,
   "metadata": {},
   "outputs": [],
   "source": []
  }
 ],
 "metadata": {
  "kernelspec": {
   "display_name": "Python 3",
   "language": "python",
   "name": "python3"
  },
  "language_info": {
   "codemirror_mode": {
    "name": "ipython",
    "version": 3
   },
   "file_extension": ".py",
   "mimetype": "text/x-python",
   "name": "python",
   "nbconvert_exporter": "python",
   "pygments_lexer": "ipython3",
   "version": "3.6.7"
  }
 },
 "nbformat": 4,
 "nbformat_minor": 2
}
