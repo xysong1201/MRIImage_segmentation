{
 "cells": [
  {
   "cell_type": "code",
   "execution_count": 1,
   "metadata": {},
   "outputs": [],
   "source": [
    "import os\n",
    "import torch\n",
    "import matplotlib.pyplot as plt\n",
    "from skimage import io, transform\n",
    "from torchvision import transforms, utils\n",
    "import numpy as np\n",
    "import nibabel as nib\n",
    "from random import randint\n",
    "from PIL import Image"
   ]
  },
  {
   "cell_type": "code",
   "execution_count": 2,
   "metadata": {},
   "outputs": [
    {
     "name": "stdout",
     "output_type": "stream",
     "text": [
      "Parc4 num:\n",
      "330\n"
     ]
    }
   ],
   "source": [
    "parc4_dir = '/home/xiaoyu/mri_data/parc4'\n",
    "parc4_list = os.listdir(parc4_dir)\n",
    "print('Parc4 num:')\n",
    "print(len(parc4_list))"
   ]
  },
  {
   "cell_type": "code",
   "execution_count": 3,
   "metadata": {},
   "outputs": [],
   "source": [
    "# iterate over 330 parcellation scale-4 data\n",
    "for i in range(330):\n",
    "    parc4_str = parc4_list[i]\n",
    "    parc4_nifti = nib.load(os.path.join(parc4_dir,parc4_str))\n",
    "    parc4_arr = parc4_nifti.get_fdata()\n",
    "    parc4_tensor = torch.from_numpy(parc4_arr)\n",
    "\n",
    "    for j in range(182):\n",
    "        axial_slice = parc4_tensor[:,:,j]\n",
    "        axial_arr = axial_slice.byte().numpy()\n",
    "        axial_im = Image.fromarray(axial_arr)\n",
    "        axial_im.save('/home/xiaoyu/MRIdata/parc_4/axial/sub{}/slice_{}.jpg'.format(i,j))\n",
    "    for k in range(217):\n",
    "        sagittal_slice = parc4_tensor[:,k,:]\n",
    "        sagittal_arr = sagittal_slice.byte().numpy()\n",
    "        sagittal_im = Image.fromarray(sagittal_arr)\n",
    "        sagittal_im.save('/home/xiaoyu/MRIdata/parc_4/sagittal/sub{}/slice_{}.jpg'.format(i,k))\n",
    "    for m in range(182):\n",
    "        coronal_slice = parc4_tensor[m,:,:]\n",
    "        coronal_arr = coronal_slice.byte().numpy()\n",
    "        coronal_im = Image.fromarray(coronal_arr)\n",
    "        coronal_im.save('/home/xiaoyu/MRIdata/parc_4/coronal/sub{}/slice_{}.jpg'.format(i,m))\n"
   ]
  },
  {
   "cell_type": "code",
   "execution_count": null,
   "metadata": {},
   "outputs": [],
   "source": []
  }
 ],
 "metadata": {
  "kernelspec": {
   "display_name": "Python 3",
   "language": "python",
   "name": "python3"
  },
  "language_info": {
   "codemirror_mode": {
    "name": "ipython",
    "version": 3
   },
   "file_extension": ".py",
   "mimetype": "text/x-python",
   "name": "python",
   "nbconvert_exporter": "python",
   "pygments_lexer": "ipython3",
   "version": "3.6.7"
  }
 },
 "nbformat": 4,
 "nbformat_minor": 2
}
