{
 "cells": [
  {
   "cell_type": "code",
   "execution_count": 1,
   "metadata": {},
   "outputs": [],
   "source": [
    "import torch\n",
    "import numpy as np\n",
    "import os.path\n",
    "import utils\n",
    "import time\n",
    "\n",
    "import torch.nn as nn\n",
    "import torch.nn.functional as F\n",
    "import torch.optim as optim"
   ]
  },
  {
   "cell_type": "markdown",
   "metadata": {},
   "source": [
    "### Download the CIFAR dataset \n",
    "* 50000 32 * 32 RGB training image \n",
    "* 10000 32 * 32 RGB test image"
   ]
  },
  {
   "cell_type": "code",
   "execution_count": 2,
   "metadata": {},
   "outputs": [
    {
     "name": "stdout",
     "output_type": "stream",
     "text": [
      "torch.Size([50000, 3, 32, 32])\n",
      "torch.Size([50000])\n",
      "torch.Size([10000, 3, 32, 32])\n"
     ]
    }
   ],
   "source": [
    "from utils import check_cifar_dataset_exists\n",
    "data_path=check_cifar_dataset_exists()\n",
    "\n",
    "train_data=torch.load(data_path+'cifar/train_data.pt')\n",
    "train_label=torch.load(data_path+'cifar/train_label.pt')\n",
    "test_data=torch.load(data_path+'cifar/test_data.pt')\n",
    "test_label=torch.load(data_path+'cifar/test_label.pt')\n",
    "\n",
    "print(train_data.size())\n",
    "print(train_label.size())\n",
    "print(test_data.size())"
   ]
  },
  {
   "cell_type": "markdown",
   "metadata": {},
   "source": [
    "### Compute average pixel intensity over all training set and all channels"
   ]
  },
  {
   "cell_type": "code",
   "execution_count": 3,
   "metadata": {},
   "outputs": [
    {
     "name": "stdout",
     "output_type": "stream",
     "text": [
      "tensor(0.4733)\n"
     ]
    }
   ],
   "source": [
    "mean= train_data.mean()\n",
    "\n",
    "print(mean)"
   ]
  },
  {
   "cell_type": "markdown",
   "metadata": {},
   "source": [
    "### Compute standard deviation"
   ]
  },
  {
   "cell_type": "code",
   "execution_count": 4,
   "metadata": {},
   "outputs": [
    {
     "name": "stdout",
     "output_type": "stream",
     "text": [
      "tensor(0.2516)\n"
     ]
    }
   ],
   "source": [
    "std= train_data.std()\n",
    "\n",
    "print(std)"
   ]
  },
  {
   "cell_type": "markdown",
   "metadata": {},
   "source": [
    "### Make a Resnet convnet Class"
   ]
  },
  {
   "cell_type": "code",
   "execution_count": null,
   "metadata": {},
   "outputs": [],
   "source": [
    "# The BasicBlock is the repeated block in Resnet.\n",
    "class BasicBlock(nn.Module):\n",
    "    \n",
    "    def __init__(self, in_channels):\n",
    "        super().__init__()\n",
    "        \n",
    "        # block 1 :  channel x 32 x 32 -> channel x 32 x 32 -> channel x 32 x 32 (2 layers)\n",
    "        self.residual_function = nn.Sequential(\n",
    "            nn.Conv2d(in_channels, in_channels, kernel_size=3, stride=1, padding=1, bias=False),\n",
    "            nn.BatchNorm2d(in_channels),\n",
    "            nn.ReLU(inplace = True),\n",
    "            nn.Conv2d(in_channels,in_channels, kernel_size=3, stride = 1, padding=1, bias=False),\n",
    "            nn.BatchNorm2d(in_channels)\n",
    "        )\n",
    "\n",
    "        # identity shorcut\n",
    "        self.shortcut = nn.Sequential()\n",
    "        \n",
    "    def forward(self, x):\n",
    "        return nn.ReLU(inplace=True)(self.residual_function(x) + self.shortcut(x))  "
   ]
  },
  {
   "cell_type": "code",
   "execution_count": null,
   "metadata": {},
   "outputs": [],
   "source": [
    "class ResNet(nn.Module):\n",
    "\n",
    "    def __init__(self, num_classes=10):\n",
    "        super().__init__()\n",
    "        \n",
    "        # income conv \n",
    "        self.conv1 = nn.Sequential(\n",
    "            nn.Conv2d(3, 16, kernel_size=3, padding=1, stride = 1, bias = False),\n",
    "            nn.BatchNorm2d(16),\n",
    "            nn.ReLU(inplace=True))\n",
    "        \n",
    "        self.conv2 = BasicBlock(16)\n",
    "        self.conv2_1 = BasicBlock(16)\n",
    "        self.conv2_2 = BasicBlock(16)\n",
    "        \n",
    "        self.conv3 = nn.Conv2d(16, 32, kernel_size = 3, stride = 2, padding = 1) # subsampling using a stride of 2.\n",
    "        self.conv4 = BasicBlock(32)\n",
    "        self.conv4_1 = BasicBlock(32)\n",
    "        self.conv4_2 = BasicBlock(32)\n",
    "        \n",
    "        self.conv5 = nn.Conv2d(32, 64, kernel_size = 3, stride = 2, padding = 1) # subsampling\n",
    "        self.conv6 = BasicBlock(64)\n",
    "        self.conv6_1 = BasicBlock(64)\n",
    "        self.conv6_2 = BasicBlock(64)\n",
    "        \n",
    "#         self.avg_pool = nn.AdaptiveAvgPool2d((8, 8))\n",
    "\n",
    "        # linear layers:   64 x 8 x 8 --> 4096 --> 10\n",
    "        self.fc = nn.Linear(4096, 10)\n",
    "        \n",
    "\n",
    "    def forward(self, x):\n",
    "        output = self.conv1(x)\n",
    "        \n",
    "        output = self.conv2(output)\n",
    "        output = self.conv2_1(output)\n",
    "        output = self.conv2_2(output)\n",
    "        \n",
    "        output = self.conv3(output)\n",
    "        \n",
    "        output = self.conv4(output)\n",
    "        output = self.conv4_1(output)\n",
    "        output = self.conv4_2(output)\n",
    "        \n",
    "        output = self.conv5(output)\n",
    "        \n",
    "        output = self.conv6(output)\n",
    "        output = self.conv6_1(output)\n",
    "        output = self.conv6_2(output)\n",
    "        output = output.view(output.size(0), -1)\n",
    "        # bs x 4096 ->  bs * 10\n",
    "#         print(output.size())\n",
    "\n",
    "        x = self.fc(output)\n",
    "        x = F.log_softmax(x, dim =1)\n",
    "\n",
    "        return x "
   ]
  },
  {
   "cell_type": "code",
   "execution_count": null,
   "metadata": {},
   "outputs": [],
   "source": [
    "model = ResNet()\n",
    "# print(model)"
   ]
  },
  {
   "cell_type": "code",
   "execution_count": null,
   "metadata": {},
   "outputs": [
    {
     "name": "stdout",
     "output_type": "stream",
     "text": [
      "There are 356218 (0.36 million) parameters in this neural network\n"
     ]
    }
   ],
   "source": [
    "utils.display_num_param(model)"
   ]
  },
  {
   "cell_type": "code",
   "execution_count": null,
   "metadata": {},
   "outputs": [
    {
     "name": "stdout",
     "output_type": "stream",
     "text": [
      "torch.Size([5, 10])\n"
     ]
    }
   ],
   "source": [
    "bs=5\n",
    "x=torch.rand(bs,3,32,32)\n",
    "y = model(x)\n",
    "print(y.size())"
   ]
  },
  {
   "cell_type": "markdown",
   "metadata": {},
   "source": [
    "### Put the network to GPU"
   ]
  },
  {
   "cell_type": "code",
   "execution_count": null,
   "metadata": {},
   "outputs": [
    {
     "name": "stdout",
     "output_type": "stream",
     "text": [
      "cuda\n"
     ]
    }
   ],
   "source": [
    "gpu_id = 0\n",
    "os.environ[\"CUDA_DEVICE_ORDER\"] = \"PCI_BUS_ID\"\n",
    "os.environ[\"CUDA_VISIBLE_DEVICES\"] = str(gpu_id)\n",
    "\n",
    "device = torch.device('cuda')\n",
    "print(device)"
   ]
  },
  {
   "cell_type": "markdown",
   "metadata": {},
   "source": [
    "### Send the weights of the networks to the GPU (as well as the mean and std)"
   ]
  },
  {
   "cell_type": "code",
   "execution_count": null,
   "metadata": {},
   "outputs": [],
   "source": [
    "model = model.to(device)\n",
    "\n",
    "mean=mean.to(device)\n",
    "\n",
    "std=std.to(device)"
   ]
  },
  {
   "cell_type": "markdown",
   "metadata": {},
   "source": [
    "### Choose the criterion, learning rate, and batch size."
   ]
  },
  {
   "cell_type": "code",
   "execution_count": null,
   "metadata": {},
   "outputs": [],
   "source": [
    "criterion = nn.NLLLoss()\n",
    "\n",
    "my_lr=0.1 \n",
    "\n",
    "bs= 128"
   ]
  },
  {
   "cell_type": "markdown",
   "metadata": {},
   "source": [
    "### Function to evaluate the network on the test set"
   ]
  },
  {
   "cell_type": "code",
   "execution_count": null,
   "metadata": {},
   "outputs": [],
   "source": [
    "def eval_on_test_set():\n",
    "\n",
    "    running_error=0\n",
    "    num_batches=0\n",
    "\n",
    "    for i in range(0,10000,bs):\n",
    "\n",
    "        minibatch_data =  test_data[i:i+bs]\n",
    "        minibatch_label = test_label[i:i+bs]\n",
    "\n",
    "        minibatch_data=minibatch_data.to(device)\n",
    "        minibatch_label=minibatch_label.to(device)\n",
    "        \n",
    "        inputs = (minibatch_data - mean)/std\n",
    "\n",
    "        scores=model( inputs ) \n",
    "\n",
    "        error = utils.get_error( scores , minibatch_label)\n",
    "\n",
    "        running_error += error.item()\n",
    "\n",
    "        num_batches+=1\n",
    "\n",
    "    total_error = running_error/num_batches\n",
    "    print( 'error rate on test set =', total_error*100 ,'percent')"
   ]
  },
  {
   "cell_type": "markdown",
   "metadata": {},
   "source": [
    "### Do 64k passes through the training set. Divide the learning rate by 10 at epoch 32k and 48k"
   ]
  },
  {
   "cell_type": "code",
   "execution_count": null,
   "metadata": {},
   "outputs": [
    {
     "name": "stdout",
     "output_type": "stream",
     "text": [
      "epoch= 1 \t time= 0.11096932093302408 min \t lr= 0.1 \t loss= 2.2472341453937617 \t error= 74.80458758981027 percent\n",
      "error rate on test set = 61.28362341772152 percent\n",
      " \n",
      "epoch= 2 \t time= 0.22154191335042317 min \t lr= 0.1 \t loss= 1.575421626305641 \t error= 57.12715792838875 percent\n",
      "error rate on test set = 57.23892405063291 percent\n",
      " \n",
      "epoch= 3 \t time= 0.3335428357124329 min \t lr= 0.1 \t loss= 1.4071412043803184 \t error= 50.85997442760126 percent\n",
      "error rate on test set = 49.01107594936709 percent\n",
      " \n",
      "epoch= 4 \t time= 0.4475507974624634 min \t lr= 0.1 \t loss= 1.2699607342405392 \t error= 45.86437019850592 percent\n",
      "error rate on test set = 45.52017405063291 percent\n",
      " \n",
      "epoch= 5 \t time= 0.5601283073425293 min \t lr= 0.1 \t loss= 1.149068681023005 \t error= 41.10813618011182 percent\n",
      "error rate on test set = 41.732594936708864 percent\n",
      " \n",
      "epoch= 6 \t time= 0.6763214747111003 min \t lr= 0.1 \t loss= 1.0454528398830871 \t error= 37.106777487508474 percent\n",
      "error rate on test set = 38.686708860759495 percent\n",
      " \n",
      "epoch= 7 \t time= 0.7952324310938518 min \t lr= 0.1 \t loss= 0.9531520798688045 \t error= 33.779571611253196 percent\n",
      "error rate on test set = 35.88805379746836 percent\n",
      " \n",
      "epoch= 8 \t time= 0.9119102954864502 min \t lr= 0.1 \t loss= 0.8701876869896794 \t error= 30.661365092562896 percent\n",
      "error rate on test set = 33.3564082278481 percent\n",
      " \n",
      "epoch= 9 \t time= 1.029471798737844 min \t lr= 0.1 \t loss= 0.7940364016596314 \t error= 28.09023337291025 percent\n",
      "error rate on test set = 33.395965189873415 percent\n",
      " \n",
      "epoch= 10 \t time= 1.144442081451416 min \t lr= 0.1 \t loss= 0.7234893613459205 \t error= 25.463554987212277 percent\n",
      "error rate on test set = 31.170886075949365 percent\n",
      " \n",
      "epoch= 11 \t time= 1.25998109181722 min \t lr= 0.1 \t loss= 0.6529796625037327 \t error= 22.955562650700053 percent\n",
      "error rate on test set = 30.32041139240506 percent\n",
      " \n",
      "epoch= 12 \t time= 1.3778276244799297 min \t lr= 0.1 \t loss= 0.5936153516592577 \t error= 20.917918797953963 percent\n",
      "error rate on test set = 31.71479430379747 percent\n",
      " \n",
      "epoch= 13 \t time= 1.4927255272865296 min \t lr= 0.1 \t loss= 0.5381063851706512 \t error= 18.91983695652174 percent\n",
      "error rate on test set = 29.163370253164555 percent\n",
      " \n",
      "epoch= 14 \t time= 1.6101927796999613 min \t lr= 0.1 \t loss= 0.483281263381319 \t error= 16.885390016428957 percent\n",
      "error rate on test set = 28.69857594936709 percent\n",
      " \n",
      "epoch= 15 \t time= 1.7257760683695476 min \t lr= 0.1 \t loss= 0.42981933289781554 \t error= 15.042359338087193 percent\n",
      "error rate on test set = 30.201740506329116 percent\n",
      " \n",
      "epoch= 16 \t time= 1.8411331176757812 min \t lr= 0.1 \t loss= 0.38051467699467983 \t error= 13.280051153943973 percent\n",
      "error rate on test set = 29.01503164556962 percent\n",
      " \n",
      "epoch= 17 \t time= 1.9548320531845094 min \t lr= 0.1 \t loss= 0.3366540278620122 \t error= 11.780690537084398 percent\n",
      "error rate on test set = 28.57001582278481 percent\n",
      " \n",
      "epoch= 18 \t time= 2.073750984668732 min \t lr= 0.1 \t loss= 0.2933326414250352 \t error= 10.246163682864449 percent\n",
      "error rate on test set = 29.89517405063291 percent\n",
      " \n",
      "epoch= 19 \t time= 2.1897860209147137 min \t lr= 0.1 \t loss= 0.2452048258212826 \t error= 8.61053389051686 percent\n",
      "error rate on test set = 28.945806962025316 percent\n",
      " \n",
      "epoch= 20 \t time= 2.3062248746554057 min \t lr= 0.1 \t loss= 0.2166975621524674 \t error= 7.46043797039315 percent\n",
      "error rate on test set = 30.547863924050635 percent\n",
      " \n",
      "epoch= 21 \t time= 2.4242565035820007 min \t lr= 0.1 \t loss= 0.17279263040827364 \t error= 5.955083123253434 percent\n",
      "error rate on test set = 30.122626582278482 percent\n",
      " \n",
      "epoch= 22 \t time= 2.540334971745809 min \t lr= 0.1 \t loss= 0.14751037736149394 \t error= 4.978420713063701 percent\n",
      "error rate on test set = 30.1621835443038 percent\n",
      " \n",
      "epoch= 23 \t time= 2.657002866268158 min \t lr= 0.1 \t loss= 0.1214109553915003 \t error= 4.06130114784631 percent\n",
      "error rate on test set = 30.607199367088604 percent\n",
      " \n",
      "epoch= 24 \t time= 2.7750205516815187 min \t lr= 0.1 \t loss= 0.09970303907838014 \t error= 3.262468021544044 percent\n",
      "error rate on test set = 28.5996835443038 percent\n",
      " \n",
      "epoch= 25 \t time= 2.886568748950958 min \t lr= 0.1 \t loss= 0.06933620928898644 \t error= 2.1179667519181584 percent\n",
      "error rate on test set = 28.263449367088604 percent\n",
      " \n",
      "epoch= 26 \t time= 3.00082813501358 min \t lr= 0.1 \t loss= 0.0522403487044832 \t error= 1.4302269729506938 percent\n",
      "error rate on test set = 28.065664556962027 percent\n",
      " \n",
      "epoch= 27 \t time= 3.1185446937878925 min \t lr= 0.1 \t loss= 0.03459955084964138 \t error= 0.8284047284089695 percent\n",
      "error rate on test set = 27.363528481012654 percent\n",
      " \n",
      "epoch= 28 \t time= 3.234185981750488 min \t lr= 0.1 \t loss= 0.022201485005314544 \t error= 0.4635549872122762 percent\n",
      "error rate on test set = 27.145965189873415 percent\n",
      " \n",
      "epoch= 29 \t time= 3.3495726346969605 min \t lr= 0.1 \t loss= 0.01091997132486547 \t error= 0.1118925831202046 percent\n",
      "error rate on test set = 26.750395569620256 percent\n",
      " \n",
      "epoch= 30 \t time= 3.462731921672821 min \t lr= 0.1 \t loss= 0.004939164261302679 \t error= 0.00399616368286445 percent\n",
      "error rate on test set = 26.47349683544304 percent\n",
      " \n",
      "epoch= 31 \t time= 3.578462568918864 min \t lr= 0.1 \t loss= 0.003483155324264332 \t error= 0.009990409207161126 percent\n",
      "error rate on test set = 26.19659810126582 percent\n",
      " \n",
      "epoch= 32 \t time= 3.6909374753634134 min \t lr= 0.1 \t loss= 0.0022390875465158003 \t error= 0.0 percent\n",
      "error rate on test set = 26.13726265822785 percent\n",
      " \n",
      "epoch= 33 \t time= 3.8087376713752747 min \t lr= 0.1 \t loss= 0.0018862733108889493 \t error= 0.0 percent\n",
      "error rate on test set = 25.919699367088604 percent\n",
      " \n",
      "epoch= 34 \t time= 3.9274384419123334 min \t lr= 0.1 \t loss= 0.0016594075694885057 \t error= 0.0 percent\n",
      "error rate on test set = 26.038370253164555 percent\n",
      " \n",
      "epoch= 35 \t time= 4.045007252693177 min \t lr= 0.1 \t loss= 0.0014916577360347446 \t error= 0.0 percent\n",
      "error rate on test set = 25.939477848101266 percent\n",
      " \n",
      "epoch= 36 \t time= 4.161251175403595 min \t lr= 0.1 \t loss= 0.0013496794206711948 \t error= 0.0 percent\n",
      "error rate on test set = 26.048259493670884 percent\n",
      " \n",
      "epoch= 37 \t time= 4.278634965419769 min \t lr= 0.1 \t loss= 0.0012785728039491511 \t error= 0.0 percent\n",
      "error rate on test set = 26.02848101265823 percent\n",
      " \n",
      "epoch= 38 \t time= 4.397073864936829 min \t lr= 0.1 \t loss= 0.0012445658769296563 \t error= 0.0 percent\n",
      "error rate on test set = 26.127373417721518 percent\n",
      " \n",
      "epoch= 39 \t time= 4.515148289998373 min \t lr= 0.1 \t loss= 0.001081628434340972 \t error= 0.0 percent\n",
      "error rate on test set = 26.13726265822785 percent\n",
      " \n",
      "epoch= 40 \t time= 4.631522675355275 min \t lr= 0.1 \t loss= 0.0011000790960176865 \t error= 0.00399616368286445 percent\n",
      "error rate on test set = 26.077927215189874 percent\n",
      " \n",
      "epoch= 41 \t time= 4.739884237448375 min \t lr= 0.1 \t loss= 0.0009135129068658956 \t error= 0.0 percent\n",
      "error rate on test set = 26.02848101265823 percent\n",
      " \n",
      "epoch= 42 \t time= 4.858391217390696 min \t lr= 0.1 \t loss= 0.0009075090574348331 \t error= 0.0 percent\n",
      "error rate on test set = 26.11748417721519 percent\n",
      " \n",
      "epoch= 43 \t time= 4.971035019556681 min \t lr= 0.1 \t loss= 0.0008527048597888798 \t error= 0.0 percent\n",
      "error rate on test set = 26.058148734177216 percent\n",
      " \n",
      "epoch= 44 \t time= 5.084519175688426 min \t lr= 0.1 \t loss= 0.0007803749740885956 \t error= 0.0 percent\n",
      "error rate on test set = 25.98892405063291 percent\n",
      " \n",
      "epoch= 45 \t time= 5.199390451113383 min \t lr= 0.1 \t loss= 0.0007258781158696393 \t error= 0.0 percent\n",
      "error rate on test set = 25.979034810126585 percent\n",
      " \n",
      "epoch= 46 \t time= 5.309581152598063 min \t lr= 0.1 \t loss= 0.0007075194907767694 \t error= 0.0 percent\n",
      "error rate on test set = 26.0878164556962 percent\n",
      " \n"
     ]
    }
   ],
   "source": [
    "start=time.time()\n",
    "\n",
    "for epoch in range(1,64000):\n",
    "    \n",
    "    # divide the learning rate by 10 at epoch 32k and 48k\n",
    "    if epoch==32000 or epoch == 48000:\n",
    "        my_lr = my_lr / 10\n",
    "    \n",
    "    # create a new optimizer at the beginning of each epoch: give the current learning rate.   \n",
    "    optimizer=torch.optim.SGD( model.parameters() , lr=my_lr )\n",
    "        \n",
    "    # set the running quatities to zero at the beginning of the epoch\n",
    "    running_loss=0\n",
    "    running_error=0\n",
    "    num_batches=0\n",
    "    \n",
    "    # set the order in which to visit the image from the training set\n",
    "    shuffled_indices = torch.randperm(50000)\n",
    " \n",
    "    for count in range(0,50000,bs):\n",
    "    \n",
    "        # Set the gradients to zeros\n",
    "        optimizer.zero_grad()\n",
    "        \n",
    "        # create a minibatch       \n",
    "        indices = shuffled_indices[count:count+bs]\n",
    "        minibatch_data = train_data[indices]\n",
    "        minibatch_label = train_label[indices]\n",
    "        \n",
    "        # send them to the gpu\n",
    "        minibatch_data=minibatch_data.to(device)\n",
    "        minibatch_label=minibatch_label.to(device)\n",
    "        \n",
    "        # normalize the minibatch (this is the only difference compared to before!)\n",
    "        inputs = (minibatch_data - mean)/std\n",
    "        \n",
    "        # tell Pytorch to start tracking all operations that will be done on \"inputs\"\n",
    "        inputs.requires_grad_()\n",
    "\n",
    "        # forward the minibatch through the net \n",
    "        scores=model( inputs ) \n",
    "\n",
    "        # Compute the average of the losses of the data points in the minibatch\n",
    "        loss =  criterion( scores , minibatch_label) \n",
    "        \n",
    "        # backward pass to compute dL/dU, dL/dV and dL/dW   \n",
    "        loss.backward()\n",
    "\n",
    "        # do one step of stochastic gradient descent: U=U-lr(dL/dU), V=V-lr(dL/dU), ...\n",
    "        optimizer.step()\n",
    "        \n",
    "\n",
    "        # START COMPUTING STATS\n",
    "        \n",
    "        # add the loss of this batch to the running loss\n",
    "        running_loss += loss.detach().item()\n",
    "        \n",
    "        # compute the error made on this batch and add it to the running error       \n",
    "        error = utils.get_error( scores.detach() , minibatch_label)\n",
    "        running_error += error.item()\n",
    "        \n",
    "        num_batches+=1        \n",
    "    \n",
    "    \n",
    "    # compute stats for the full training set\n",
    "    total_loss = running_loss/num_batches\n",
    "    total_error = running_error/num_batches\n",
    "    elapsed = (time.time()-start)/60\n",
    "    \n",
    "\n",
    "    print('epoch=',epoch, '\\t time=', elapsed,'min','\\t lr=', my_lr  ,'\\t loss=', total_loss , '\\t error=', total_error*100 ,'percent')\n",
    "    eval_on_test_set() \n",
    "    print(' ')\n",
    "    \n",
    "           \n",
    "    "
   ]
  },
  {
   "cell_type": "code",
   "execution_count": null,
   "metadata": {},
   "outputs": [],
   "source": [
    "import matplotlib.pyplot as plt\n",
    "def show(X):\n",
    "    if X.dim() == 3 and X.size(0) == 3:\n",
    "        plt.imshow( np.transpose(  X.numpy() , (1, 2, 0))  )\n",
    "        plt.show()\n",
    "    elif X.dim() == 2:\n",
    "        plt.imshow(   X.numpy() , cmap='gray'  )\n",
    "        plt.show()\n",
    "    else:\n",
    "        print('WRONG TENSOR SIZE')"
   ]
  },
  {
   "cell_type": "code",
   "execution_count": null,
   "metadata": {},
   "outputs": [],
   "source": [
    "def show_prob_cifar(p):\n",
    "\n",
    "\n",
    "    p=p.data.squeeze().numpy()\n",
    "\n",
    "    ft=15\n",
    "    label = ('airplane', 'automobile', 'Bird', 'Cat', 'Deer', 'Dog', 'Frog', 'Horse', 'Ship','Truck' )\n",
    "    #p=p.data.squeeze().numpy()\n",
    "    y_pos = np.arange(len(p))*1.2\n",
    "    target=2\n",
    "    width=0.9\n",
    "    col= 'blue'\n",
    "    #col='darkgreen'\n",
    "\n",
    "    plt.rcdefaults()\n",
    "    fig, ax = plt.subplots()\n",
    "\n",
    "    # the plot\n",
    "    ax.barh(y_pos, p, width , align='center', color=col)\n",
    "\n",
    "    ax.set_xlim([0, 1.3])\n",
    "    #ax.set_ylim([-0.8, len(p)*1.2-1+0.8])\n",
    "\n",
    "    # y label\n",
    "    ax.set_yticks(y_pos)\n",
    "    ax.set_yticklabels(label, fontsize=ft)\n",
    "    ax.invert_yaxis()  \n",
    "    #ax.set_xlabel('Performance')\n",
    "    #ax.set_title('How fast do you want to go today?')\n",
    "\n",
    "    # x label\n",
    "    ax.set_xticklabels([])\n",
    "    ax.set_xticks([])\n",
    "    #x_pos=np.array([0, 0.25 , 0.5 , 0.75 , 1])\n",
    "    #ax.set_xticks(x_pos)\n",
    "    #ax.set_xticklabels( [0, 0.25 , 0.5 , 0.75 , 1] , fontsize=15)\n",
    "\n",
    "    ax.spines['right'].set_visible(False)\n",
    "    ax.spines['top'].set_visible(False)\n",
    "    ax.spines['bottom'].set_visible(False)\n",
    "    ax.spines['left'].set_linewidth(4)\n",
    "\n",
    "\n",
    "    for i in range(len(p)):\n",
    "        str_nb=\"{0:.2f}\".format(p[i])\n",
    "        ax.text( p[i] + 0.05 , y_pos[i] ,str_nb ,\n",
    "                 horizontalalignment='left', verticalalignment='center',\n",
    "                 transform=ax.transData, color= col,fontsize=ft)\n",
    "    plt.show()"
   ]
  },
  {
   "cell_type": "code",
   "execution_count": null,
   "metadata": {},
   "outputs": [],
   "source": [
    "# choose a picture at random\n",
    "from random import randint\n",
    "idx=randint(0, 10000-1)\n",
    "im=test_data[idx]\n",
    "\n",
    "# diplay the picture\n",
    "show(im)\n",
    "\n",
    "# send to device, rescale, and view as a batch of 1 \n",
    "im = im.to(device)\n",
    "im= (im-mean) / std\n",
    "im=im.view(1,3,32,32)\n",
    "\n",
    "# feed it to the net and display the confidence scores\n",
    "scores =  model(im) \n",
    "probs= F.softmax(scores, dim=1)\n",
    "show_prob_cifar(probs.cpu())"
   ]
  },
  {
   "cell_type": "code",
   "execution_count": null,
   "metadata": {},
   "outputs": [],
   "source": []
  },
  {
   "cell_type": "code",
   "execution_count": null,
   "metadata": {},
   "outputs": [],
   "source": []
  }
 ],
 "metadata": {
  "kernelspec": {
   "display_name": "Python 3",
   "language": "python",
   "name": "python3"
  },
  "language_info": {
   "codemirror_mode": {
    "name": "ipython",
    "version": 3
   },
   "file_extension": ".py",
   "mimetype": "text/x-python",
   "name": "python",
   "nbconvert_exporter": "python",
   "pygments_lexer": "ipython3",
   "version": "3.6.7"
  }
 },
 "nbformat": 4,
 "nbformat_minor": 2
}
