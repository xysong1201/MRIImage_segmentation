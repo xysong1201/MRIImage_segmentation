{
 "cells": [
  {
   "cell_type": "code",
   "execution_count": 1,
   "metadata": {},
   "outputs": [],
   "source": [
    "import os\n",
    "from torch.utils.data import Dataset, DataLoader\n",
    "from skimage import io, transform\n",
    "from torchvision import transforms, utils\n",
    "import torch\n",
    "import numpy as np\n",
    "import nibabel as nib\n",
    "from random import randint\n",
    "from PIL import Image\n",
    "import torch.optim as optim\n",
    "import time\n",
    "import QuickNAT as QN\n",
    "import torch.nn as nn\n",
    "from livelossplot import PlotLosses\n",
    "import matplotlib.pyplot as plt"
   ]
  },
  {
   "cell_type": "code",
   "execution_count": 2,
   "metadata": {},
   "outputs": [
    {
     "name": "stdout",
     "output_type": "stream",
     "text": [
      "cuda\n"
     ]
    }
   ],
   "source": [
    "gpu_id = 0\n",
    "os.environ[\"CUDA_DEVICE_ORDER\"] = \"PCI_BUS_ID\"\n",
    "os.environ[\"CUDA_VISIBLE_DEVICES\"] = str(gpu_id)\n",
    "\n",
    "device = torch.device('cuda')\n",
    "print(device)"
   ]
  },
  {
   "cell_type": "markdown",
   "metadata": {},
   "source": [
    "### II. Define the training data set"
   ]
  },
  {
   "cell_type": "markdown",
   "metadata": {},
   "source": [
    "unique label before:  \n",
    "tensor([  0.,   1.,   2.,   3.,   4.,   5.,   6.,   7.,   8.,   9.,  10.,  11.,\n",
    "         12.,  13.,  14.,  15.,  16.,  17.,  18.,  19.,  20.,  21.,  22.,  23.,\n",
    "         24.,  25.,  26.,  27.,  28.,  29.,  30.,  31.,  32.,  33.,  34.,  35.,\n",
    "         36.,  37.,  38.,  39.,  40.,  41.,  42.,  43.,  44.,  45.,  46.,  47.,\n",
    "         48.,  49.,  50.,  51.,  52.,  53.,  54.,  55.,  56.,  57.,  58.,  59.,\n",
    "         60.,  61.,  62.,  63.,  64.,  65.,  66.,  67.,  68.,  69.,  70.,  71.,\n",
    "         72.,  73.,  74.,  75.,  76.,  77.,  78.,  79.,  80.,  81.,  82.,  83.,\n",
    "         84.,  85.,  87.,  88.,  89.,  90.,  92.,  93.,  94.,  95.,  96.,  97.,\n",
    "         98.,  99., 100., 101., 102., 103., 104., 105., 106., 107., 108., 109.,\n",
    "        110., 111., 112., 113., 114., 115., 116., 117., 118., 119., 120., 121.,\n",
    "        122., 123., 124., 125., 126., 127., 128., 129., 130., 131., 132., 133.,\n",
    "        134., 135., 136., 137., 138., 139., 140., 141., 142., 143., 144., 145.,\n",
    "        146., 147., 148., 149., 150., 151., 152., 153., 154., 155., 156., 157.,\n",
    "        158., 159., 160., 161., 162., 163., 164., 165., 167., 168., 169.])  \n",
    "total size: torch.Size([167])  \n",
    "so it doesn't have 86,91,166 respectively, just for training, I have done a map to map these three value.  "
   ]
  },
  {
   "cell_type": "code",
   "execution_count": 3,
   "metadata": {},
   "outputs": [],
   "source": [
    "class TrainDataset(Dataset):\n",
    "    \"\"\"Training dataset with mask image mapping to classes\"\"\"\n",
    "    def __init__(self, T1a_dir, parc1a_dir, transform=None):\n",
    "        \"\"\"\n",
    "        Args:\n",
    "            T1a_dir (string): Directory with T1w image in axial plane\n",
    "            transform (callable): Optional transform to be applied on a sample\n",
    "            parc1a_dir (string): Directory with parcellation scale 5 in axial plane\n",
    "        \"\"\"\n",
    "        self._T1a_dir = T1a_dir\n",
    "        self.transform = transform\n",
    "        self._parc1a_dir = parc1a_dir\n",
    "        self.mapping = {\n",
    "            180:91\n",
    "        }\n",
    "        \n",
    "    def mask_to_class(self, mask):\n",
    "        for k in self.mapping:\n",
    "            mask[mask==k] = self.mapping[k]\n",
    "        return mask\n",
    "    \n",
    "    def __len__(self):\n",
    "        T1a_list = os.listdir(self._T1a_dir)\n",
    "        return len(T1a_list)\n",
    "    \n",
    "    \n",
    "    def __getitem__(self, idx):\n",
    "        T1a_list = os.listdir(self._T1a_dir)\n",
    "        parc1a_list = os.listdir(self._parc1a_dir)\n",
    "        \n",
    "        T1a_str = T1a_list[idx]\n",
    "        \n",
    "        T1a_arr = io.imread(os.path.join(self._T1a_dir, T1a_str))\n",
    "        T1a_tensor = torch.from_numpy(T1a_arr)\n",
    "        \n",
    "        compose_T1 = transforms.Compose([transforms.ToPILImage(), \n",
    "                                         transforms.Resize((128,128),interpolation=Image.NEAREST),\n",
    "                                         transforms.ToTensor(),\n",
    "                                         transforms.Normalize((0.5, 0.5, 0.5), (0.5, 0.5, 0.5))])\n",
    "        T1a_tensor = torch.unsqueeze(T1a_tensor, dim = 0)\n",
    "        T1a_tensor = compose_T1(T1a_tensor)\n",
    "              \n",
    "        parc1a_str = parc1a_list[idx]\n",
    "    \n",
    "        parc1a_arr = io.imread(os.path.join(self._parc1a_dir, parc1a_str))\n",
    "        parc1a_tensor = torch.from_numpy(parc1a_arr)\n",
    "        \n",
    "        compose = transforms.Compose([transforms.ToPILImage(),\n",
    "                                      transforms.Resize((128,128),interpolation=Image.NEAREST), \n",
    "                                      transforms.ToTensor()])\n",
    "        \n",
    "        parc1a_tensor = torch.unsqueeze(parc1a_tensor, dim = 0)\n",
    "        parc1a_tensor = compose(parc1a_tensor)\n",
    "        parc1a_tensor = parc1a_tensor.squeeze()\n",
    "        \n",
    "        parc1a_tensor = torch.round(parc1a_tensor / 0.0039).byte()\n",
    "        parc1a_tensor = self.mask_to_class(parc1a_tensor)\n",
    "      \n",
    "        sample = {'T1a':T1a_tensor, 'parc1a':parc1a_tensor}\n",
    "        \n",
    "        if self.transform:\n",
    "            T1a = self.transform(T1a_tensor)\n",
    "            sample = {'T1a':T1a, 'parc1a':parc1a}\n",
    "            \n",
    "        return sample"
   ]
  },
  {
   "cell_type": "markdown",
   "metadata": {},
   "source": [
    "### III. Data observation\n",
    "In total 18 slices for one subject, in each slice, there are 10 images except for the final dir."
   ]
  },
  {
   "cell_type": "code",
   "execution_count": 4,
   "metadata": {},
   "outputs": [
    {
     "name": "stdout",
     "output_type": "stream",
     "text": [
      "10\n"
     ]
    }
   ],
   "source": [
    "sub_idx = 0\n",
    "slice_idx = 1\n",
    "T1a_dir = '/home/xiaoyu/MRIdata_group/T1w/axial/sub{}/slice{}'.format(sub_idx,slice_idx)\n",
    "parc1a_dir = '/home/xiaoyu/MRIdata_group/parc_1/axial/sub{}/slice{}'.format(sub_idx,slice_idx)\n",
    "total_data = TrainDataset(T1a_dir=T1a_dir, parc1a_dir = parc1a_dir)\n",
    "print(len(total_data))"
   ]
  },
  {
   "cell_type": "markdown",
   "metadata": {},
   "source": [
    "### Form the final training data\n",
    "use these slices subtracted from different subjects to form the training data"
   ]
  },
  {
   "cell_type": "code",
   "execution_count": 5,
   "metadata": {},
   "outputs": [
    {
     "name": "stdout",
     "output_type": "stream",
     "text": [
      "3300\n"
     ]
    }
   ],
   "source": [
    "slice_idx = 1\n",
    "for sub_idx in range(1,330):\n",
    "    T1a_dir = '/home/xiaoyu/MRIdata_group/T1w/axial/sub{}/slice{}'.format(sub_idx,slice_idx)\n",
    "    parc1a_dir = '/home/xiaoyu/MRIdata_group/parc_1/axial/sub{}/slice{}'.format(sub_idx,slice_idx)\n",
    "    train_data = TrainDataset(T1a_dir=T1a_dir, parc1a_dir = parc1a_dir)\n",
    "    total_data = total_data + train_data\n",
    "print(len(total_data))\n",
    "# total training images pairs is 3300."
   ]
  },
  {
   "cell_type": "code",
   "execution_count": 6,
   "metadata": {},
   "outputs": [
    {
     "name": "stdout",
     "output_type": "stream",
     "text": [
      "tensor([  0.,   1.,   2.,   3.,   4.,   5.,   6.,   7.,   8.,   9.,  10.,  11.,\n",
      "         12.,  13.,  14.,  15.,  16.,  17.,  18.,  19.,  20.,  21.,  22.,  23.,\n",
      "         24.,  25.,  26.,  27.,  28.,  29.,  30.,  31.,  32.,  33.,  34.,  35.,\n",
      "         36.,  37.,  38.,  39.,  40.,  41.,  42.,  43.,  44.,  45.,  46.,  47.,\n",
      "         48.,  49.,  50.,  51.,  52.,  53.,  54.,  55.,  56.,  57.,  58.,  59.,\n",
      "         60.,  61.,  62.,  63.,  64.,  65.,  66.,  67.,  68.,  69.,  70.,  71.,\n",
      "         72.,  73.,  74.,  75.,  76.,  77.,  78.,  79.,  80.,  81.,  82.,  83.,\n",
      "         84.,  85.,  86.,  87.,  88.,  89.,  90.,  92.,  93.,  94.,  95.,  96.,\n",
      "         97.,  98.,  99., 100., 101., 102., 103., 104., 105., 106., 107., 108.,\n",
      "        109., 110., 111., 112., 113., 114., 115., 116., 117., 118., 119., 120.,\n",
      "        121., 122., 123., 124., 125., 126., 127., 128., 129., 130., 131., 132.,\n",
      "        133., 134., 135., 136., 137., 138., 139., 140., 141., 142., 143., 144.,\n",
      "        145., 146., 147., 148., 149., 150., 151., 152., 153., 154., 155., 156.,\n",
      "        157., 158., 159., 160., 161., 162., 163., 164., 165., 166., 167., 168.,\n",
      "        169., 170., 171., 177.])\n",
      "torch.Size([172])\n"
     ]
    }
   ],
   "source": [
    "colors = torch.tensor([])\n",
    "for i in range(len(total_data)):\n",
    "    sample = total_data[i]\n",
    "    mask = sample['parc1a']\n",
    "    unique_color = torch.unique(mask).float()\n",
    "    colors = torch.cat((colors,unique_color))\n",
    "colors = torch.unique(colors)\n",
    "sorted_color, indices = torch.sort(colors)\n",
    "print(sorted_color)\n",
    "print(sorted_color.size())"
   ]
  },
  {
   "cell_type": "markdown",
   "metadata": {},
   "source": [
    "### The data for training in total 3300 images.\n",
    "Batch size = 5, so in total 660 batches, with 167 label where the maximum label value is 169."
   ]
  },
  {
   "cell_type": "code",
   "execution_count": 7,
   "metadata": {},
   "outputs": [],
   "source": [
    "def show_mask(image, mask):\n",
    "    \"\"\"\n",
    "    Show image and mask\n",
    "    Args:\n",
    "        image(numpyarray): The training image\n",
    "        semantic(numpyarray): The training image segmentation\n",
    "    \"\"\"    \n",
    "    plt.subplot(1,2,1)\n",
    "    plt.title('image')\n",
    "    plt.imshow(image)\n",
    "    plt.subplot(1,2,2)\n",
    "    plt.title('mask')\n",
    "    plt.imshow(mask)\n",
    "    plt.show()"
   ]
  },
  {
   "cell_type": "code",
   "execution_count": 8,
   "metadata": {},
   "outputs": [
    {
     "data": {
      "image/png": "[encoded data removed]",
      "text/plain": [
       "<Figure size 432x288 with 2 Axes>"
      ]
     },
     "metadata": {
      "needs_background": "light"
     },
     "output_type": "display_data"
    }
   ],
   "source": [
    "# test the function\n",
    "sub_idx = 0\n",
    "slice_idx = 0\n",
    "\n",
    "T1a_dir = '/home/xiaoyu/MRIdata_group/T1w/axial/sub{}/slice{}'.format(sub_idx,slice_idx)\n",
    "parc1a_dir = '/home/xiaoyu/MRIdata_group/parc_1/axial/sub{}/slice{}'.format(sub_idx,slice_idx)\n",
    "\n",
    "T1a_list = os.listdir(T1a_dir)\n",
    "parc1a_list = os.listdir(parc1a_dir)\n",
    "\n",
    "T1a_str = T1a_list[0]\n",
    "parc1a_str = parc1a_list[0]\n",
    "\n",
    "T1a_arr = io.imread(os.path.join(T1a_dir, T1a_str))\n",
    "parc1a_arr = io.imread(os.path.join(parc1a_dir, parc1a_str))\n",
    "    \n",
    "\n",
    "show_mask(T1a_arr, parc1a_arr)"
   ]
  },
  {
   "cell_type": "code",
   "execution_count": 9,
   "metadata": {},
   "outputs": [
    {
     "name": "stdout",
     "output_type": "stream",
     "text": [
      "660\n"
     ]
    }
   ],
   "source": [
    "start=time.time()\n",
    "dataloader = DataLoader(total_data, batch_size = 5, shuffle = True, num_workers = 4)\n",
    "print(len(dataloader))"
   ]
  },
  {
   "cell_type": "markdown",
   "metadata": {},
   "source": [
    "### I. Define the model"
   ]
  },
  {
   "cell_type": "markdown",
   "metadata": {},
   "source": [
    "since for the entire axial plane, there are in total 178 class labels, so the network defined here output 178 classes"
   ]
  },
  {
   "cell_type": "code",
   "execution_count": 18,
   "metadata": {},
   "outputs": [
    {
     "name": "stdout",
     "output_type": "stream",
     "text": [
      "3303618\n",
      "encoder.conv_in.block1.0.weight \t torch.Size([64, 1, 5, 5])\n",
      "encoder.conv_in.block1.0.bias \t torch.Size([64])\n",
      "encoder.conv_in.block1.1.weight \t torch.Size([64])\n",
      "encoder.conv_in.block1.1.bias \t torch.Size([64])\n",
      "encoder.conv_in.block1.1.running_mean \t torch.Size([64])\n",
      "encoder.conv_in.block1.1.running_var \t torch.Size([64])\n",
      "encoder.conv_in.block1.1.num_batches_tracked \t torch.Size([])\n",
      "encoder.conv_in.block1.2.weight \t torch.Size([1])\n",
      "encoder.conv_in.block2.0.weight \t torch.Size([64, 65, 5, 5])\n",
      "encoder.conv_in.block2.0.bias \t torch.Size([64])\n",
      "encoder.conv_in.block2.1.weight \t torch.Size([64])\n",
      "encoder.conv_in.block2.1.bias \t torch.Size([64])\n",
      "encoder.conv_in.block2.1.running_mean \t torch.Size([64])\n",
      "encoder.conv_in.block2.1.running_var \t torch.Size([64])\n",
      "encoder.conv_in.block2.1.num_batches_tracked \t torch.Size([])\n",
      "encoder.conv_in.block2.2.weight \t torch.Size([1])\n",
      "encoder.conv_in.outconv.weight \t torch.Size([64, 129, 1, 1])\n",
      "encoder.conv_in.outconv.bias \t torch.Size([64])\n",
      "encoder.down1.conv.block1.0.weight \t torch.Size([64, 64, 5, 5])\n",
      "encoder.down1.conv.block1.0.bias \t torch.Size([64])\n",
      "encoder.down1.conv.block1.1.weight \t torch.Size([64])\n",
      "encoder.down1.conv.block1.1.bias \t torch.Size([64])\n",
      "encoder.down1.conv.block1.1.running_mean \t torch.Size([64])\n",
      "encoder.down1.conv.block1.1.running_var \t torch.Size([64])\n",
      "encoder.down1.conv.block1.1.num_batches_tracked \t torch.Size([])\n",
      "encoder.down1.conv.block1.2.weight \t torch.Size([1])\n",
      "encoder.down1.conv.block2.0.weight \t torch.Size([64, 128, 5, 5])\n",
      "encoder.down1.conv.block2.0.bias \t torch.Size([64])\n",
      "encoder.down1.conv.block2.1.weight \t torch.Size([64])\n",
      "encoder.down1.conv.block2.1.bias \t torch.Size([64])\n",
      "encoder.down1.conv.block2.1.running_mean \t torch.Size([64])\n",
      "encoder.down1.conv.block2.1.running_var \t torch.Size([64])\n",
      "encoder.down1.conv.block2.1.num_batches_tracked \t torch.Size([])\n",
      "encoder.down1.conv.block2.2.weight \t torch.Size([1])\n",
      "encoder.down1.conv.outconv.weight \t torch.Size([64, 192, 1, 1])\n",
      "encoder.down1.conv.outconv.bias \t torch.Size([64])\n",
      "encoder.down2.conv.block1.0.weight \t torch.Size([64, 64, 5, 5])\n",
      "encoder.down2.conv.block1.0.bias \t torch.Size([64])\n",
      "encoder.down2.conv.block1.1.weight \t torch.Size([64])\n",
      "encoder.down2.conv.block1.1.bias \t torch.Size([64])\n",
      "encoder.down2.conv.block1.1.running_mean \t torch.Size([64])\n",
      "encoder.down2.conv.block1.1.running_var \t torch.Size([64])\n",
      "encoder.down2.conv.block1.1.num_batches_tracked \t torch.Size([])\n",
      "encoder.down2.conv.block1.2.weight \t torch.Size([1])\n",
      "encoder.down2.conv.block2.0.weight \t torch.Size([64, 128, 5, 5])\n",
      "encoder.down2.conv.block2.0.bias \t torch.Size([64])\n",
      "encoder.down2.conv.block2.1.weight \t torch.Size([64])\n",
      "encoder.down2.conv.block2.1.bias \t torch.Size([64])\n",
      "encoder.down2.conv.block2.1.running_mean \t torch.Size([64])\n",
      "encoder.down2.conv.block2.1.running_var \t torch.Size([64])\n",
      "encoder.down2.conv.block2.1.num_batches_tracked \t torch.Size([])\n",
      "encoder.down2.conv.block2.2.weight \t torch.Size([1])\n",
      "encoder.down2.conv.outconv.weight \t torch.Size([64, 192, 1, 1])\n",
      "encoder.down2.conv.outconv.bias \t torch.Size([64])\n",
      "encoder.down3.conv.block1.0.weight \t torch.Size([64, 64, 5, 5])\n",
      "encoder.down3.conv.block1.0.bias \t torch.Size([64])\n",
      "encoder.down3.conv.block1.1.weight \t torch.Size([64])\n",
      "encoder.down3.conv.block1.1.bias \t torch.Size([64])\n",
      "encoder.down3.conv.block1.1.running_mean \t torch.Size([64])\n",
      "encoder.down3.conv.block1.1.running_var \t torch.Size([64])\n",
      "encoder.down3.conv.block1.1.num_batches_tracked \t torch.Size([])\n",
      "encoder.down3.conv.block1.2.weight \t torch.Size([1])\n",
      "encoder.down3.conv.block2.0.weight \t torch.Size([64, 128, 5, 5])\n",
      "encoder.down3.conv.block2.0.bias \t torch.Size([64])\n",
      "encoder.down3.conv.block2.1.weight \t torch.Size([64])\n",
      "encoder.down3.conv.block2.1.bias \t torch.Size([64])\n",
      "encoder.down3.conv.block2.1.running_mean \t torch.Size([64])\n",
      "encoder.down3.conv.block2.1.running_var \t torch.Size([64])\n",
      "encoder.down3.conv.block2.1.num_batches_tracked \t torch.Size([])\n",
      "encoder.down3.conv.block2.2.weight \t torch.Size([1])\n",
      "encoder.down3.conv.outconv.weight \t torch.Size([64, 192, 1, 1])\n",
      "encoder.down3.conv.outconv.bias \t torch.Size([64])\n",
      "encoder.BottleNeck.conv.weight \t torch.Size([64, 64, 5, 5])\n",
      "encoder.BottleNeck.conv.bias \t torch.Size([64])\n",
      "encoder.BottleNeck.BatchNorm.weight \t torch.Size([64])\n",
      "encoder.BottleNeck.BatchNorm.bias \t torch.Size([64])\n",
      "encoder.BottleNeck.BatchNorm.running_mean \t torch.Size([64])\n",
      "encoder.BottleNeck.BatchNorm.running_var \t torch.Size([64])\n",
      "encoder.BottleNeck.BatchNorm.num_batches_tracked \t torch.Size([])\n",
      "decoder.up1.conv.block1.0.weight \t torch.Size([64, 128, 5, 5])\n",
      "decoder.up1.conv.block1.0.bias \t torch.Size([64])\n",
      "decoder.up1.conv.block1.1.weight \t torch.Size([64])\n",
      "decoder.up1.conv.block1.1.bias \t torch.Size([64])\n",
      "decoder.up1.conv.block1.1.running_mean \t torch.Size([64])\n",
      "decoder.up1.conv.block1.1.running_var \t torch.Size([64])\n",
      "decoder.up1.conv.block1.1.num_batches_tracked \t torch.Size([])\n",
      "decoder.up1.conv.block1.2.weight \t torch.Size([1])\n",
      "decoder.up1.conv.block2.0.weight \t torch.Size([64, 192, 5, 5])\n",
      "decoder.up1.conv.block2.0.bias \t torch.Size([64])\n",
      "decoder.up1.conv.block2.1.weight \t torch.Size([64])\n",
      "decoder.up1.conv.block2.1.bias \t torch.Size([64])\n",
      "decoder.up1.conv.block2.1.running_mean \t torch.Size([64])\n",
      "decoder.up1.conv.block2.1.running_var \t torch.Size([64])\n",
      "decoder.up1.conv.block2.1.num_batches_tracked \t torch.Size([])\n",
      "decoder.up1.conv.block2.2.weight \t torch.Size([1])\n",
      "decoder.up1.conv.outconv.weight \t torch.Size([64, 256, 1, 1])\n",
      "decoder.up1.conv.outconv.bias \t torch.Size([64])\n",
      "decoder.up2.conv.block1.0.weight \t torch.Size([64, 128, 5, 5])\n",
      "decoder.up2.conv.block1.0.bias \t torch.Size([64])\n",
      "decoder.up2.conv.block1.1.weight \t torch.Size([64])\n",
      "decoder.up2.conv.block1.1.bias \t torch.Size([64])\n",
      "decoder.up2.conv.block1.1.running_mean \t torch.Size([64])\n",
      "decoder.up2.conv.block1.1.running_var \t torch.Size([64])\n",
      "decoder.up2.conv.block1.1.num_batches_tracked \t torch.Size([])\n",
      "decoder.up2.conv.block1.2.weight \t torch.Size([1])\n",
      "decoder.up2.conv.block2.0.weight \t torch.Size([64, 192, 5, 5])\n",
      "decoder.up2.conv.block2.0.bias \t torch.Size([64])\n",
      "decoder.up2.conv.block2.1.weight \t torch.Size([64])\n",
      "decoder.up2.conv.block2.1.bias \t torch.Size([64])\n",
      "decoder.up2.conv.block2.1.running_mean \t torch.Size([64])\n",
      "decoder.up2.conv.block2.1.running_var \t torch.Size([64])\n",
      "decoder.up2.conv.block2.1.num_batches_tracked \t torch.Size([])\n",
      "decoder.up2.conv.block2.2.weight \t torch.Size([1])\n",
      "decoder.up2.conv.outconv.weight \t torch.Size([64, 256, 1, 1])\n",
      "decoder.up2.conv.outconv.bias \t torch.Size([64])\n",
      "decoder.up3.conv.block1.0.weight \t torch.Size([64, 128, 5, 5])\n",
      "decoder.up3.conv.block1.0.bias \t torch.Size([64])\n",
      "decoder.up3.conv.block1.1.weight \t torch.Size([64])\n",
      "decoder.up3.conv.block1.1.bias \t torch.Size([64])\n",
      "decoder.up3.conv.block1.1.running_mean \t torch.Size([64])\n",
      "decoder.up3.conv.block1.1.running_var \t torch.Size([64])\n",
      "decoder.up3.conv.block1.1.num_batches_tracked \t torch.Size([])\n",
      "decoder.up3.conv.block1.2.weight \t torch.Size([1])\n",
      "decoder.up3.conv.block2.0.weight \t torch.Size([64, 192, 5, 5])\n",
      "decoder.up3.conv.block2.0.bias \t torch.Size([64])\n",
      "decoder.up3.conv.block2.1.weight \t torch.Size([64])\n",
      "decoder.up3.conv.block2.1.bias \t torch.Size([64])\n",
      "decoder.up3.conv.block2.1.running_mean \t torch.Size([64])\n",
      "decoder.up3.conv.block2.1.running_var \t torch.Size([64])\n",
      "decoder.up3.conv.block2.1.num_batches_tracked \t torch.Size([])\n",
      "decoder.up3.conv.block2.2.weight \t torch.Size([1])\n",
      "decoder.up3.conv.outconv.weight \t torch.Size([64, 256, 1, 1])\n",
      "decoder.up3.conv.outconv.bias \t torch.Size([64])\n",
      "decoder.up4.conv.block1.0.weight \t torch.Size([64, 128, 5, 5])\n",
      "decoder.up4.conv.block1.0.bias \t torch.Size([64])\n",
      "decoder.up4.conv.block1.1.weight \t torch.Size([64])\n",
      "decoder.up4.conv.block1.1.bias \t torch.Size([64])\n",
      "decoder.up4.conv.block1.1.running_mean \t torch.Size([64])\n",
      "decoder.up4.conv.block1.1.running_var \t torch.Size([64])\n",
      "decoder.up4.conv.block1.1.num_batches_tracked \t torch.Size([])\n",
      "decoder.up4.conv.block1.2.weight \t torch.Size([1])\n",
      "decoder.up4.conv.block2.0.weight \t torch.Size([64, 192, 5, 5])\n",
      "decoder.up4.conv.block2.0.bias \t torch.Size([64])\n",
      "decoder.up4.conv.block2.1.weight \t torch.Size([64])\n",
      "decoder.up4.conv.block2.1.bias \t torch.Size([64])\n",
      "decoder.up4.conv.block2.1.running_mean \t torch.Size([64])\n",
      "decoder.up4.conv.block2.1.running_var \t torch.Size([64])\n",
      "decoder.up4.conv.block2.1.num_batches_tracked \t torch.Size([])\n",
      "decoder.up4.conv.block2.2.weight \t torch.Size([1])\n",
      "decoder.up4.conv.outconv.weight \t torch.Size([64, 256, 1, 1])\n",
      "decoder.up4.conv.outconv.bias \t torch.Size([64])\n",
      "decoder.conv_out.conv.weight \t torch.Size([178, 64, 1, 1])\n",
      "decoder.conv_out.conv.bias \t torch.Size([178])\n"
     ]
    }
   ],
   "source": [
    "model = QN.QuickNAT(1,64,178)\n",
    "model_params = list(model.parameters())\n",
    "nb_param=0\n",
    "for param in model.parameters():\n",
    "    nb_param+=np.prod(list(param.data.size()))\n",
    "print(nb_param)\n",
    "model = model.to(device)\n",
    "for param_tensor in model.state_dict():\n",
    "    print(param_tensor, \"\\t\", model.state_dict()[param_tensor].size())"
   ]
  },
  {
   "cell_type": "code",
   "execution_count": 10,
   "metadata": {},
   "outputs": [
    {
     "name": "stdout",
     "output_type": "stream",
     "text": [
      "3303618\n"
     ]
    }
   ],
   "source": [
    "criterion = nn.NLLLoss()\n",
    "optimizer = optim.Adam(model.parameters() ,lr=0.001)"
   ]
  },
  {
   "cell_type": "code",
   "execution_count": null,
   "metadata": {},
   "outputs": [],
   "source": []
  },
  {
   "cell_type": "code",
   "execution_count": 11,
   "metadata": {},
   "outputs": [
    {
     "data": {
      "image/png": "[encoded data removed]",
      "text/plain": [
       "<Figure size 864x576 with 1 Axes>"
      ]
     },
     "metadata": {
      "needs_background": "light"
     },
     "output_type": "display_data"
    },
    {
     "name": "stdout",
     "output_type": "stream",
     "text": [
      "log loss:\n",
      "training   (min:    0.065, max:    0.191, cur:    0.066)\n",
      "Finish Training\n"
     ]
    }
   ],
   "source": [
    "liveloss = PlotLosses()\n",
    "for epoch in range(0,50):\n",
    "    logs = {}\n",
    "    running_loss = 0\n",
    "    num_batches = 0\n",
    "    for i_batch, sample_batched in enumerate(dataloader):\n",
    "    \n",
    "        optimizer.zero_grad()\n",
    "        \n",
    "        #get the inputs\n",
    "        inputs, labels = sample_batched['T1a'], sample_batched['parc1a']\n",
    "        \n",
    "\n",
    "        inputs = inputs.to(device)\n",
    "        labels = labels.to(device)\n",
    "\n",
    "        inputs.requires_grad_()\n",
    "        \n",
    "        #forward + backward +optimize\n",
    "        scores = model(inputs)\n",
    "\n",
    "          \n",
    "        # Define the loss\n",
    "        loss = criterion(scores, labels.long()) \n",
    "        loss.backward()\n",
    "        optimizer.step()\n",
    "        \n",
    "        # compute and accumulate stats\n",
    "        running_loss += loss.detach().item()\n",
    "       \n",
    "        num_batches+=1 \n",
    "        \n",
    "        \n",
    "    # AVERAGE STATS THEN DISPLAY    \n",
    "    total_loss = running_loss/num_batches\n",
    "   \n",
    "    elapsed = (time.time()-start)/60\n",
    "        \n",
    "    print('epoch=',epoch, '\\t time=', elapsed,'min', '\\t loss=', total_loss )\n",
    "    logs['log loss'] = total_loss\n",
    "            \n",
    "    liveloss.update(logs)\n",
    "    liveloss.draw()\n",
    " \n",
    "print('Finish Training')\n",
    "\n",
    "           "
   ]
  },
  {
   "cell_type": "code",
   "execution_count": 31,
   "metadata": {},
   "outputs": [
    {
     "name": "stdout",
     "output_type": "stream",
     "text": [
      "10\n"
     ]
    }
   ],
   "source": [
    "sub_idx = 0\n",
    "slice_idx = 1\n",
    "T1a_dir = '/home/xiaoyu/MRIdata_group/T1w/axial/sub{}/slice{}'.format(sub_idx,slice_idx)\n",
    "parc1a_dir = '/home/xiaoyu/MRIdata_group/parc_1/axial/sub{}/slice{}'.format(sub_idx,slice_idx)\n",
    "test_data = TrainDataset(T1a_dir=T1a_dir, parc1a_dir = parc1a_dir)\n",
    "print(len(test_data))"
   ]
  },
  {
   "cell_type": "code",
   "execution_count": 32,
   "metadata": {},
   "outputs": [
    {
     "data": {
      "image/png": "[encoded data removed]",
      "text/plain": [
       "<Figure size 432x288 with 2 Axes>"
      ]
     },
     "metadata": {
      "needs_background": "light"
     },
     "output_type": "display_data"
    },
    {
     "name": "stdout",
     "output_type": "stream",
     "text": [
      "torch.Size([128, 128, 178])\n",
      "tensor(1.)\n",
      "tensor(0.)\n"
     ]
    },
    {
     "data": {
      "text/plain": [
       "<matplotlib.image.AxesImage at 0x7f2f38504cf8>"
      ]
     },
     "execution_count": 32,
     "metadata": {},
     "output_type": "execute_result"
    },
    {
     "data": {
      "image/png": "[encoded data removed]",
      "text/plain": [
       "<Figure size 432x288 with 1 Axes>"
      ]
     },
     "metadata": {
      "needs_background": "light"
     },
     "output_type": "display_data"
    }
   ],
   "source": [
    "sample=test_data[3]\n",
    "img = sample['T1a']\n",
    "mask = sample['parc1a']\n",
    "\n",
    "show_mask(img.squeeze(), mask)\n",
    "\n",
    "img = img.unsqueeze(dim = 0)\n",
    "\n",
    "img = img.to(device)\n",
    "\n",
    "\n",
    "# feed it to network\n",
    "scores =  model(img)\n",
    "scores = scores.detach().cpu().squeeze().permute(1,2,0)\n",
    "print(scores.size())\n",
    "scores = torch.exp(scores)\n",
    "print(torch.max(scores))\n",
    "print(torch.min(scores))\n",
    "a,b = torch.max(scores,dim=2)\n",
    "plt.imshow(b)\n"
   ]
  },
  {
   "cell_type": "code",
   "execution_count": 20,
   "metadata": {},
   "outputs": [],
   "source": [
    "torch.save(model.state_dict(), '/home/xiaoyu/model/slice0.pt')"
   ]
  },
  {
   "cell_type": "code",
   "execution_count": 21,
   "metadata": {},
   "outputs": [],
   "source": [
    "model1 = QN.QuickNAT(1,64,178)"
   ]
  },
  {
   "cell_type": "code",
   "execution_count": 22,
   "metadata": {},
   "outputs": [
    {
     "data": {
      "text/plain": [
       "QuickNAT(\n",
       "  (encoder): Encoder(\n",
       "    (conv_in): DenseBlock(\n",
       "      (block1): Sequential(\n",
       "        (0): Conv2d(1, 64, kernel_size=(5, 5), stride=(1, 1), padding=(2, 2))\n",
       "        (1): BatchNorm2d(64, eps=1e-05, momentum=0.1, affine=True, track_running_stats=True)\n",
       "        (2): PReLU(num_parameters=1)\n",
       "      )\n",
       "      (block2): Sequential(\n",
       "        (0): Conv2d(65, 64, kernel_size=(5, 5), stride=(1, 1), padding=(2, 2))\n",
       "        (1): BatchNorm2d(64, eps=1e-05, momentum=0.1, affine=True, track_running_stats=True)\n",
       "        (2): PReLU(num_parameters=1)\n",
       "      )\n",
       "      (outconv): Conv2d(129, 64, kernel_size=(1, 1), stride=(1, 1))\n",
       "    )\n",
       "    (down1): down(\n",
       "      (maxpool): MaxPool2d(kernel_size=2, stride=2, padding=0, dilation=1, ceil_mode=False)\n",
       "      (conv): DenseBlock(\n",
       "        (block1): Sequential(\n",
       "          (0): Conv2d(64, 64, kernel_size=(5, 5), stride=(1, 1), padding=(2, 2))\n",
       "          (1): BatchNorm2d(64, eps=1e-05, momentum=0.1, affine=True, track_running_stats=True)\n",
       "          (2): PReLU(num_parameters=1)\n",
       "        )\n",
       "        (block2): Sequential(\n",
       "          (0): Conv2d(128, 64, kernel_size=(5, 5), stride=(1, 1), padding=(2, 2))\n",
       "          (1): BatchNorm2d(64, eps=1e-05, momentum=0.1, affine=True, track_running_stats=True)\n",
       "          (2): PReLU(num_parameters=1)\n",
       "        )\n",
       "        (outconv): Conv2d(192, 64, kernel_size=(1, 1), stride=(1, 1))\n",
       "      )\n",
       "    )\n",
       "    (down2): down(\n",
       "      (maxpool): MaxPool2d(kernel_size=2, stride=2, padding=0, dilation=1, ceil_mode=False)\n",
       "      (conv): DenseBlock(\n",
       "        (block1): Sequential(\n",
       "          (0): Conv2d(64, 64, kernel_size=(5, 5), stride=(1, 1), padding=(2, 2))\n",
       "          (1): BatchNorm2d(64, eps=1e-05, momentum=0.1, affine=True, track_running_stats=True)\n",
       "          (2): PReLU(num_parameters=1)\n",
       "        )\n",
       "        (block2): Sequential(\n",
       "          (0): Conv2d(128, 64, kernel_size=(5, 5), stride=(1, 1), padding=(2, 2))\n",
       "          (1): BatchNorm2d(64, eps=1e-05, momentum=0.1, affine=True, track_running_stats=True)\n",
       "          (2): PReLU(num_parameters=1)\n",
       "        )\n",
       "        (outconv): Conv2d(192, 64, kernel_size=(1, 1), stride=(1, 1))\n",
       "      )\n",
       "    )\n",
       "    (down3): down(\n",
       "      (maxpool): MaxPool2d(kernel_size=2, stride=2, padding=0, dilation=1, ceil_mode=False)\n",
       "      (conv): DenseBlock(\n",
       "        (block1): Sequential(\n",
       "          (0): Conv2d(64, 64, kernel_size=(5, 5), stride=(1, 1), padding=(2, 2))\n",
       "          (1): BatchNorm2d(64, eps=1e-05, momentum=0.1, affine=True, track_running_stats=True)\n",
       "          (2): PReLU(num_parameters=1)\n",
       "        )\n",
       "        (block2): Sequential(\n",
       "          (0): Conv2d(128, 64, kernel_size=(5, 5), stride=(1, 1), padding=(2, 2))\n",
       "          (1): BatchNorm2d(64, eps=1e-05, momentum=0.1, affine=True, track_running_stats=True)\n",
       "          (2): PReLU(num_parameters=1)\n",
       "        )\n",
       "        (outconv): Conv2d(192, 64, kernel_size=(1, 1), stride=(1, 1))\n",
       "      )\n",
       "    )\n",
       "    (BottleNeck): BottleNeck(\n",
       "      (pool): MaxPool2d(kernel_size=2, stride=2, padding=0, dilation=1, ceil_mode=False)\n",
       "      (conv): Conv2d(64, 64, kernel_size=(5, 5), stride=(1, 1), padding=(2, 2))\n",
       "      (BatchNorm): BatchNorm2d(64, eps=1e-05, momentum=0.1, affine=True, track_running_stats=True)\n",
       "    )\n",
       "  )\n",
       "  (decoder): Decoder(\n",
       "    (up1): up(\n",
       "      (unpool): MaxUnpool2d(kernel_size=(2, 2), stride=(2, 2), padding=(0, 0))\n",
       "      (conv): DenseBlock(\n",
       "        (block1): Sequential(\n",
       "          (0): Conv2d(128, 64, kernel_size=(5, 5), stride=(1, 1), padding=(2, 2))\n",
       "          (1): BatchNorm2d(64, eps=1e-05, momentum=0.1, affine=True, track_running_stats=True)\n",
       "          (2): PReLU(num_parameters=1)\n",
       "        )\n",
       "        (block2): Sequential(\n",
       "          (0): Conv2d(192, 64, kernel_size=(5, 5), stride=(1, 1), padding=(2, 2))\n",
       "          (1): BatchNorm2d(64, eps=1e-05, momentum=0.1, affine=True, track_running_stats=True)\n",
       "          (2): PReLU(num_parameters=1)\n",
       "        )\n",
       "        (outconv): Conv2d(256, 64, kernel_size=(1, 1), stride=(1, 1))\n",
       "      )\n",
       "    )\n",
       "    (up2): up(\n",
       "      (unpool): MaxUnpool2d(kernel_size=(2, 2), stride=(2, 2), padding=(0, 0))\n",
       "      (conv): DenseBlock(\n",
       "        (block1): Sequential(\n",
       "          (0): Conv2d(128, 64, kernel_size=(5, 5), stride=(1, 1), padding=(2, 2))\n",
       "          (1): BatchNorm2d(64, eps=1e-05, momentum=0.1, affine=True, track_running_stats=True)\n",
       "          (2): PReLU(num_parameters=1)\n",
       "        )\n",
       "        (block2): Sequential(\n",
       "          (0): Conv2d(192, 64, kernel_size=(5, 5), stride=(1, 1), padding=(2, 2))\n",
       "          (1): BatchNorm2d(64, eps=1e-05, momentum=0.1, affine=True, track_running_stats=True)\n",
       "          (2): PReLU(num_parameters=1)\n",
       "        )\n",
       "        (outconv): Conv2d(256, 64, kernel_size=(1, 1), stride=(1, 1))\n",
       "      )\n",
       "    )\n",
       "    (up3): up(\n",
       "      (unpool): MaxUnpool2d(kernel_size=(2, 2), stride=(2, 2), padding=(0, 0))\n",
       "      (conv): DenseBlock(\n",
       "        (block1): Sequential(\n",
       "          (0): Conv2d(128, 64, kernel_size=(5, 5), stride=(1, 1), padding=(2, 2))\n",
       "          (1): BatchNorm2d(64, eps=1e-05, momentum=0.1, affine=True, track_running_stats=True)\n",
       "          (2): PReLU(num_parameters=1)\n",
       "        )\n",
       "        (block2): Sequential(\n",
       "          (0): Conv2d(192, 64, kernel_size=(5, 5), stride=(1, 1), padding=(2, 2))\n",
       "          (1): BatchNorm2d(64, eps=1e-05, momentum=0.1, affine=True, track_running_stats=True)\n",
       "          (2): PReLU(num_parameters=1)\n",
       "        )\n",
       "        (outconv): Conv2d(256, 64, kernel_size=(1, 1), stride=(1, 1))\n",
       "      )\n",
       "    )\n",
       "    (up4): up(\n",
       "      (unpool): MaxUnpool2d(kernel_size=(2, 2), stride=(2, 2), padding=(0, 0))\n",
       "      (conv): DenseBlock(\n",
       "        (block1): Sequential(\n",
       "          (0): Conv2d(128, 64, kernel_size=(5, 5), stride=(1, 1), padding=(2, 2))\n",
       "          (1): BatchNorm2d(64, eps=1e-05, momentum=0.1, affine=True, track_running_stats=True)\n",
       "          (2): PReLU(num_parameters=1)\n",
       "        )\n",
       "        (block2): Sequential(\n",
       "          (0): Conv2d(192, 64, kernel_size=(5, 5), stride=(1, 1), padding=(2, 2))\n",
       "          (1): BatchNorm2d(64, eps=1e-05, momentum=0.1, affine=True, track_running_stats=True)\n",
       "          (2): PReLU(num_parameters=1)\n",
       "        )\n",
       "        (outconv): Conv2d(256, 64, kernel_size=(1, 1), stride=(1, 1))\n",
       "      )\n",
       "    )\n",
       "    (conv_out): OutConv(\n",
       "      (conv): Conv2d(64, 178, kernel_size=(1, 1), stride=(1, 1))\n",
       "    )\n",
       "  )\n",
       ")"
      ]
     },
     "execution_count": 22,
     "metadata": {},
     "output_type": "execute_result"
    }
   ],
   "source": [
    "model1.load_state_dict(torch.load('/home/xiaoyu/model/slice0.pt'))\n",
    "model1.eval()"
   ]
  },
  {
   "cell_type": "markdown",
   "metadata": {},
   "source": [
    "### continue training on slice2"
   ]
  },
  {
   "cell_type": "code",
   "execution_count": 24,
   "metadata": {},
   "outputs": [
    {
     "name": "stdout",
     "output_type": "stream",
     "text": [
      "10\n"
     ]
    }
   ],
   "source": [
    "sub_idx = 0\n",
    "slice_idx = 2\n",
    "T1a_dir = '/home/xiaoyu/MRIdata_group/T1w/axial/sub{}/slice{}'.format(sub_idx,slice_idx)\n",
    "parc1a_dir = '/home/xiaoyu/MRIdata_group/parc_1/axial/sub{}/slice{}'.format(sub_idx,slice_idx)\n",
    "total_data = TrainDataset(T1a_dir=T1a_dir, parc1a_dir = parc1a_dir)\n",
    "print(len(total_data))"
   ]
  },
  {
   "cell_type": "code",
   "execution_count": 25,
   "metadata": {},
   "outputs": [
    {
     "name": "stdout",
     "output_type": "stream",
     "text": [
      "3300\n"
     ]
    }
   ],
   "source": [
    "slice_idx = 2\n",
    "for sub_idx in range(1,330):\n",
    "    T1a_dir = '/home/xiaoyu/MRIdata_group/T1w/axial/sub{}/slice{}'.format(sub_idx,slice_idx)\n",
    "    parc1a_dir = '/home/xiaoyu/MRIdata_group/parc_1/axial/sub{}/slice{}'.format(sub_idx,slice_idx)\n",
    "    train_data = TrainDataset(T1a_dir=T1a_dir, parc1a_dir = parc1a_dir)\n",
    "    total_data = total_data + train_data\n",
    "print(len(total_data))\n",
    "# total training images pairs is 3300."
   ]
  },
  {
   "cell_type": "code",
   "execution_count": 27,
   "metadata": {},
   "outputs": [],
   "source": [
    "dataloader = DataLoader(total_data, batch_size = 5, shuffle = True, num_workers = 4)"
   ]
  },
  {
   "cell_type": "code",
   "execution_count": 28,
   "metadata": {},
   "outputs": [],
   "source": [
    "criterion = nn.NLLLoss()\n",
    "optimizer = optim.Adam(model.parameters() ,lr=0.001)"
   ]
  },
  {
   "cell_type": "code",
   "execution_count": 29,
   "metadata": {},
   "outputs": [
    {
     "data": {
      "image/png": "[encoded data removed]",
      "text/plain": [
       "<Figure size 864x576 with 1 Axes>"
      ]
     },
     "metadata": {
      "needs_background": "light"
     },
     "output_type": "display_data"
    },
    {
     "name": "stdout",
     "output_type": "stream",
     "text": [
      "log loss:\n",
      "training   (min:    0.231, max:    0.473, cur:    0.231)\n",
      "Finish Training\n"
     ]
    }
   ],
   "source": [
    "liveloss = PlotLosses()\n",
    "for epoch in range(0,50):\n",
    "    logs = {}\n",
    "    running_loss = 0\n",
    "    num_batches = 0\n",
    "    for i_batch, sample_batched in enumerate(dataloader):\n",
    "    \n",
    "        optimizer.zero_grad()\n",
    "        \n",
    "        #get the inputs\n",
    "        inputs, labels = sample_batched['T1a'], sample_batched['parc1a']\n",
    "        \n",
    "\n",
    "        inputs = inputs.to(device)\n",
    "        labels = labels.to(device)\n",
    "\n",
    "        inputs.requires_grad_()\n",
    "        \n",
    "        #forward + backward +optimize\n",
    "        scores = model(inputs)\n",
    "\n",
    "          \n",
    "        # Define the loss\n",
    "        loss = criterion(scores, labels.long()) \n",
    "        loss.backward()\n",
    "        optimizer.step()\n",
    "        \n",
    "        # compute and accumulate stats\n",
    "        running_loss += loss.detach().item()\n",
    "       \n",
    "        num_batches+=1 \n",
    "        \n",
    "        \n",
    "    # AVERAGE STATS THEN DISPLAY    \n",
    "    total_loss = running_loss/num_batches\n",
    "   \n",
    "    elapsed = (time.time()-start)/60\n",
    "        \n",
    "    print('epoch=',epoch, '\\t time=', elapsed,'min', '\\t loss=', total_loss )\n",
    "    logs['log loss'] = total_loss\n",
    "            \n",
    "    liveloss.update(logs)\n",
    "    liveloss.draw()\n",
    " \n",
    "print('Finish Training')\n",
    "\n",
    "           "
   ]
  },
  {
   "cell_type": "code",
   "execution_count": null,
   "metadata": {},
   "outputs": [],
   "source": []
  },
  {
   "cell_type": "code",
   "execution_count": null,
   "metadata": {},
   "outputs": [],
   "source": []
  },
  {
   "cell_type": "code",
   "execution_count": null,
   "metadata": {},
   "outputs": [],
   "source": []
  },
  {
   "cell_type": "code",
   "execution_count": null,
   "metadata": {},
   "outputs": [],
   "source": []
  },
  {
   "cell_type": "code",
   "execution_count": null,
   "metadata": {},
   "outputs": [],
   "source": []
  },
  {
   "cell_type": "code",
   "execution_count": null,
   "metadata": {},
   "outputs": [],
   "source": []
  },
  {
   "cell_type": "code",
   "execution_count": null,
   "metadata": {},
   "outputs": [],
   "source": []
  },
  {
   "cell_type": "code",
   "execution_count": null,
   "metadata": {},
   "outputs": [],
   "source": []
  },
  {
   "cell_type": "code",
   "execution_count": null,
   "metadata": {},
   "outputs": [],
   "source": []
  },
  {
   "cell_type": "code",
   "execution_count": null,
   "metadata": {},
   "outputs": [],
   "source": []
  },
  {
   "cell_type": "code",
   "execution_count": null,
   "metadata": {},
   "outputs": [],
   "source": []
  }
 ],
 "metadata": {
  "kernelspec": {
   "display_name": "Python 3",
   "language": "python",
   "name": "python3"
  },
  "language_info": {
   "codemirror_mode": {
    "name": "ipython",
    "version": 3
   },
   "file_extension": ".py",
   "mimetype": "text/x-python",
   "name": "python",
   "nbconvert_exporter": "python",
   "pygments_lexer": "ipython3",
   "version": "3.6.7"
  }
 },
 "nbformat": 4,
 "nbformat_minor": 2
}
