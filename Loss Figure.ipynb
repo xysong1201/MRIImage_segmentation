{
 "cells": [
  {
   "cell_type": "code",
   "execution_count": 5,
   "metadata": {},
   "outputs": [],
   "source": [
    "import matplotlib.pyplot as plt\n",
    "import numpy as np"
   ]
  },
  {
   "cell_type": "code",
   "execution_count": 16,
   "metadata": {},
   "outputs": [
    {
     "data": {
      "text/plain": [
       "[<matplotlib.lines.Line2D at 0x7f0eb5e3ba58>]"
      ]
     },
     "execution_count": 16,
     "metadata": {},
     "output_type": "execute_result"
    },
    {
     "data": {
      "image/png": "[encoded data removed]",
      "text/plain": [
       "<Figure size 432x288 with 1 Axes>"
      ]
     },
     "metadata": {
      "needs_background": "light"
     },
     "output_type": "display_data"
    }
   ],
   "source": [
    "a = np.arange(14)\n",
    "b = ([2.05, 0.90, 0.80, 0.87, 0.86, 0.89, 0.90, 0.94, 0.81, 0.75, 1.07, 0.99,0.94,0.97 ])\n",
    "plt.xlabel('Subjects')\n",
    "plt.ylabel('Loss')\n",
    "plt.title('Total loss')\n",
    "plt.axis([0, 15, 0, 2.1])\n",
    "plt.plot(a,b)"
   ]
  },
  {
   "cell_type": "code",
   "execution_count": null,
   "metadata": {},
   "outputs": [],
   "source": [
    "\n",
    "Subject num: 3\n",
    "epoch= 0 \t   \t loss= 0.74  \n",
    "epoch= 1 \t  \t loss= 0.70  \n",
    "epoch= 2 \t   \t loss= 0.67  \n",
    "epoch= 3 \t   \t loss= 0.66  \n",
    "epoch= 4 \t   \t loss= 0.67  \n",
    "epoch= 5 \t   \t loss= 0.65  \n",
    "epoch= 6 \t  \t loss= 0.63  \n",
    "epoch= 7 \t     loss= 0.62  \n",
    "epoch= 8 \t   \t loss= 0.62  \n",
    "epoch= 9 \t  \t loss= 0.63  \n",
    "Finish Training\n",
    "\n",
    "Subject num: 4\n",
    "epoch= 0 \t   \t loss= 0.74  \n",
    "epoch= 1 \t  \t loss= 0.70  \n",
    "epoch= 2 \t  \t loss= 0.69  \n",
    "epoch= 3 \t  \t loss= 0.69  \n",
    "epoch= 4 \t   \t loss= 0.69  \n",
    "epoch= 5 \t   \t loss= 0.66  \n",
    "epoch= 6 \t   \t loss= 0.65  \n",
    "epoch= 7 \t   \t loss= 0.65  \n",
    "epoch= 8 \t  \t loss= 0.65  \n",
    "epoch= 9 \t   \t loss= 0.65  \n",
    "Finish Training\n",
    "\n",
    "Subject num: 5\n",
    "epoch= 0 \t   \t loss= 0.74  \n",
    "epoch= 1 \t   \t loss= 0.69  \n",
    "epoch= 2 \t  \t loss= 0.68  \n",
    "epoch= 3 \t   \t loss= 0.67  \n",
    "epoch= 4 \t   \t loss= 0.66  \n",
    "epoch= 5 \t   \t loss= 0.66  \n",
    "epoch= 6 \t  \t loss= 0.65  \n",
    "epoch= 7 \t   \t loss= 0.65  \n",
    "epoch= 8 \t  \t loss= 0.65  \n",
    "epoch= 9 \t  \t loss= 0.64  \n",
    "Finish Training\n",
    "\n",
    "\n"
   ]
  },
  {
   "cell_type": "code",
   "execution_count": 15,
   "metadata": {},
   "outputs": [
    {
     "data": {
      "text/plain": [
       "[<matplotlib.lines.Line2D at 0x7f0eb5c099b0>]"
      ]
     },
     "execution_count": 15,
     "metadata": {},
     "output_type": "execute_result"
    },
    {
     "data": {
      "image/png": "[encoded data removed]",
      "text/plain": [
       "<Figure size 432x288 with 1 Axes>"
      ]
     },
     "metadata": {
      "needs_background": "light"
     },
     "output_type": "display_data"
    }
   ],
   "source": [
    "a = np.arange(20)\n",
    "b = ([2.23, 0.86, 0.81, 0.81, 0.81, 0.78, 0.78, 0.79, 0.76, 0.76, 0.85, 0.82, 0.81, 0.79, 0.79,\n",
    "      0.78, 0.80, 0.78, 0.77, 0.74 ])\n",
    "plt.axis([0, 20, 0, 2.5])\n",
    "plt.plot(a,b)"
   ]
  },
  {
   "cell_type": "code",
   "execution_count": 17,
   "metadata": {},
   "outputs": [
    {
     "ename": "ModuleNotFoundError",
     "evalue": "No module named 'nohup'",
     "output_type": "error",
     "traceback": [
      "\u001b[0;31m---------------------------------------------------------------------------\u001b[0m",
      "\u001b[0;31mModuleNotFoundError\u001b[0m                       Traceback (most recent call last)",
      "\u001b[0;32m<ipython-input-17-365fdf3122d6>\u001b[0m in \u001b[0;36m<module>\u001b[0;34m\u001b[0m\n\u001b[0;32m----> 1\u001b[0;31m \u001b[0;32mimport\u001b[0m \u001b[0mnohup\u001b[0m\u001b[0;34m.\u001b[0m\u001b[0mout\u001b[0m\u001b[0;34m\u001b[0m\u001b[0;34m\u001b[0m\u001b[0m\n\u001b[0m",
      "\u001b[0;31mModuleNotFoundError\u001b[0m: No module named 'nohup'"
     ]
    }
   ],
   "source": [
    "import nohup.out"
   ]
  },
  {
   "cell_type": "code",
   "execution_count": null,
   "metadata": {},
   "outputs": [],
   "source": []
  }
 ],
 "metadata": {
  "kernelspec": {
   "display_name": "Python 3",
   "language": "python",
   "name": "python3"
  },
  "language_info": {
   "codemirror_mode": {
    "name": "ipython",
    "version": 3
   },
   "file_extension": ".py",
   "mimetype": "text/x-python",
   "name": "python",
   "nbconvert_exporter": "python",
   "pygments_lexer": "ipython3",
   "version": "3.6.7"
  }
 },
 "nbformat": 4,
 "nbformat_minor": 2
}
