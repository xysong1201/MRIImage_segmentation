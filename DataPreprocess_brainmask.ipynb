{
 "cells": [
  {
   "cell_type": "code",
   "execution_count": 2,
   "metadata": {},
   "outputs": [],
   "source": [
    "import os\n",
    "import torch\n",
    "import matplotlib.pyplot as plt\n",
    "from skimage import io, transform\n",
    "from torchvision import transforms, utils\n",
    "import numpy as np\n",
    "import nibabel as nib\n",
    "from random import randint\n",
    "from PIL import Image"
   ]
  },
  {
   "cell_type": "code",
   "execution_count": 3,
   "metadata": {},
   "outputs": [],
   "source": [
    "brainmask_dir = '/home/xiaoyu/mri_data/brainmask'"
   ]
  },
  {
   "cell_type": "code",
   "execution_count": 4,
   "metadata": {},
   "outputs": [
    {
     "name": "stdout",
     "output_type": "stream",
     "text": [
      "\n",
      "Brainmask num:\n",
      "330\n"
     ]
    }
   ],
   "source": [
    "brainmask_list = os.listdir(brainmask_dir)\n",
    "print('\\nBrainmask num:')\n",
    "print(len(brainmask_list))"
   ]
  },
  {
   "cell_type": "code",
   "execution_count": 5,
   "metadata": {},
   "outputs": [
    {
     "name": "stdout",
     "output_type": "stream",
     "text": [
      "torch.Size([182, 217, 182])\n"
     ]
    }
   ],
   "source": [
    "brainmask_str = brainmask_list[0]\n",
    "brainmask_nifti = nib.load(os.path.join(brainmask_dir,brainmask_str))\n",
    "brainmask_arr = brainmask_nifti.get_fdata()\n",
    "brainmask_tensor = torch.from_numpy(brainmask_arr)\n",
    "print(brainmask_tensor.shape)"
   ]
  },
  {
   "cell_type": "markdown",
   "metadata": {},
   "source": [
    "### I. Slice the 3D brainmask data\n",
    "There are 330 3D MRI brainmask data. For each brainmask data, there will be 3 planes, the slice is the same for T1w data"
   ]
  },
  {
   "cell_type": "code",
   "execution_count": 6,
   "metadata": {},
   "outputs": [],
   "source": [
    "# iterate over 330 parcellation scale-1 data\n",
    "for i in range(330):\n",
    "    brainmask_str = brainmask_list[i]\n",
    "    brainmask_nifti = nib.load(os.path.join(brainmask_dir,brainmask_str))\n",
    "    brainmask_arr = brainmask_nifti.get_fdata()\n",
    "    brainmask_tensor = torch.from_numpy(brainmask_arr)\n",
    "\n",
    "    for j in range(182):\n",
    "        axial_slice = brainmask_tensor[:,:,j]\n",
    "        axial_arr = axial_slice.byte().numpy()\n",
    "        axial_im = Image.fromarray(axial_arr)\n",
    "        axial_im.save('/home/xiaoyu/MRIdata/brainmask/axial/sub{}/slice_{}.jpg'.format(i,j))\n",
    "    for k in range(217):\n",
    "        sagittal_slice = brainmask_tensor[:,k,:]\n",
    "        sagittal_arr = sagittal_slice.byte().numpy()\n",
    "        sagittal_im = Image.fromarray(sagittal_arr)\n",
    "        sagittal_im.save('/home/xiaoyu/MRIdata/brainmask/sagittal/sub{}/slice_{}.jpg'.format(i,k))\n",
    "    for m in range(182):\n",
    "        coronal_slice = brainmask_tensor[m,:,:]\n",
    "        coronal_arr = coronal_slice.byte().numpy()\n",
    "        coronal_im = Image.fromarray(coronal_arr)\n",
    "        coronal_im.save('/home/xiaoyu/MRIdata/brainmask/coronal/sub{}/slice_{}.jpg'.format(i,m))\n"
   ]
  },
  {
   "cell_type": "code",
   "execution_count": null,
   "metadata": {},
   "outputs": [],
   "source": []
  }
 ],
 "metadata": {
  "kernelspec": {
   "display_name": "Python 3",
   "language": "python",
   "name": "python3"
  },
  "language_info": {
   "codemirror_mode": {
    "name": "ipython",
    "version": 3
   },
   "file_extension": ".py",
   "mimetype": "text/x-python",
   "name": "python",
   "nbconvert_exporter": "python",
   "pygments_lexer": "ipython3",
   "version": "3.6.7"
  }
 },
 "nbformat": 4,
 "nbformat_minor": 2
}
