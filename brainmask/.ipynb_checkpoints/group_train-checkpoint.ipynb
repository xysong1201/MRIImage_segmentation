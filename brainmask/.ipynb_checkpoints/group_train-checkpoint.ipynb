{
 "cells": [
  {
   "cell_type": "code",
   "execution_count": 1,
   "metadata": {},
   "outputs": [],
   "source": [
    "import os\n",
    "from torch.utils.data import Dataset, DataLoader, ConcatDataset,  WeightedRandomSampler\n",
    "from skimage import io, transform\n",
    "from torchvision import transforms, utils\n",
    "import torch\n",
    "import numpy as np\n",
    "import nibabel as nib\n",
    "from random import randint\n",
    "from PIL import Image\n",
    "import torch.optim as optim\n",
    "import time\n",
    "import torch.nn as nn\n",
    "from my_Dataset import TrainDataset\n",
    "import matplotlib.pyplot as plt\n",
    "from weight_axial import weight,count\n",
    "from QN import QuickNat"
   ]
  },
  {
   "cell_type": "code",
   "execution_count": 2,
   "metadata": {},
   "outputs": [
    {
     "name": "stdout",
     "output_type": "stream",
     "text": [
      "cuda\n"
     ]
    }
   ],
   "source": [
    "gpu_id = 0\n",
    "os.environ[\"CUDA_DEVICE_ORDER\"] = \"PCI_BUS_ID\"\n",
    "os.environ[\"CUDA_VISIBLE_DEVICES\"] = str(gpu_id)\n",
    "\n",
    "device = torch.device('cuda')\n",
    "print(device)"
   ]
  },
  {
   "cell_type": "code",
   "execution_count": 3,
   "metadata": {},
   "outputs": [],
   "source": [
    "sub_idx = 0\n",
    "slice_idx = 1\n",
    "T1a_dir = '/home/xiaoyu/MRIdata_group/T1w/axial/sub{}/slice{}'.format(sub_idx,slice_idx)\n",
    "parc1a_dir = '/home/xiaoyu/MRIdata_group/parc_1/axial/sub{}/slice{}'.format(sub_idx,slice_idx)\n",
    "total_data = TrainDataset(T1a_dir=T1a_dir, parc1a_dir = parc1a_dir)"
   ]
  },
  {
   "cell_type": "code",
   "execution_count": 4,
   "metadata": {},
   "outputs": [
    {
     "name": "stdout",
     "output_type": "stream",
     "text": [
      "20\n"
     ]
    }
   ],
   "source": [
    "for sub_idx in range(1):\n",
    "    T1a_dir = '/home/xiaoyu/MRIdata_group/T1w/axial/sub{}/slice{}'.format(sub_idx,slice_idx)\n",
    "    parc1a_dir = '/home/xiaoyu/MRIdata_group/parc_1/axial/sub{}/slice{}'.format(sub_idx,slice_idx)\n",
    "    train_data = TrainDataset(T1a_dir=T1a_dir, parc1a_dir = parc1a_dir)\n",
    "    total_data = total_data + train_data\n",
    "print(len(total_data))"
   ]
  },
  {
   "cell_type": "code",
   "execution_count": 5,
   "metadata": {},
   "outputs": [
    {
     "name": "stdout",
     "output_type": "stream",
     "text": [
      "20\n"
     ]
    }
   ],
   "source": [
    "dataloader = DataLoader(total_data, batch_size = 1, shuffle = True, num_workers = 4)\n",
    "print(len(dataloader))"
   ]
  },
  {
   "cell_type": "code",
   "execution_count": 6,
   "metadata": {},
   "outputs": [
    {
     "name": "stdout",
     "output_type": "stream",
     "text": [
      "3526721\n"
     ]
    }
   ],
   "source": [
    "params= {'num_channels':1, 'num_filters':64, 'kernel_h':5, 'kernel_w':5, 'kernel_c':1, 'stride_conv':1,'pool':2, \n",
    "         'stride_pool':2, 'num_class':178, 'se_block': 'CSSE','drop_out':0.2}\n",
    "model = QuickNat(params)\n",
    "start=time.time()\n",
    "nb_param=0\n",
    "for param in model.parameters():\n",
    "    nb_param+=np.prod(list(param.data.size()))\n",
    "print(nb_param)"
   ]
  },
  {
   "cell_type": "code",
   "execution_count": 7,
   "metadata": {},
   "outputs": [
    {
     "name": "stdout",
     "output_type": "stream",
     "text": [
      "QuickNat(\n",
      "  (encode1): EncoderBlock(\n",
      "    (conv1): Conv2d(1, 64, kernel_size=(5, 5), stride=(1, 1), padding=(2, 2))\n",
      "    (conv2): Conv2d(65, 64, kernel_size=(5, 5), stride=(1, 1), padding=(2, 2))\n",
      "    (conv3): Conv2d(129, 64, kernel_size=(1, 1), stride=(1, 1))\n",
      "    (batchnorm1): BatchNorm2d(1, eps=1e-05, momentum=0.1, affine=True, track_running_stats=True)\n",
      "    (batchnorm2): BatchNorm2d(65, eps=1e-05, momentum=0.1, affine=True, track_running_stats=True)\n",
      "    (batchnorm3): BatchNorm2d(129, eps=1e-05, momentum=0.1, affine=True, track_running_stats=True)\n",
      "    (prelu): PReLU(num_parameters=1)\n",
      "    (drop_out): Dropout2d(p=0.2)\n",
      "    (maxpool): MaxPool2d(kernel_size=2, stride=2, padding=0, dilation=1, ceil_mode=False)\n",
      "  )\n",
      "  (encode2): EncoderBlock(\n",
      "    (conv1): Conv2d(64, 64, kernel_size=(5, 5), stride=(1, 1), padding=(2, 2))\n",
      "    (conv2): Conv2d(128, 64, kernel_size=(5, 5), stride=(1, 1), padding=(2, 2))\n",
      "    (conv3): Conv2d(192, 64, kernel_size=(1, 1), stride=(1, 1))\n",
      "    (batchnorm1): BatchNorm2d(64, eps=1e-05, momentum=0.1, affine=True, track_running_stats=True)\n",
      "    (batchnorm2): BatchNorm2d(128, eps=1e-05, momentum=0.1, affine=True, track_running_stats=True)\n",
      "    (batchnorm3): BatchNorm2d(192, eps=1e-05, momentum=0.1, affine=True, track_running_stats=True)\n",
      "    (prelu): PReLU(num_parameters=1)\n",
      "    (drop_out): Dropout2d(p=0.2)\n",
      "    (maxpool): MaxPool2d(kernel_size=2, stride=2, padding=0, dilation=1, ceil_mode=False)\n",
      "  )\n",
      "  (encode3): EncoderBlock(\n",
      "    (conv1): Conv2d(64, 64, kernel_size=(5, 5), stride=(1, 1), padding=(2, 2))\n",
      "    (conv2): Conv2d(128, 64, kernel_size=(5, 5), stride=(1, 1), padding=(2, 2))\n",
      "    (conv3): Conv2d(192, 64, kernel_size=(1, 1), stride=(1, 1))\n",
      "    (batchnorm1): BatchNorm2d(64, eps=1e-05, momentum=0.1, affine=True, track_running_stats=True)\n",
      "    (batchnorm2): BatchNorm2d(128, eps=1e-05, momentum=0.1, affine=True, track_running_stats=True)\n",
      "    (batchnorm3): BatchNorm2d(192, eps=1e-05, momentum=0.1, affine=True, track_running_stats=True)\n",
      "    (prelu): PReLU(num_parameters=1)\n",
      "    (drop_out): Dropout2d(p=0.2)\n",
      "    (maxpool): MaxPool2d(kernel_size=2, stride=2, padding=0, dilation=1, ceil_mode=False)\n",
      "  )\n",
      "  (encode4): EncoderBlock(\n",
      "    (conv1): Conv2d(64, 64, kernel_size=(5, 5), stride=(1, 1), padding=(2, 2))\n",
      "    (conv2): Conv2d(128, 64, kernel_size=(5, 5), stride=(1, 1), padding=(2, 2))\n",
      "    (conv3): Conv2d(192, 64, kernel_size=(1, 1), stride=(1, 1))\n",
      "    (batchnorm1): BatchNorm2d(64, eps=1e-05, momentum=0.1, affine=True, track_running_stats=True)\n",
      "    (batchnorm2): BatchNorm2d(128, eps=1e-05, momentum=0.1, affine=True, track_running_stats=True)\n",
      "    (batchnorm3): BatchNorm2d(192, eps=1e-05, momentum=0.1, affine=True, track_running_stats=True)\n",
      "    (prelu): PReLU(num_parameters=1)\n",
      "    (drop_out): Dropout2d(p=0.2)\n",
      "    (maxpool): MaxPool2d(kernel_size=2, stride=2, padding=0, dilation=1, ceil_mode=False)\n",
      "  )\n",
      "  (bottleneck): DenseBlock(\n",
      "    (conv1): Conv2d(64, 64, kernel_size=(5, 5), stride=(1, 1), padding=(2, 2))\n",
      "    (conv2): Conv2d(128, 64, kernel_size=(5, 5), stride=(1, 1), padding=(2, 2))\n",
      "    (conv3): Conv2d(192, 64, kernel_size=(1, 1), stride=(1, 1))\n",
      "    (batchnorm1): BatchNorm2d(64, eps=1e-05, momentum=0.1, affine=True, track_running_stats=True)\n",
      "    (batchnorm2): BatchNorm2d(128, eps=1e-05, momentum=0.1, affine=True, track_running_stats=True)\n",
      "    (batchnorm3): BatchNorm2d(192, eps=1e-05, momentum=0.1, affine=True, track_running_stats=True)\n",
      "    (prelu): PReLU(num_parameters=1)\n",
      "    (drop_out): Dropout2d(p=0.2)\n",
      "  )\n",
      "  (decode1): DecoderBlock(\n",
      "    (conv1): Conv2d(128, 64, kernel_size=(5, 5), stride=(1, 1), padding=(2, 2))\n",
      "    (conv2): Conv2d(192, 64, kernel_size=(5, 5), stride=(1, 1), padding=(2, 2))\n",
      "    (conv3): Conv2d(256, 64, kernel_size=(1, 1), stride=(1, 1))\n",
      "    (batchnorm1): BatchNorm2d(128, eps=1e-05, momentum=0.1, affine=True, track_running_stats=True)\n",
      "    (batchnorm2): BatchNorm2d(192, eps=1e-05, momentum=0.1, affine=True, track_running_stats=True)\n",
      "    (batchnorm3): BatchNorm2d(256, eps=1e-05, momentum=0.1, affine=True, track_running_stats=True)\n",
      "    (prelu): PReLU(num_parameters=1)\n",
      "    (drop_out): Dropout2d(p=0.2)\n",
      "    (unpool): MaxUnpool2d(kernel_size=(2, 2), stride=(2, 2), padding=(0, 0))\n",
      "  )\n",
      "  (decode2): DecoderBlock(\n",
      "    (conv1): Conv2d(128, 64, kernel_size=(5, 5), stride=(1, 1), padding=(2, 2))\n",
      "    (conv2): Conv2d(192, 64, kernel_size=(5, 5), stride=(1, 1), padding=(2, 2))\n",
      "    (conv3): Conv2d(256, 64, kernel_size=(1, 1), stride=(1, 1))\n",
      "    (batchnorm1): BatchNorm2d(128, eps=1e-05, momentum=0.1, affine=True, track_running_stats=True)\n",
      "    (batchnorm2): BatchNorm2d(192, eps=1e-05, momentum=0.1, affine=True, track_running_stats=True)\n",
      "    (batchnorm3): BatchNorm2d(256, eps=1e-05, momentum=0.1, affine=True, track_running_stats=True)\n",
      "    (prelu): PReLU(num_parameters=1)\n",
      "    (drop_out): Dropout2d(p=0.2)\n",
      "    (unpool): MaxUnpool2d(kernel_size=(2, 2), stride=(2, 2), padding=(0, 0))\n",
      "  )\n",
      "  (decode3): DecoderBlock(\n",
      "    (conv1): Conv2d(128, 64, kernel_size=(5, 5), stride=(1, 1), padding=(2, 2))\n",
      "    (conv2): Conv2d(192, 64, kernel_size=(5, 5), stride=(1, 1), padding=(2, 2))\n",
      "    (conv3): Conv2d(256, 64, kernel_size=(1, 1), stride=(1, 1))\n",
      "    (batchnorm1): BatchNorm2d(128, eps=1e-05, momentum=0.1, affine=True, track_running_stats=True)\n",
      "    (batchnorm2): BatchNorm2d(192, eps=1e-05, momentum=0.1, affine=True, track_running_stats=True)\n",
      "    (batchnorm3): BatchNorm2d(256, eps=1e-05, momentum=0.1, affine=True, track_running_stats=True)\n",
      "    (prelu): PReLU(num_parameters=1)\n",
      "    (drop_out): Dropout2d(p=0.2)\n",
      "    (unpool): MaxUnpool2d(kernel_size=(2, 2), stride=(2, 2), padding=(0, 0))\n",
      "  )\n",
      "  (decode4): DecoderBlock(\n",
      "    (conv1): Conv2d(128, 64, kernel_size=(5, 5), stride=(1, 1), padding=(2, 2))\n",
      "    (conv2): Conv2d(192, 64, kernel_size=(5, 5), stride=(1, 1), padding=(2, 2))\n",
      "    (conv3): Conv2d(256, 64, kernel_size=(1, 1), stride=(1, 1))\n",
      "    (batchnorm1): BatchNorm2d(128, eps=1e-05, momentum=0.1, affine=True, track_running_stats=True)\n",
      "    (batchnorm2): BatchNorm2d(192, eps=1e-05, momentum=0.1, affine=True, track_running_stats=True)\n",
      "    (batchnorm3): BatchNorm2d(256, eps=1e-05, momentum=0.1, affine=True, track_running_stats=True)\n",
      "    (prelu): PReLU(num_parameters=1)\n",
      "    (drop_out): Dropout2d(p=0.2)\n",
      "    (unpool): MaxUnpool2d(kernel_size=(2, 2), stride=(2, 2), padding=(0, 0))\n",
      "  )\n",
      "  (classifier): ClassifierBlock(\n",
      "    (conv): Conv2d(64, 178, kernel_size=(1, 1), stride=(1, 1))\n",
      "  )\n",
      ")\n"
     ]
    }
   ],
   "source": [
    "print(model)"
   ]
  },
  {
   "cell_type": "code",
   "execution_count": 8,
   "metadata": {},
   "outputs": [
    {
     "name": "stdout",
     "output_type": "stream",
     "text": [
      "torch.Size([5, 178, 128, 128])\n"
     ]
    }
   ],
   "source": [
    "bs=5\n",
    "x=torch.rand(bs,1,128,128)\n",
    "y = model(x)\n",
    "print(y.size())"
   ]
  },
  {
   "cell_type": "code",
   "execution_count": 9,
   "metadata": {},
   "outputs": [],
   "source": [
    "model = model.to(device)\n",
    "weight = weight.to(device)\n",
    "criterion = nn.NLLLoss(weight = weight)\n",
    "optimizer = optim.Adam(model.parameters() ,lr=0.001)\n",
    "scheduler = optim.lr_scheduler.StepLR(optimizer, step_size=100, gamma=0.85)"
   ]
  },
  {
   "cell_type": "code",
   "execution_count": 10,
   "metadata": {},
   "outputs": [
    {
     "name": "stdout",
     "output_type": "stream",
     "text": [
      "epoch= 0 \t time= 0.13354098399480183 min \t loss= 4.925171542167663\n",
      "[4.92517154]\n",
      "epoch= 1 \t time= 0.1681247353553772 min \t loss= 4.117779421806335\n",
      "epoch= 2 \t time= 0.20226085980733235 min \t loss= 3.4000993430614472\n",
      "epoch= 3 \t time= 0.2369896451632182 min \t loss= 3.031698301434517\n",
      "epoch= 4 \t time= 0.27477798859278363 min \t loss= 2.863983911275864\n",
      "epoch= 5 \t time= 0.3090762694676717 min \t loss= 2.6729476511478425\n",
      "epoch= 6 \t time= 0.3451522350311279 min \t loss= 2.417430019378662\n",
      "epoch= 7 \t time= 0.3834357976913452 min \t loss= 2.1779849350452425\n",
      "epoch= 8 \t time= 0.42239676316579183 min \t loss= 1.992388278245926\n",
      "epoch= 9 \t time= 0.46043285926183064 min \t loss= 1.8316055953502655\n",
      "epoch= 10 \t time= 0.4945728023846944 min \t loss= 1.7364402890205384\n",
      "epoch= 11 \t time= 0.5298711697260539 min \t loss= 1.6997969210147859\n",
      "epoch= 12 \t time= 0.5658544818560283 min \t loss= 1.6368350967764855\n",
      "epoch= 13 \t time= 0.5993229945500692 min \t loss= 1.5225629225373267\n",
      "epoch= 14 \t time= 0.6345714966456095 min \t loss= 1.377644059062004\n",
      "epoch= 15 \t time= 0.6727466384569804 min \t loss= 1.2371882945299149\n",
      "epoch= 16 \t time= 0.7072520772616069 min \t loss= 1.2120954155921937\n",
      "epoch= 17 \t time= 0.7433536410331726 min \t loss= 1.1364602729678155\n",
      "epoch= 18 \t time= 0.7791220823923747 min \t loss= 1.1693712696433067\n",
      "epoch= 19 \t time= 0.8143271485964457 min \t loss= 1.1392512187361716\n",
      "epoch= 20 \t time= 0.8498424410820007 min \t loss= 1.082711138576269\n",
      "epoch= 21 \t time= 0.8835376739501953 min \t loss= 1.0016913697123528\n",
      "epoch= 22 \t time= 0.9179909149805705 min \t loss= 1.0023239746689796\n",
      "epoch= 23 \t time= 0.9531771977742513 min \t loss= 0.9531744360923767\n",
      "epoch= 24 \t time= 0.990615963935852 min \t loss= 0.9667600400745868\n",
      "epoch= 25 \t time= 1.025449268023173 min \t loss= 0.925660565495491\n",
      "epoch= 26 \t time= 1.0584999004999796 min \t loss= 0.8537050738930703\n",
      "epoch= 27 \t time= 1.0928760846455892 min \t loss= 1.1112263470888137\n",
      "epoch= 28 \t time= 1.130097222328186 min \t loss= 0.9221617192029953\n",
      "epoch= 29 \t time= 1.1662347714106243 min \t loss= 0.7939924068748951\n",
      "epoch= 30 \t time= 1.2009608070055644 min \t loss= 0.7272885873913765\n",
      "epoch= 31 \t time= 1.2352223833401998 min \t loss= 0.6780226290225982\n",
      "epoch= 32 \t time= 1.2699215888977051 min \t loss= 0.6428404286503792\n",
      "epoch= 33 \t time= 1.303832733631134 min \t loss= 0.5798638068139553\n",
      "epoch= 34 \t time= 1.3381905992825827 min \t loss= 0.6130535751581192\n",
      "epoch= 35 \t time= 1.3755597631136576 min \t loss= 0.5637608617544174\n",
      "epoch= 36 \t time= 1.411186953385671 min \t loss= 0.5503282599151135\n",
      "epoch= 37 \t time= 1.4447107752164206 min \t loss= 0.504365436732769\n",
      "epoch= 38 \t time= 1.481501539548238 min \t loss= 0.48864186108112334\n",
      "epoch= 39 \t time= 1.5157858848571777 min \t loss= 0.4547960963100195\n",
      "epoch= 40 \t time= 1.5512991348902385 min \t loss= 0.41177007295191287\n",
      "epoch= 41 \t time= 1.5884501695632935 min \t loss= 0.45072692818939686\n",
      "epoch= 42 \t time= 1.6216252009073893 min \t loss= 0.41926741749048235\n",
      "epoch= 43 \t time= 1.6588362495104472 min \t loss= 0.43180335536599157\n",
      "epoch= 44 \t time= 1.6965317567189535 min \t loss= 0.3527676723897457\n",
      "epoch= 45 \t time= 1.7348676681518556 min \t loss= 0.34401460625231267\n",
      "epoch= 46 \t time= 1.7722163200378418 min \t loss= 0.502862012386322\n",
      "epoch= 47 \t time= 1.8068496624628703 min \t loss= 0.7252745434641839\n",
      "epoch= 48 \t time= 1.8407796422640483 min \t loss= 0.5714282877743244\n",
      "epoch= 49 \t time= 1.8751288255055745 min \t loss= 0.418312818557024\n",
      "epoch= 50 \t time= 1.9112347960472107 min \t loss= 0.32546680346131324\n",
      "[4.92517154 4.11777942 3.40009934 3.0316983  2.86398391 2.67294765\n",
      " 2.41743002 2.17798494 1.99238828 1.8316056  1.73644029 1.69979692\n",
      " 1.6368351  1.52256292 1.37764406 1.23718829 1.21209542 1.13646027\n",
      " 1.16937127 1.13925122 1.08271114 1.00169137 1.00232397 0.95317444\n",
      " 0.96676004 0.92566057 0.85370507 1.11122635 0.92216172 0.79399241\n",
      " 0.72728859 0.67802263 0.64284043 0.57986381 0.61305358 0.56376086\n",
      " 0.55032826 0.50436544 0.48864186 0.4547961  0.41177007 0.45072693\n",
      " 0.41926742 0.43180336 0.35276767 0.34401461 0.50286201 0.72527454\n",
      " 0.57142829 0.41831282 0.3254668 ]\n",
      "epoch= 51 \t time= 1.9468364437421164 min \t loss= 0.2756870958954096\n",
      "epoch= 52 \t time= 1.9809305628140768 min \t loss= 0.28427551668137313\n",
      "epoch= 53 \t time= 2.0163507064183555 min \t loss= 0.2278590939939022\n",
      "epoch= 54 \t time= 2.0532092531522115 min \t loss= 0.19959638863801957\n",
      "epoch= 55 \t time= 2.0868030349413553 min \t loss= 0.18870760835707187\n",
      "epoch= 56 \t time= 2.12027991215388 min \t loss= 0.16912629455327988\n",
      "epoch= 57 \t time= 2.1527085820833842 min \t loss= 0.14853024035692214\n",
      "epoch= 58 \t time= 2.186585299173991 min \t loss= 0.14719224702566863\n",
      "epoch= 59 \t time= 2.22065155506134 min \t loss= 0.14067046362906693\n",
      "epoch= 60 \t time= 2.25518722931544 min \t loss= 0.12394143622368574\n",
      "epoch= 61 \t time= 2.2901970227559407 min \t loss= 0.11944210082292557\n",
      "epoch= 62 \t time= 2.3239887356758118 min \t loss= 0.13702404461801052\n",
      "epoch= 63 \t time= 2.3580767353375753 min \t loss= 0.11528961043804883\n",
      "epoch= 64 \t time= 2.3953638235727945 min \t loss= 0.09845811920240521\n",
      "epoch= 65 \t time= 2.4292354464530943 min \t loss= 0.10010928157716989\n",
      "epoch= 66 \t time= 2.463654152552287 min \t loss= 0.0994749222882092\n",
      "epoch= 67 \t time= 2.497154196103414 min \t loss= 0.08270353386178612\n",
      "epoch= 68 \t time= 2.5304482857386272 min \t loss= 0.07592624984681606\n",
      "epoch= 69 \t time= 2.5683894236882527 min \t loss= 0.08177902940660715\n",
      "epoch= 70 \t time= 2.605467923482259 min \t loss= 0.08458275329321623\n",
      "epoch= 71 \t time= 2.639198617140452 min \t loss= 0.07438338603824377\n",
      "epoch= 72 \t time= 2.6750068147977193 min \t loss= 0.07918146857991815\n",
      "epoch= 73 \t time= 2.710117598374685 min \t loss= 0.06824919721111655\n",
      "epoch= 74 \t time= 2.7446663935979205 min \t loss= 0.06205581109970808\n",
      "epoch= 75 \t time= 2.7808154543240864 min \t loss= 0.06738125365227461\n"
     ]
    },
    {
     "ename": "KeyboardInterrupt",
     "evalue": "",
     "output_type": "error",
     "traceback": [
      "\u001b[0;31m---------------------------------------------------------------------------\u001b[0m",
      "\u001b[0;31mKeyboardInterrupt\u001b[0m                         Traceback (most recent call last)",
      "\u001b[0;32m<ipython-input-10-d6fbaa5cdaff>\u001b[0m in \u001b[0;36m<module>\u001b[0;34m\u001b[0m\n\u001b[1;32m     24\u001b[0m         \u001b[0mloss\u001b[0m \u001b[0;34m=\u001b[0m \u001b[0mcriterion\u001b[0m\u001b[0;34m(\u001b[0m\u001b[0mscores\u001b[0m\u001b[0;34m,\u001b[0m \u001b[0mlabels\u001b[0m\u001b[0;34m.\u001b[0m\u001b[0mlong\u001b[0m\u001b[0;34m(\u001b[0m\u001b[0;34m)\u001b[0m\u001b[0;34m)\u001b[0m\u001b[0;34m\u001b[0m\u001b[0;34m\u001b[0m\u001b[0m\n\u001b[1;32m     25\u001b[0m         \u001b[0mloss\u001b[0m\u001b[0;34m.\u001b[0m\u001b[0mbackward\u001b[0m\u001b[0;34m(\u001b[0m\u001b[0;34m)\u001b[0m\u001b[0;34m\u001b[0m\u001b[0;34m\u001b[0m\u001b[0m\n\u001b[0;32m---> 26\u001b[0;31m         \u001b[0moptimizer\u001b[0m\u001b[0;34m.\u001b[0m\u001b[0mstep\u001b[0m\u001b[0;34m(\u001b[0m\u001b[0;34m)\u001b[0m\u001b[0;34m\u001b[0m\u001b[0;34m\u001b[0m\u001b[0m\n\u001b[0m\u001b[1;32m     27\u001b[0m \u001b[0;34m\u001b[0m\u001b[0m\n\u001b[1;32m     28\u001b[0m         \u001b[0;31m# compute and accumulate stats\u001b[0m\u001b[0;34m\u001b[0m\u001b[0;34m\u001b[0m\u001b[0;34m\u001b[0m\u001b[0m\n",
      "\u001b[0;32m~/miniconda3/envs/deep_mol/lib/python3.6/site-packages/torch/optim/adam.py\u001b[0m in \u001b[0;36mstep\u001b[0;34m(self, closure)\u001b[0m\n\u001b[1;32m     99\u001b[0m                     \u001b[0mdenom\u001b[0m \u001b[0;34m=\u001b[0m \u001b[0mmax_exp_avg_sq\u001b[0m\u001b[0;34m.\u001b[0m\u001b[0msqrt\u001b[0m\u001b[0;34m(\u001b[0m\u001b[0;34m)\u001b[0m\u001b[0;34m.\u001b[0m\u001b[0madd_\u001b[0m\u001b[0;34m(\u001b[0m\u001b[0mgroup\u001b[0m\u001b[0;34m[\u001b[0m\u001b[0;34m'eps'\u001b[0m\u001b[0;34m]\u001b[0m\u001b[0;34m)\u001b[0m\u001b[0;34m\u001b[0m\u001b[0;34m\u001b[0m\u001b[0m\n\u001b[1;32m    100\u001b[0m                 \u001b[0;32melse\u001b[0m\u001b[0;34m:\u001b[0m\u001b[0;34m\u001b[0m\u001b[0;34m\u001b[0m\u001b[0m\n\u001b[0;32m--> 101\u001b[0;31m                     \u001b[0mdenom\u001b[0m \u001b[0;34m=\u001b[0m \u001b[0mexp_avg_sq\u001b[0m\u001b[0;34m.\u001b[0m\u001b[0msqrt\u001b[0m\u001b[0;34m(\u001b[0m\u001b[0;34m)\u001b[0m\u001b[0;34m.\u001b[0m\u001b[0madd_\u001b[0m\u001b[0;34m(\u001b[0m\u001b[0mgroup\u001b[0m\u001b[0;34m[\u001b[0m\u001b[0;34m'eps'\u001b[0m\u001b[0;34m]\u001b[0m\u001b[0;34m)\u001b[0m\u001b[0;34m\u001b[0m\u001b[0;34m\u001b[0m\u001b[0m\n\u001b[0m\u001b[1;32m    102\u001b[0m \u001b[0;34m\u001b[0m\u001b[0m\n\u001b[1;32m    103\u001b[0m                 \u001b[0mbias_correction1\u001b[0m \u001b[0;34m=\u001b[0m \u001b[0;36m1\u001b[0m \u001b[0;34m-\u001b[0m \u001b[0mbeta1\u001b[0m \u001b[0;34m**\u001b[0m \u001b[0mstate\u001b[0m\u001b[0;34m[\u001b[0m\u001b[0;34m'step'\u001b[0m\u001b[0;34m]\u001b[0m\u001b[0;34m\u001b[0m\u001b[0;34m\u001b[0m\u001b[0m\n",
      "\u001b[0;31mKeyboardInterrupt\u001b[0m: "
     ]
    }
   ],
   "source": [
    "loss_list = []\n",
    "for epoch in range(0,2000):\n",
    "    running_loss = 0\n",
    "    num_batches = 0\n",
    "    scheduler.step()\n",
    "    for i_batch, sample_batched in enumerate(dataloader):\n",
    "    \n",
    "        optimizer.zero_grad()\n",
    "        \n",
    "        #get the inputs\n",
    "        inputs, labels = sample_batched['T1a'], sample_batched['parc1a']\n",
    "        \n",
    "\n",
    "        inputs = inputs.to(device)\n",
    "        labels = labels.to(device)\n",
    "\n",
    "        inputs.requires_grad_()\n",
    "        \n",
    "        #forward + backward +optimize\n",
    "        scores = model(inputs)\n",
    "\n",
    "          \n",
    "        # Define the loss\n",
    "        loss = criterion(scores, labels.long()) \n",
    "        loss.backward()\n",
    "        optimizer.step()\n",
    "        \n",
    "        # compute and accumulate stats\n",
    "        running_loss += loss.detach().item()\n",
    "\n",
    "       \n",
    "        num_batches+=1 \n",
    "        \n",
    "        \n",
    "    # AVERAGE STATS THEN DISPLAY    \n",
    "    total_loss = running_loss/num_batches\n",
    "    loss_list = np.append(loss_list,total_loss)\n",
    "   \n",
    "    elapsed = (time.time()-start)/60\n",
    "        \n",
    "    print('epoch=',epoch, '\\t time=', elapsed,'min', '\\t loss=', total_loss ) \n",
    "    if epoch%50==0:\n",
    "        print(loss_list)\n",
    "        torch.save(model.state_dict(),'model')\n",
    "   \n",
    " \n",
    "print('Finish Training')"
   ]
  },
  {
   "cell_type": "code",
   "execution_count": null,
   "metadata": {},
   "outputs": [],
   "source": [
    "# plt.plot(loss_list)"
   ]
  },
  {
   "cell_type": "code",
   "execution_count": null,
   "metadata": {},
   "outputs": [],
   "source": [
    "# l = loss_list[0]\n",
    "# sum_dif = []\n",
    "# for loss in loss_list:\n",
    "#     dif = l-loss\n",
    "#     l = loss\n",
    "# #     num = np.random.randint(1, 20)\n",
    "# #     print(num)\n",
    "\n",
    "# #     if(num == 7):\n",
    "# #         break\n",
    "#     sum_dif = np.append(sum_dif,dif)\n",
    "# print(sum_dif)\n",
    "# plt.plot(sum_dif)"
   ]
  },
  {
   "cell_type": "code",
   "execution_count": 11,
   "metadata": {},
   "outputs": [],
   "source": [
    "def show_mask(image, mask):\n",
    "    \"\"\"\n",
    "    Show image and mask\n",
    "    Args:\n",
    "        image(numpyarray): The training image\n",
    "        semantic(numpyarray): The training image segmentation\n",
    "    \"\"\"    \n",
    "    plt.subplot(1,2,1)\n",
    "    plt.title('image')\n",
    "    plt.imshow(image)\n",
    "    plt.subplot(1,2,2)\n",
    "    plt.title('mask')\n",
    "    plt.imshow(mask)\n",
    "    plt.show()"
   ]
  },
  {
   "cell_type": "code",
   "execution_count": null,
   "metadata": {},
   "outputs": [],
   "source": []
  },
  {
   "cell_type": "code",
   "execution_count": 12,
   "metadata": {},
   "outputs": [
    {
     "data": {
      "image/png": "[encoded data removed]",
      "text/plain": [
       "<Figure size 432x288 with 2 Axes>"
      ]
     },
     "metadata": {
      "needs_background": "light"
     },
     "output_type": "display_data"
    },
    {
     "data": {
      "text/plain": [
       "<matplotlib.image.AxesImage at 0x7fecaee5d208>"
      ]
     },
     "execution_count": 12,
     "metadata": {},
     "output_type": "execute_result"
    },
    {
     "data": {
      "image/png": "[encoded data removed]",
      "text/plain": [
       "<Figure size 432x288 with 1 Axes>"
      ]
     },
     "metadata": {
      "needs_background": "light"
     },
     "output_type": "display_data"
    }
   ],
   "source": [
    "sample=total_data[4]\n",
    "img = sample['T1a']\n",
    "mask = sample['parc1a']\n",
    "\n",
    "show_mask(img.squeeze(), mask)\n",
    "\n",
    "img = img.unsqueeze(dim = 0)\n",
    "\n",
    "img = img.to(device)\n",
    "\n",
    "\n",
    "# feed it to network\n",
    "scores =  model(img)\n",
    "scores = scores.detach().cpu().squeeze().permute(1,2,0)\n",
    "\n",
    "scores = torch.exp(scores)\n",
    "\n",
    "a,b = torch.max(scores,dim=2)\n",
    "plt.imshow(b)\n"
   ]
  },
  {
   "cell_type": "code",
   "execution_count": null,
   "metadata": {},
   "outputs": [],
   "source": []
  },
  {
   "cell_type": "code",
   "execution_count": null,
   "metadata": {},
   "outputs": [],
   "source": []
  },
  {
   "cell_type": "code",
   "execution_count": null,
   "metadata": {},
   "outputs": [],
   "source": []
  }
 ],
 "metadata": {
  "kernelspec": {
   "display_name": "Python 3",
   "language": "python",
   "name": "python3"
  },
  "language_info": {
   "codemirror_mode": {
    "name": "ipython",
    "version": 3
   },
   "file_extension": ".py",
   "mimetype": "text/x-python",
   "name": "python",
   "nbconvert_exporter": "python",
   "pygments_lexer": "ipython3",
   "version": "3.6.7"
  }
 },
 "nbformat": 4,
 "nbformat_minor": 2
}
