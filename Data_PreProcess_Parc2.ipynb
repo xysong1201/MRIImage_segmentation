{
 "cells": [
  {
   "cell_type": "code",
   "execution_count": 1,
   "metadata": {},
   "outputs": [],
   "source": [
    "import os\n",
    "import torch\n",
    "import matplotlib.pyplot as plt\n",
    "from skimage import io, transform\n",
    "from torchvision import transforms, utils\n",
    "import numpy as np\n",
    "import nibabel as nib\n",
    "from random import randint\n",
    "from PIL import Image"
   ]
  },
  {
   "cell_type": "code",
   "execution_count": 3,
   "metadata": {},
   "outputs": [
    {
     "name": "stdout",
     "output_type": "stream",
     "text": [
      "Parc2 num:\n",
      "330\n"
     ]
    }
   ],
   "source": [
    "parc2_dir = '/home/xiaoyu/mri_data/parc2'\n",
    "parc2_list = os.listdir(parc2_dir)\n",
    "print('Parc2 num:')\n",
    "print(len(parc2_list))"
   ]
  },
  {
   "cell_type": "markdown",
   "metadata": {},
   "source": [
    "### I. Slice the 3D parcellation scale 2 data\n",
    "There are 330 3D MRI parcellation scale-2 data. For each parc_2 data, there will be 3 planes, the slice is the same for T1w data"
   ]
  },
  {
   "cell_type": "code",
   "execution_count": 4,
   "metadata": {},
   "outputs": [],
   "source": [
    "# iterate over 330 parcellation scale-2 data\n",
    "for i in range(330):\n",
    "    parc2_str = parc2_list[i]\n",
    "    parc2_nifti = nib.load(os.path.join(parc2_dir,parc2_str))\n",
    "    parc2_arr = parc2_nifti.get_fdata()\n",
    "    parc2_tensor = torch.from_numpy(parc2_arr)\n",
    "\n",
    "    for j in range(182):\n",
    "        axial_slice = parc2_tensor[:,:,j]\n",
    "        axial_arr = axial_slice.byte().numpy()\n",
    "        axial_im = Image.fromarray(axial_arr)\n",
    "        axial_im.save('/home/xiaoyu/MRIdata/parc_2/axial/sub{}/slice_{}.jpg'.format(i,j))\n",
    "    for k in range(217):\n",
    "        sagittal_slice = parc2_tensor[:,k,:]\n",
    "        sagittal_arr = sagittal_slice.byte().numpy()\n",
    "        sagittal_im = Image.fromarray(sagittal_arr)\n",
    "        sagittal_im.save('/home/xiaoyu/MRIdata/parc_2/sagittal/sub{}/slice_{}.jpg'.format(i,k))\n",
    "    for m in range(182):\n",
    "        coronal_slice = parc2_tensor[m,:,:]\n",
    "        coronal_arr = coronal_slice.byte().numpy()\n",
    "        coronal_im = Image.fromarray(coronal_arr)\n",
    "        coronal_im.save('/home/xiaoyu/MRIdata/parc_2/coronal/sub{}/slice_{}.jpg'.format(i,m))\n"
   ]
  },
  {
   "cell_type": "code",
   "execution_count": null,
   "metadata": {},
   "outputs": [],
   "source": []
  }
 ],
 "metadata": {
  "kernelspec": {
   "display_name": "Python 3",
   "language": "python",
   "name": "python3"
  },
  "language_info": {
   "codemirror_mode": {
    "name": "ipython",
    "version": 3
   },
   "file_extension": ".py",
   "mimetype": "text/x-python",
   "name": "python",
   "nbconvert_exporter": "python",
   "pygments_lexer": "ipython3",
   "version": "3.6.7"
  }
 },
 "nbformat": 4,
 "nbformat_minor": 2
}
