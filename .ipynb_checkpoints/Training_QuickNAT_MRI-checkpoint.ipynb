{
 "cells": [
  {
   "cell_type": "code",
   "execution_count": 1,
   "metadata": {},
   "outputs": [],
   "source": [
    "import os\n",
    "from torch.utils.data import Dataset, DataLoader\n",
    "import matplotlib.pyplot as plt\n",
    "from skimage import io, transform\n",
    "from torchvision import transforms, utils\n",
    "import torch\n",
    "import numpy as np\n",
    "import nibabel as nib\n",
    "from random import randint\n",
    "from PIL import Image\n",
    "import torch.optim as optim\n",
    "import time\n",
    "import QuickNAT as QN\n",
    "import torch.nn as nn\n",
    "from livelossplot import PlotLosses"
   ]
  },
  {
   "cell_type": "code",
   "execution_count": 2,
   "metadata": {},
   "outputs": [],
   "source": [
    "gpu_id = 1\n",
    "os.environ[\"CUDA_DEVICE_ORDER\"] = \"PCI_BUS_ID\"\n",
    "os.environ[\"CUDA_VISIBLE_DEVICES\"] = str(gpu_id)\n",
    "\n",
    "device = torch.device('cuda')"
   ]
  },
  {
   "cell_type": "code",
   "execution_count": 3,
   "metadata": {},
   "outputs": [
    {
     "name": "stdout",
     "output_type": "stream",
     "text": [
      "3308688\n"
     ]
    }
   ],
   "source": [
    "model = QN.QuickNAT(1,64,256)\n",
    "model_params = list(model.parameters())\n",
    "nb_param=0\n",
    "for param in model.parameters():\n",
    "    nb_param+=np.prod(list(param.data.size()))\n",
    "print(nb_param)\n",
    "model = model.to(device)"
   ]
  },
  {
   "cell_type": "code",
   "execution_count": 4,
   "metadata": {},
   "outputs": [],
   "source": [
    "class TrainDataset(Dataset):\n",
    "    \"\"\"Training dataset with mask image mapping to classes\"\"\"\n",
    "    def __init__(self, T1a_dir, parc5a_dir, transform=None):\n",
    "        \"\"\"\n",
    "        Args:\n",
    "            T1a_dir (string): Directory with T1w image in axial plane\n",
    "            transform (callable): Optional transform to be applied on a sample\n",
    "            parc5a_dir (string): Directory with parcellation scale 5 in axial plane\n",
    "        \"\"\"\n",
    "        self.T1a_dir = T1a_dir\n",
    "        self.transform = transform\n",
    "        self.parc5a_dir = parc5a_dir\n",
    "        \n",
    "    def __len__(self):\n",
    "        T1a_list = os.listdir(self.T1a_dir)\n",
    "        return len(T1a_list)\n",
    "    \n",
    "    \n",
    "    def __getitem__(self, idx):\n",
    "        T1a_list = os.listdir(T1a_dir)\n",
    "        parc5a_list = os.listdir(parc5a_dir)\n",
    "        \n",
    "        T1a_str = T1a_list[idx]\n",
    "        \n",
    "        T1a_arr = io.imread(os.path.join(T1a_dir, T1a_str))\n",
    "        T1a_tensor = torch.from_numpy(T1a_arr)\n",
    "        \n",
    "        compose_T1 = transforms.Compose([transforms.ToPILImage(), \n",
    "                                         transforms.Resize((128,128),interpolation=Image.NEAREST),\n",
    "                                         transforms.ToTensor(),\n",
    "                                         transforms.Normalize((0.5, 0.5, 0.5), (0.5, 0.5, 0.5))])\n",
    "        T1a_tensor = torch.unsqueeze(T1a_tensor, dim = 0)\n",
    "        T1a_tensor = compose_T1(T1a_tensor)\n",
    "              \n",
    "        parc5a_str = parc5a_list[idx]\n",
    "    \n",
    "        parc5a_arr = io.imread(os.path.join(parc5a_dir, parc5a_str))\n",
    "        parc5a_tensor = torch.from_numpy(parc5a_arr)\n",
    "        \n",
    "        compose = transforms.Compose([transforms.ToPILImage(),\n",
    "                                      transforms.Resize((128,128),interpolation=Image.NEAREST), \n",
    "                                      transforms.ToTensor()])\n",
    "        \n",
    "        parc5a_tensor = torch.unsqueeze(parc5a_tensor, dim = 0)\n",
    "        parc5a_tensor = compose(parc5a_tensor)\n",
    "        parc5a_tensor = parc5a_tensor.squeeze()\n",
    "        \n",
    "        parc5a_tensor = torch.round(parc5a_tensor / 0.0039).byte()\n",
    "      \n",
    "        sample = {'T1a':T1a_tensor, 'parc5a':parc5a_tensor}\n",
    "        \n",
    "        if self.transform:\n",
    "            T1a = self.transform(T1a_tensor)\n",
    "            sample = {'T1a':T1a, 'parc5a':parc5a}\n",
    "            \n",
    "        return sample"
   ]
  },
  {
   "cell_type": "code",
   "execution_count": null,
   "metadata": {},
   "outputs": [
    {
     "data": {
      "image/png": "[encoded data removed]",
      "text/plain": [
       "<Figure size 864x576 with 1 Axes>"
      ]
     },
     "metadata": {
      "needs_background": "light"
     },
     "output_type": "display_data"
    },
    {
     "name": "stdout",
     "output_type": "stream",
     "text": [
      "log loss:\n",
      "training   (min:    0.693, max:    1.506, cur:    0.693)\n"
     ]
    }
   ],
   "source": [
    "liveloss = PlotLosses()\n",
    "for iteration in range(50):\n",
    "    start=time.time()\n",
    "    \n",
    "    for sub_idx in range(0,330,2):\n",
    "\n",
    "        T1a_dir = '/home/xiaoyu/MRIdata/T1w/axial/sub{}'.format(sub_idx)\n",
    "        T1a_dir2 = '/home/xiaoyu/MRIdata/T1w/axial/sub{}'.format(sub_idx+1)\n",
    "   \n",
    "        parc5a_dir = '/home/xiaoyu/MRIdata/parc_5/axial/sub{}'.format(sub_idx)\n",
    "        parc5a_dir2 = '/home/xiaoyu/MRIdata/parc_5/axial/sub{}'.format(sub_idx+1)\n",
    "        \n",
    "        train_data = TrainDataset(T1a_dir=T1a_dir, parc5a_dir = parc5a_dir)\n",
    "        train_data2 = TrainDataset(T1a_dir=T1a_dir2, parc5a_dir = parc5a_dir2)\n",
    "        \n",
    "        total_data = train_data + train_data2\n",
    "        dataloader = DataLoader(total_data, batch_size = 5, shuffle = True, num_workers = 4)\n",
    "    \n",
    "        criterion = nn.NLLLoss()\n",
    "        optimizer = optim.Adam(model.parameters() ,lr=0.001)\n",
    "    \n",
    "        for epoch in range(15):\n",
    "            logs = {}\n",
    "   \n",
    "    \n",
    "            # define the running loss\n",
    "            running_loss = 0\n",
    "            running_error = 0\n",
    "            num_batches=0\n",
    "      \n",
    "            for i_batch, sample_batched in enumerate(dataloader):\n",
    "        \n",
    "                optimizer.zero_grad()\n",
    "        \n",
    "                #get the inputs\n",
    "                inputs, labels = sample_batched['T1a'], sample_batched['parc5a']\n",
    "        \n",
    "                inputs = inputs.to(device)\n",
    "                labels = labels.to(device)\n",
    "\n",
    "                inputs.requires_grad_()\n",
    "        \n",
    "                #forward + backward +optimize\n",
    "                scores = model(inputs)\n",
    "          \n",
    "                # Define the loss\n",
    "                loss = criterion(scores, labels.long()) \n",
    "                loss.backward()\n",
    "                optimizer.step()\n",
    "        \n",
    "                # compute and accumulate stats\n",
    "                running_loss += loss.detach().item()\n",
    "       \n",
    "                num_batches+=1 \n",
    "    \n",
    "            # AVERAGE STATS THEN DISPLAY    \n",
    "            total_loss = running_loss/num_batches\n",
    "   \n",
    "            elapsed = (time.time()-start)/60\n",
    "        \n",
    "            print('epoch=',epoch, '\\t time=', elapsed,'min', '\\t loss=', total_loss )\n",
    "            logs['log loss'] = total_loss\n",
    "            \n",
    "            liveloss.update(logs)\n",
    "            liveloss.draw()\n",
    "       \n",
    "        print('Finish Training')\n",
    "        \n",
    "    print(iteration,'Iteration')\n",
    "    "
   ]
  },
  {
   "cell_type": "code",
   "execution_count": null,
   "metadata": {},
   "outputs": [],
   "source": [
    "train_data = TrainDataset(T1a_dir=T1a_dir, parc5a_dir = parc5a_dir)\n",
    "def show_mask(image, mask):\n",
    "    \"\"\"\n",
    "    Show image and mask\n",
    "    Args:\n",
    "        image(numpyarray): The training image\n",
    "        semantic(numpyarray): The training image segmentation\n",
    "    \"\"\"    \n",
    "    plt.subplot(1,2,1)\n",
    "    plt.title('image')\n",
    "    plt.imshow(image)\n",
    "    plt.subplot(1,2,2)\n",
    "    plt.title('mask')\n",
    "    plt.imshow(mask)\n",
    "    plt.show()\n",
    "    "
   ]
  },
  {
   "cell_type": "code",
   "execution_count": null,
   "metadata": {},
   "outputs": [],
   "source": [
    "sample=train_data[8]\n",
    "img = sample['T1a']\n",
    "mask = sample['parc5a']\n",
    "\n",
    "show_mask(img.squeeze(), mask)\n",
    "\n",
    "img = img.unsqueeze(dim = 0)\n",
    "\n",
    "img = img.to(device)\n",
    "\n",
    "\n",
    "# feed it to network\n",
    "scores =  model(img)\n",
    "scores = scores.detach().cpu().squeeze().permute(1,2,0)\n",
    "print(scores.size())\n",
    "scores = torch.exp(scores)\n",
    "print(torch.max(scores))\n",
    "print(torch.min(scores))\n",
    "a,b = torch.max(scores,dim=2)\n",
    "plt.imshow(b)\n"
   ]
  },
  {
   "cell_type": "code",
   "execution_count": null,
   "metadata": {},
   "outputs": [],
   "source": []
  }
 ],
 "metadata": {
  "kernelspec": {
   "display_name": "Python 3",
   "language": "python",
   "name": "python3"
  },
  "language_info": {
   "codemirror_mode": {
    "name": "ipython",
    "version": 3
   },
   "file_extension": ".py",
   "mimetype": "text/x-python",
   "name": "python",
   "nbconvert_exporter": "python",
   "pygments_lexer": "ipython3",
   "version": "3.6.7"
  }
 },
 "nbformat": 4,
 "nbformat_minor": 2
}
