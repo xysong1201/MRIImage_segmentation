{
 "cells": [
  {
   "cell_type": "code",
   "execution_count": 1,
   "metadata": {},
   "outputs": [],
   "source": [
    "import os\n",
    "from torch.utils.data import Dataset, DataLoader, ConcatDataset\n",
    "from skimage import io, transform\n",
    "from torchvision import transforms, utils\n",
    "import torch\n",
    "import numpy as np\n",
    "import nibabel as nib\n",
    "from random import randint\n",
    "from PIL import Image\n",
    "import torch.optim as optim\n",
    "import time\n",
    "import QuickNAT as QN\n",
    "import torch.nn as nn\n",
    "from livelossplot import PlotLosses\n",
    "import matplotlib.pyplot as plt"
   ]
  },
  {
   "cell_type": "code",
   "execution_count": 2,
   "metadata": {},
   "outputs": [
    {
     "name": "stdout",
     "output_type": "stream",
     "text": [
      "cuda\n"
     ]
    }
   ],
   "source": [
    "gpu_id = 0\n",
    "os.environ[\"CUDA_DEVICE_ORDER\"] = \"PCI_BUS_ID\"\n",
    "os.environ[\"CUDA_VISIBLE_DEVICES\"] = str(gpu_id)\n",
    "\n",
    "device = torch.device('cuda')\n",
    "print(device)"
   ]
  },
  {
   "cell_type": "code",
   "execution_count": 3,
   "metadata": {},
   "outputs": [],
   "source": [
    "class TrainDataset(Dataset):\n",
    "    \"\"\"Training dataset with mask image mapping to classes\"\"\"\n",
    "    def __init__(self, T1a_dir, parc1a_dir, transform=None):\n",
    "        \"\"\"\n",
    "        Args:\n",
    "            T1a_dir (string): Directory with T1w image in axial plane\n",
    "            transform (callable): Optional transform to be applied on a sample\n",
    "            parc1a_dir (string): Directory with parcellation scale 5 in axial plane\n",
    "        \"\"\"\n",
    "        self._T1a_dir = T1a_dir\n",
    "        self.transform = transform\n",
    "        self._parc1a_dir = parc1a_dir\n",
    "        self.mapping = {\n",
    "            180:91\n",
    "        }\n",
    "        \n",
    "    def mask_to_class(self, mask):\n",
    "        for k in self.mapping:\n",
    "            mask[mask==k] = self.mapping[k]\n",
    "        return mask\n",
    "    \n",
    "    def __len__(self):\n",
    "        T1a_list = os.listdir(self._T1a_dir)\n",
    "        return len(T1a_list)\n",
    "    \n",
    "    \n",
    "    def __getitem__(self, idx):\n",
    "        T1a_list = os.listdir(self._T1a_dir)\n",
    "        parc1a_list = os.listdir(self._parc1a_dir)\n",
    "        \n",
    "        T1a_str = T1a_list[idx]\n",
    "        \n",
    "        T1a_arr = io.imread(os.path.join(self._T1a_dir, T1a_str))\n",
    "        T1a_tensor = torch.from_numpy(T1a_arr)\n",
    "        \n",
    "        compose_T1 = transforms.Compose([transforms.ToPILImage(), \n",
    "                                         transforms.Resize((128,128),interpolation=Image.NEAREST),\n",
    "                                         transforms.ToTensor(),\n",
    "                                         transforms.Normalize((0.5, 0.5, 0.5), (0.5, 0.5, 0.5))])\n",
    "        T1a_tensor = torch.unsqueeze(T1a_tensor, dim = 0)\n",
    "        T1a_tensor = compose_T1(T1a_tensor)\n",
    "              \n",
    "        parc1a_str = parc1a_list[idx]\n",
    "    \n",
    "        parc1a_arr = io.imread(os.path.join(self._parc1a_dir, parc1a_str))\n",
    "        parc1a_tensor = torch.from_numpy(parc1a_arr)\n",
    "        \n",
    "        compose = transforms.Compose([transforms.ToPILImage(),\n",
    "                                      transforms.Resize((128,128),interpolation=Image.NEAREST), \n",
    "                                      transforms.ToTensor()])\n",
    "        \n",
    "        parc1a_tensor = torch.unsqueeze(parc1a_tensor, dim = 0)\n",
    "        parc1a_tensor = compose(parc1a_tensor)\n",
    "        parc1a_tensor = parc1a_tensor.squeeze()\n",
    "        \n",
    "        parc1a_tensor = torch.round(parc1a_tensor / 0.0039).byte()\n",
    "        parc1a_tensor = self.mask_to_class(parc1a_tensor)\n",
    "      \n",
    "        sample = {'T1a':T1a_tensor, 'parc1a':parc1a_tensor}\n",
    "        \n",
    "        if self.transform:\n",
    "            T1a = self.transform(T1a_tensor)\n",
    "            sample = {'T1a':T1a, 'parc1a':parc1a}\n",
    "            \n",
    "        return sample"
   ]
  },
  {
   "cell_type": "code",
   "execution_count": 4,
   "metadata": {},
   "outputs": [],
   "source": [
    "# slice0"
   ]
  },
  {
   "cell_type": "code",
   "execution_count": 5,
   "metadata": {},
   "outputs": [],
   "source": [
    "sub_idx = 0\n",
    "slice_idx = 0\n",
    "T1a_dir = '/home/xiaoyu/MRIdata_group/T1w/axial/sub{}/slice{}'.format(sub_idx,slice_idx)\n",
    "parc1a_dir = '/home/xiaoyu/MRIdata_group/parc_1/axial/sub{}/slice{}'.format(sub_idx,slice_idx)\n",
    "total_data_0 = TrainDataset(T1a_dir=T1a_dir, parc1a_dir = parc1a_dir)"
   ]
  },
  {
   "cell_type": "code",
   "execution_count": 6,
   "metadata": {},
   "outputs": [
    {
     "name": "stdout",
     "output_type": "stream",
     "text": [
      "3300\n"
     ]
    }
   ],
   "source": [
    "for sub_idx in range(1,330):\n",
    "    T1a_dir = '/home/xiaoyu/MRIdata_group/T1w/axial/sub{}/slice{}'.format(sub_idx,slice_idx)\n",
    "    parc1a_dir = '/home/xiaoyu/MRIdata_group/parc_1/axial/sub{}/slice{}'.format(sub_idx,slice_idx)\n",
    "    train_data = TrainDataset(T1a_dir=T1a_dir, parc1a_dir = parc1a_dir)\n",
    "    total_data_0 = total_data_0 + train_data\n",
    "print(len(total_data_0))"
   ]
  },
  {
   "cell_type": "code",
   "execution_count": 7,
   "metadata": {},
   "outputs": [],
   "source": [
    "dataloader_0 = DataLoader(total_data_0, batch_size = 5, shuffle = True, num_workers = 4)"
   ]
  },
  {
   "cell_type": "code",
   "execution_count": 8,
   "metadata": {},
   "outputs": [],
   "source": [
    "start=time.time()\n",
    "model = QN.QuickNAT(1,64,178)\n",
    "model = model.to(device)\n",
    "criterion = nn.NLLLoss()\n",
    "optimizer = optim.Adam(model.parameters() ,lr=0.001)"
   ]
  },
  {
   "cell_type": "code",
   "execution_count": 9,
   "metadata": {},
   "outputs": [
    {
     "data": {
      "image/png": "[encoded data removed]",
      "text/plain": [
       "<Figure size 864x576 with 1 Axes>"
      ]
     },
     "metadata": {
      "needs_background": "light"
     },
     "output_type": "display_data"
    },
    {
     "name": "stdout",
     "output_type": "stream",
     "text": [
      "log loss:\n",
      "training   (min:    0.008, max:    0.094, cur:    0.008)\n"
     ]
    },
    {
     "name": "stderr",
     "output_type": "stream",
     "text": [
      "Traceback (most recent call last):\n",
      "Traceback (most recent call last):\n",
      "  File \"/home/xiaoyu/miniconda3/envs/deep_mol/lib/python3.6/multiprocessing/queues.py\", line 240, in _feed\n",
      "    send_bytes(obj)\n",
      "  File \"/home/xiaoyu/miniconda3/envs/deep_mol/lib/python3.6/multiprocessing/connection.py\", line 200, in send_bytes\n",
      "    self._send_bytes(m[offset:offset + size])\n",
      "  File \"/home/xiaoyu/miniconda3/envs/deep_mol/lib/python3.6/multiprocessing/connection.py\", line 404, in _send_bytes\n",
      "    self._send(header + buf)\n",
      "  File \"/home/xiaoyu/miniconda3/envs/deep_mol/lib/python3.6/multiprocessing/connection.py\", line 368, in _send\n",
      "    n = write(self._handle, buf)\n",
      "BrokenPipeError: [Errno 32] Broken pipe\n",
      "  File \"/home/xiaoyu/miniconda3/envs/deep_mol/lib/python3.6/multiprocessing/queues.py\", line 240, in _feed\n",
      "    send_bytes(obj)\n",
      "  File \"/home/xiaoyu/miniconda3/envs/deep_mol/lib/python3.6/multiprocessing/connection.py\", line 200, in send_bytes\n",
      "    self._send_bytes(m[offset:offset + size])\n",
      "  File \"/home/xiaoyu/miniconda3/envs/deep_mol/lib/python3.6/multiprocessing/connection.py\", line 404, in _send_bytes\n",
      "    self._send(header + buf)\n",
      "  File \"/home/xiaoyu/miniconda3/envs/deep_mol/lib/python3.6/multiprocessing/connection.py\", line 368, in _send\n",
      "    n = write(self._handle, buf)\n",
      "BrokenPipeError: [Errno 32] Broken pipe\n",
      "Traceback (most recent call last):\n",
      "  File \"/home/xiaoyu/miniconda3/envs/deep_mol/lib/python3.6/multiprocessing/queues.py\", line 240, in _feed\n",
      "    send_bytes(obj)\n",
      "  File \"/home/xiaoyu/miniconda3/envs/deep_mol/lib/python3.6/multiprocessing/connection.py\", line 200, in send_bytes\n",
      "    self._send_bytes(m[offset:offset + size])\n",
      "  File \"/home/xiaoyu/miniconda3/envs/deep_mol/lib/python3.6/multiprocessing/connection.py\", line 404, in _send_bytes\n",
      "    self._send(header + buf)\n",
      "  File \"/home/xiaoyu/miniconda3/envs/deep_mol/lib/python3.6/multiprocessing/connection.py\", line 368, in _send\n",
      "    n = write(self._handle, buf)\n",
      "BrokenPipeError: [Errno 32] Broken pipe\n",
      "Traceback (most recent call last):\n",
      "  File \"/home/xiaoyu/miniconda3/envs/deep_mol/lib/python3.6/multiprocessing/queues.py\", line 240, in _feed\n",
      "    send_bytes(obj)\n",
      "  File \"/home/xiaoyu/miniconda3/envs/deep_mol/lib/python3.6/multiprocessing/connection.py\", line 200, in send_bytes\n",
      "    self._send_bytes(m[offset:offset + size])\n",
      "  File \"/home/xiaoyu/miniconda3/envs/deep_mol/lib/python3.6/multiprocessing/connection.py\", line 404, in _send_bytes\n",
      "    self._send(header + buf)\n",
      "  File \"/home/xiaoyu/miniconda3/envs/deep_mol/lib/python3.6/multiprocessing/connection.py\", line 368, in _send\n",
      "    n = write(self._handle, buf)\n",
      "BrokenPipeError: [Errno 32] Broken pipe\n"
     ]
    },
    {
     "ename": "KeyboardInterrupt",
     "evalue": "",
     "output_type": "error",
     "traceback": [
      "\u001b[0;31m---------------------------------------------------------------------------\u001b[0m",
      "\u001b[0;31mKeyboardInterrupt\u001b[0m                         Traceback (most recent call last)",
      "\u001b[0;32m<ipython-input-9-c5b9d6505b67>\u001b[0m in \u001b[0;36m<module>\u001b[0;34m\u001b[0m\n\u001b[1;32m     23\u001b[0m         \u001b[0;31m# Define the loss\u001b[0m\u001b[0;34m\u001b[0m\u001b[0;34m\u001b[0m\u001b[0;34m\u001b[0m\u001b[0m\n\u001b[1;32m     24\u001b[0m         \u001b[0mloss\u001b[0m \u001b[0;34m=\u001b[0m \u001b[0mcriterion\u001b[0m\u001b[0;34m(\u001b[0m\u001b[0mscores\u001b[0m\u001b[0;34m,\u001b[0m \u001b[0mlabels\u001b[0m\u001b[0;34m.\u001b[0m\u001b[0mlong\u001b[0m\u001b[0;34m(\u001b[0m\u001b[0;34m)\u001b[0m\u001b[0;34m)\u001b[0m\u001b[0;34m\u001b[0m\u001b[0;34m\u001b[0m\u001b[0m\n\u001b[0;32m---> 25\u001b[0;31m         \u001b[0mloss\u001b[0m\u001b[0;34m.\u001b[0m\u001b[0mbackward\u001b[0m\u001b[0;34m(\u001b[0m\u001b[0;34m)\u001b[0m\u001b[0;34m\u001b[0m\u001b[0;34m\u001b[0m\u001b[0m\n\u001b[0m\u001b[1;32m     26\u001b[0m         \u001b[0moptimizer\u001b[0m\u001b[0;34m.\u001b[0m\u001b[0mstep\u001b[0m\u001b[0;34m(\u001b[0m\u001b[0;34m)\u001b[0m\u001b[0;34m\u001b[0m\u001b[0;34m\u001b[0m\u001b[0m\n\u001b[1;32m     27\u001b[0m \u001b[0;34m\u001b[0m\u001b[0m\n",
      "\u001b[0;32m~/miniconda3/envs/deep_mol/lib/python3.6/site-packages/torch/tensor.py\u001b[0m in \u001b[0;36mbackward\u001b[0;34m(self, gradient, retain_graph, create_graph)\u001b[0m\n\u001b[1;32m    100\u001b[0m                 \u001b[0mproducts\u001b[0m\u001b[0;34m.\u001b[0m \u001b[0mDefaults\u001b[0m \u001b[0mto\u001b[0m\u001b[0;31m \u001b[0m\u001b[0;31m`\u001b[0m\u001b[0;31m`\u001b[0m\u001b[0;32mFalse\u001b[0m\u001b[0;31m`\u001b[0m\u001b[0;31m`\u001b[0m\u001b[0;34m.\u001b[0m\u001b[0;34m\u001b[0m\u001b[0;34m\u001b[0m\u001b[0m\n\u001b[1;32m    101\u001b[0m         \"\"\"\n\u001b[0;32m--> 102\u001b[0;31m         \u001b[0mtorch\u001b[0m\u001b[0;34m.\u001b[0m\u001b[0mautograd\u001b[0m\u001b[0;34m.\u001b[0m\u001b[0mbackward\u001b[0m\u001b[0;34m(\u001b[0m\u001b[0mself\u001b[0m\u001b[0;34m,\u001b[0m \u001b[0mgradient\u001b[0m\u001b[0;34m,\u001b[0m \u001b[0mretain_graph\u001b[0m\u001b[0;34m,\u001b[0m \u001b[0mcreate_graph\u001b[0m\u001b[0;34m)\u001b[0m\u001b[0;34m\u001b[0m\u001b[0;34m\u001b[0m\u001b[0m\n\u001b[0m\u001b[1;32m    103\u001b[0m \u001b[0;34m\u001b[0m\u001b[0m\n\u001b[1;32m    104\u001b[0m     \u001b[0;32mdef\u001b[0m \u001b[0mregister_hook\u001b[0m\u001b[0;34m(\u001b[0m\u001b[0mself\u001b[0m\u001b[0;34m,\u001b[0m \u001b[0mhook\u001b[0m\u001b[0;34m)\u001b[0m\u001b[0;34m:\u001b[0m\u001b[0;34m\u001b[0m\u001b[0;34m\u001b[0m\u001b[0m\n",
      "\u001b[0;32m~/miniconda3/envs/deep_mol/lib/python3.6/site-packages/torch/autograd/__init__.py\u001b[0m in \u001b[0;36mbackward\u001b[0;34m(tensors, grad_tensors, retain_graph, create_graph, grad_variables)\u001b[0m\n\u001b[1;32m     88\u001b[0m     Variable._execution_engine.run_backward(\n\u001b[1;32m     89\u001b[0m         \u001b[0mtensors\u001b[0m\u001b[0;34m,\u001b[0m \u001b[0mgrad_tensors\u001b[0m\u001b[0;34m,\u001b[0m \u001b[0mretain_graph\u001b[0m\u001b[0;34m,\u001b[0m \u001b[0mcreate_graph\u001b[0m\u001b[0;34m,\u001b[0m\u001b[0;34m\u001b[0m\u001b[0;34m\u001b[0m\u001b[0m\n\u001b[0;32m---> 90\u001b[0;31m         allow_unreachable=True)  # allow_unreachable flag\n\u001b[0m\u001b[1;32m     91\u001b[0m \u001b[0;34m\u001b[0m\u001b[0m\n\u001b[1;32m     92\u001b[0m \u001b[0;34m\u001b[0m\u001b[0m\n",
      "\u001b[0;31mKeyboardInterrupt\u001b[0m: "
     ]
    }
   ],
   "source": [
    "liveloss = PlotLosses()\n",
    "for epoch in range(0,50):\n",
    "    logs = {}\n",
    "    running_loss = 0\n",
    "    num_batches = 0\n",
    "    for i_batch, sample_batched in enumerate(dataloader_0):\n",
    "    \n",
    "        optimizer.zero_grad()\n",
    "        \n",
    "        #get the inputs\n",
    "        inputs, labels = sample_batched['T1a'], sample_batched['parc1a']\n",
    "        \n",
    "\n",
    "        inputs = inputs.to(device)\n",
    "        labels = labels.to(device)\n",
    "\n",
    "        inputs.requires_grad_()\n",
    "        \n",
    "        #forward + backward +optimize\n",
    "        scores = model(inputs)\n",
    "\n",
    "          \n",
    "        # Define the loss\n",
    "        loss = criterion(scores, labels.long()) \n",
    "        loss.backward()\n",
    "        optimizer.step()\n",
    "        \n",
    "        # compute and accumulate stats\n",
    "        running_loss += loss.detach().item()\n",
    "       \n",
    "        num_batches+=1 \n",
    "        \n",
    "        \n",
    "    # AVERAGE STATS THEN DISPLAY    \n",
    "    total_loss = running_loss/num_batches\n",
    "   \n",
    "    elapsed = (time.time()-start)/60\n",
    "        \n",
    "    print('epoch=',epoch, '\\t time=', elapsed,'min', '\\t loss=', total_loss )\n",
    "    logs['log loss'] = total_loss\n",
    "            \n",
    "    liveloss.update(logs)\n",
    "    liveloss.draw()\n",
    " \n",
    "print('Finish Training')\n",
    "\n",
    "           "
   ]
  },
  {
   "cell_type": "code",
   "execution_count": null,
   "metadata": {},
   "outputs": [],
   "source": [
    "#slice1"
   ]
  },
  {
   "cell_type": "code",
   "execution_count": null,
   "metadata": {},
   "outputs": [],
   "source": [
    "sub_idx = 0\n",
    "slice_idx = 1\n",
    "T1a_dir = '/home/xiaoyu/MRIdata_group/T1w/axial/sub{}/slice{}'.format(sub_idx,slice_idx)\n",
    "parc1a_dir = '/home/xiaoyu/MRIdata_group/parc_1/axial/sub{}/slice{}'.format(sub_idx,slice_idx)\n",
    "total_data_1 = TrainDataset(T1a_dir=T1a_dir, parc1a_dir = parc1a_dir)"
   ]
  },
  {
   "cell_type": "code",
   "execution_count": null,
   "metadata": {},
   "outputs": [],
   "source": [
    "for sub_idx in range(1,330):\n",
    "    T1a_dir = '/home/xiaoyu/MRIdata_group/T1w/axial/sub{}/slice{}'.format(sub_idx,slice_idx)\n",
    "    parc1a_dir = '/home/xiaoyu/MRIdata_group/parc_1/axial/sub{}/slice{}'.format(sub_idx,slice_idx)\n",
    "    train_data = TrainDataset(T1a_dir=T1a_dir, parc1a_dir = parc1a_dir)\n",
    "    total_data_1 = total_data_1 + train_data\n",
    "print(len(total_data_1))\n",
    "dataloader_1 = DataLoader(total_data_1, batch_size = 5, shuffle = True, num_workers = 4)"
   ]
  },
  {
   "cell_type": "code",
   "execution_count": null,
   "metadata": {},
   "outputs": [],
   "source": [
    "liveloss = PlotLosses()\n",
    "for epoch in range(0,50):\n",
    "    logs = {}\n",
    "    running_loss = 0\n",
    "    num_batches = 0\n",
    "    for i_batch, sample_batched in enumerate(dataloader_1):\n",
    "    \n",
    "        optimizer.zero_grad()\n",
    "        \n",
    "        #get the inputs\n",
    "        inputs, labels = sample_batched['T1a'], sample_batched['parc1a']\n",
    "        \n",
    "\n",
    "        inputs = inputs.to(device)\n",
    "        labels = labels.to(device)\n",
    "\n",
    "        inputs.requires_grad_()\n",
    "        \n",
    "        #forward + backward +optimize\n",
    "        scores = model(inputs)\n",
    "\n",
    "          \n",
    "        # Define the loss\n",
    "        loss = criterion(scores, labels.long()) \n",
    "        loss.backward()\n",
    "        optimizer.step()\n",
    "        \n",
    "        # compute and accumulate stats\n",
    "        running_loss += loss.detach().item()\n",
    "       \n",
    "        num_batches+=1 \n",
    "        \n",
    "        \n",
    "    # AVERAGE STATS THEN DISPLAY    \n",
    "    total_loss = running_loss/num_batches\n",
    "   \n",
    "    elapsed = (time.time()-start)/60\n",
    "        \n",
    "    print('epoch=',epoch, '\\t time=', elapsed,'min', '\\t loss=', total_loss )\n",
    "    logs['log loss'] = total_loss\n",
    "            \n",
    "    liveloss.update(logs)\n",
    "    liveloss.draw()\n",
    " \n",
    "print('Finish Training')    "
   ]
  },
  {
   "cell_type": "code",
   "execution_count": null,
   "metadata": {},
   "outputs": [],
   "source": [
    "#slice2"
   ]
  },
  {
   "cell_type": "code",
   "execution_count": null,
   "metadata": {},
   "outputs": [],
   "source": [
    "sub_idx = 0\n",
    "slice_idx = 2\n",
    "T1a_dir = '/home/xiaoyu/MRIdata_group/T1w/axial/sub{}/slice{}'.format(sub_idx,slice_idx)\n",
    "parc1a_dir = '/home/xiaoyu/MRIdata_group/parc_1/axial/sub{}/slice{}'.format(sub_idx,slice_idx)\n",
    "total_data_1 = TrainDataset(T1a_dir=T1a_dir, parc1a_dir = parc1a_dir)\n",
    "for sub_idx in range(1,330):\n",
    "    T1a_dir = '/home/xiaoyu/MRIdata_group/T1w/axial/sub{}/slice{}'.format(sub_idx,slice_idx)\n",
    "    parc1a_dir = '/home/xiaoyu/MRIdata_group/parc_1/axial/sub{}/slice{}'.format(sub_idx,slice_idx)\n",
    "    train_data = TrainDataset(T1a_dir=T1a_dir, parc1a_dir = parc1a_dir)\n",
    "    total_data_2 = total_data_2 + train_data\n",
    "print(len(total_data_2))\n",
    "dataloader_2 = DataLoader(total_data_2, batch_size = 5, shuffle = True, num_workers = 4)"
   ]
  },
  {
   "cell_type": "code",
   "execution_count": null,
   "metadata": {},
   "outputs": [],
   "source": [
    "liveloss = PlotLosses()\n",
    "for epoch in range(0,50):\n",
    "    logs = {}\n",
    "    running_loss = 0\n",
    "    num_batches = 0\n",
    "    for i_batch, sample_batched in enumerate(dataloader_2):\n",
    "    \n",
    "        optimizer.zero_grad()\n",
    "        \n",
    "        #get the inputs\n",
    "        inputs, labels = sample_batched['T1a'], sample_batched['parc1a']\n",
    "        \n",
    "\n",
    "        inputs = inputs.to(device)\n",
    "        labels = labels.to(device)\n",
    "\n",
    "        inputs.requires_grad_()\n",
    "        \n",
    "        #forward + backward +optimize\n",
    "        scores = model(inputs)\n",
    "\n",
    "          \n",
    "        # Define the loss\n",
    "        loss = criterion(scores, labels.long()) \n",
    "        loss.backward()\n",
    "        optimizer.step()\n",
    "        \n",
    "        # compute and accumulate stats\n",
    "        running_loss += loss.detach().item()\n",
    "       \n",
    "        num_batches+=1 \n",
    "        \n",
    "        \n",
    "    # AVERAGE STATS THEN DISPLAY    \n",
    "    total_loss = running_loss/num_batches\n",
    "   \n",
    "    elapsed = (time.time()-start)/60\n",
    "        \n",
    "    print('epoch=',epoch, '\\t time=', elapsed,'min', '\\t loss=', total_loss )\n",
    "    logs['log loss'] = total_loss\n",
    "            \n",
    "    liveloss.update(logs)\n",
    "    liveloss.draw()\n",
    " \n",
    "print('Finish Training')    "
   ]
  }
 ],
 "metadata": {
  "kernelspec": {
   "display_name": "Python 3",
   "language": "python",
   "name": "python3"
  },
  "language_info": {
   "codemirror_mode": {
    "name": "ipython",
    "version": 3
   },
   "file_extension": ".py",
   "mimetype": "text/x-python",
   "name": "python",
   "nbconvert_exporter": "python",
   "pygments_lexer": "ipython3",
   "version": "3.6.7"
  }
 },
 "nbformat": 4,
 "nbformat_minor": 2
}
