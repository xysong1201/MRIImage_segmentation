{
 "cells": [
  {
   "cell_type": "code",
   "execution_count": 1,
   "metadata": {},
   "outputs": [],
   "source": [
    "import os\n",
    "from torch.utils.data import Dataset, DataLoader\n",
    "from skimage import io, transform\n",
    "from torchvision import transforms, utils\n",
    "import torch\n",
    "import numpy as np\n",
    "import nibabel as nib\n",
    "from random import randint\n",
    "from PIL import Image\n",
    "import torch.optim as optim\n",
    "import time\n",
    "import QuickNAT as QN\n",
    "import torch.nn as nn"
   ]
  },
  {
   "cell_type": "code",
   "execution_count": 2,
   "metadata": {},
   "outputs": [],
   "source": [
    "gpu_id = 1\n",
    "os.environ[\"CUDA_DEVICE_ORDER\"] = \"PCI_BUS_ID\"\n",
    "os.environ[\"CUDA_VISIBLE_DEVICES\"] = str(gpu_id)\n",
    "\n",
    "device = torch.device('cuda')"
   ]
  },
  {
   "cell_type": "code",
   "execution_count": 3,
   "metadata": {},
   "outputs": [
    {
     "name": "stdout",
     "output_type": "stream",
     "text": [
      "3308688\n"
     ]
    }
   ],
   "source": [
    "model = QN.QuickNAT(1,64,256)\n",
    "model_params = list(model.parameters())\n",
    "nb_param=0\n",
    "for param in model.parameters():\n",
    "    nb_param+=np.prod(list(param.data.size()))\n",
    "print(nb_param)\n",
    "model = model.to(device)"
   ]
  },
  {
   "cell_type": "code",
   "execution_count": 4,
   "metadata": {},
   "outputs": [],
   "source": [
    "class TrainDataset(Dataset):\n",
    "    \"\"\"Training dataset with mask image mapping to classes\"\"\"\n",
    "    def __init__(self, T1a_dir, parc5a_dir, transform=None):\n",
    "        \"\"\"\n",
    "        Args:\n",
    "            T1a_dir (string): Directory with T1w image in axial plane\n",
    "            transform (callable): Optional transform to be applied on a sample\n",
    "            parc5a_dir (string): Directory with parcellation scale 5 in axial plane\n",
    "        \"\"\"\n",
    "        self._T1a_dir = T1a_dir\n",
    "        self.transform = transform\n",
    "        self._parc5a_dir = parc5a_dir\n",
    "        \n",
    "    def __len__(self):\n",
    "        T1a_list = os.listdir(self._T1a_dir)\n",
    "        return len(T1a_list)\n",
    "    \n",
    "    \n",
    "    def __getitem__(self, idx):\n",
    "        T1a_list = os.listdir(self._T1a_dir)\n",
    "        parc5a_list = os.listdir(self._parc5a_dir)\n",
    "        \n",
    "        T1a_str = T1a_list[idx]\n",
    "        \n",
    "        T1a_arr = io.imread(os.path.join(self._T1a_dir, T1a_str))\n",
    "        T1a_tensor = torch.from_numpy(T1a_arr)\n",
    "        \n",
    "        compose_T1 = transforms.Compose([transforms.ToPILImage(), \n",
    "                                         transforms.Resize((128,128),interpolation=Image.NEAREST),\n",
    "                                         transforms.ToTensor(),\n",
    "                                         transforms.Normalize((0.5, 0.5, 0.5), (0.5, 0.5, 0.5))])\n",
    "        T1a_tensor = torch.unsqueeze(T1a_tensor, dim = 0)\n",
    "        T1a_tensor = compose_T1(T1a_tensor)\n",
    "              \n",
    "        parc5a_str = parc5a_list[idx]\n",
    "    \n",
    "        parc5a_arr = io.imread(os.path.join(self._parc5a_dir, parc5a_str))\n",
    "        parc5a_tensor = torch.from_numpy(parc5a_arr)\n",
    "        \n",
    "        compose = transforms.Compose([transforms.ToPILImage(),\n",
    "                                      transforms.Resize((128,128),interpolation=Image.NEAREST), \n",
    "                                      transforms.ToTensor()])\n",
    "        \n",
    "        parc5a_tensor = torch.unsqueeze(parc5a_tensor, dim = 0)\n",
    "        parc5a_tensor = compose(parc5a_tensor)\n",
    "        parc5a_tensor = parc5a_tensor.squeeze()\n",
    "        \n",
    "        parc5a_tensor = torch.round(parc5a_tensor / 0.0039).byte()\n",
    "      \n",
    "        sample = {'T1a':T1a_tensor, 'parc5a':parc5a_tensor}\n",
    "        \n",
    "        if self.transform:\n",
    "            T1a = self.transform(T1a_tensor)\n",
    "            sample = {'T1a':T1a, 'parc5a':parc5a}\n",
    "            \n",
    "        return sample"
   ]
  },
  {
   "cell_type": "code",
   "execution_count": 5,
   "metadata": {},
   "outputs": [
    {
     "name": "stdout",
     "output_type": "stream",
     "text": [
      "182\n"
     ]
    }
   ],
   "source": [
    "sub_idx = 0\n",
    "T1a_dir = '/home/xiaoyu/MRIdata/T1w/axial/sub{}'.format(sub_idx)\n",
    "parc5a_dir = '/home/xiaoyu/MRIdata/parc_5/axial/sub{}'.format(sub_idx)\n",
    "total_data = TrainDataset(T1a_dir=T1a_dir, parc5a_dir = parc5a_dir)\n",
    "print(len(total_data))"
   ]
  },
  {
   "cell_type": "code",
   "execution_count": 6,
   "metadata": {},
   "outputs": [
    {
     "name": "stdout",
     "output_type": "stream",
     "text": [
      "60060\n"
     ]
    }
   ],
   "source": [
    "for sub_idx in range(1,330):\n",
    "\n",
    "        T1a_dir = '/home/xiaoyu/MRIdata/T1w/axial/sub{}'.format(sub_idx)\n",
    "        \n",
    "        parc5a_dir = '/home/xiaoyu/MRIdata/parc_5/axial/sub{}'.format(sub_idx)\n",
    "    \n",
    "        train_data = TrainDataset(T1a_dir=T1a_dir, parc5a_dir = parc5a_dir)\n",
    "        total_data += train_data\n",
    "print(len(total_data))"
   ]
  },
  {
   "cell_type": "code",
   "execution_count": 7,
   "metadata": {},
   "outputs": [
    {
     "name": "stdout",
     "output_type": "stream",
     "text": [
      "12012\n"
     ]
    }
   ],
   "source": [
    "start=time.time()\n",
    "dataloader = DataLoader(total_data, batch_size = 5, shuffle = True, num_workers = 4)\n",
    "print(len(dataloader))\n",
    "criterion = nn.NLLLoss()\n",
    "optimizer = optim.Adam(model.parameters() ,lr=0.001)"
   ]
  },
  {
   "cell_type": "code",
   "execution_count": 8,
   "metadata": {},
   "outputs": [
    {
     "name": "stdout",
     "output_type": "stream",
     "text": [
      "49\n",
      "99\n",
      "149\n",
      "199\n",
      "249\n",
      "299\n",
      "349\n",
      "399\n",
      "449\n",
      "499\n",
      "549\n",
      "599\n",
      "649\n",
      "699\n",
      "749\n",
      "799\n",
      "849\n",
      "899\n",
      "949\n",
      "999\n",
      "1049\n",
      "1099\n",
      "1149\n",
      "1199\n",
      "1249\n",
      "1299\n",
      "1349\n",
      "1399\n",
      "1449\n",
      "1499\n",
      "1549\n",
      "1599\n",
      "1649\n",
      "1699\n",
      "1749\n",
      "1799\n",
      "1849\n",
      "1899\n",
      "1949\n",
      "1999\n",
      "2049\n",
      "2099\n",
      "2149\n",
      "2199\n",
      "2249\n",
      "2299\n",
      "2349\n",
      "2399\n",
      "2449\n",
      "2499\n",
      "2549\n",
      "2599\n",
      "2649\n",
      "2699\n",
      "2749\n",
      "2799\n",
      "2849\n",
      "2899\n",
      "2949\n",
      "2999\n"
     ]
    },
    {
     "ename": "KeyboardInterrupt",
     "evalue": "",
     "output_type": "error",
     "traceback": [
      "\u001b[0;31m---------------------------------------------------------------------------\u001b[0m",
      "\u001b[0;31mKeyboardInterrupt\u001b[0m                         Traceback (most recent call last)",
      "\u001b[0;32m<ipython-input-8-ab9964a842e1>\u001b[0m in \u001b[0;36m<module>\u001b[0;34m\u001b[0m\n\u001b[1;32m      9\u001b[0m         \u001b[0minputs\u001b[0m\u001b[0;34m,\u001b[0m \u001b[0mlabels\u001b[0m \u001b[0;34m=\u001b[0m \u001b[0msample_batched\u001b[0m\u001b[0;34m[\u001b[0m\u001b[0;34m'T1a'\u001b[0m\u001b[0;34m]\u001b[0m\u001b[0;34m,\u001b[0m \u001b[0msample_batched\u001b[0m\u001b[0;34m[\u001b[0m\u001b[0;34m'parc5a'\u001b[0m\u001b[0;34m]\u001b[0m\u001b[0;34m\u001b[0m\u001b[0;34m\u001b[0m\u001b[0m\n\u001b[1;32m     10\u001b[0m \u001b[0;34m\u001b[0m\u001b[0m\n\u001b[0;32m---> 11\u001b[0;31m         \u001b[0minputs\u001b[0m \u001b[0;34m=\u001b[0m \u001b[0minputs\u001b[0m\u001b[0;34m.\u001b[0m\u001b[0mto\u001b[0m\u001b[0;34m(\u001b[0m\u001b[0mdevice\u001b[0m\u001b[0;34m)\u001b[0m\u001b[0;34m\u001b[0m\u001b[0;34m\u001b[0m\u001b[0m\n\u001b[0m\u001b[1;32m     12\u001b[0m         \u001b[0mlabels\u001b[0m \u001b[0;34m=\u001b[0m \u001b[0mlabels\u001b[0m\u001b[0;34m.\u001b[0m\u001b[0mto\u001b[0m\u001b[0;34m(\u001b[0m\u001b[0mdevice\u001b[0m\u001b[0;34m)\u001b[0m\u001b[0;34m\u001b[0m\u001b[0;34m\u001b[0m\u001b[0m\n\u001b[1;32m     13\u001b[0m \u001b[0;34m\u001b[0m\u001b[0m\n",
      "\u001b[0;31mKeyboardInterrupt\u001b[0m: "
     ]
    }
   ],
   "source": [
    "for epoch in range(0,5):\n",
    "    running_loss = 0\n",
    "    num_batches = 0\n",
    "    for i_batch, sample_batched in enumerate(dataloader):\n",
    "    \n",
    "        optimizer.zero_grad()\n",
    "        \n",
    "        #get the inputs\n",
    "        inputs, labels = sample_batched['T1a'], sample_batched['parc5a']\n",
    "\n",
    "        inputs = inputs.to(device)\n",
    "        labels = labels.to(device)\n",
    "\n",
    "        inputs.requires_grad_()\n",
    "        \n",
    "        #forward + backward +optimize\n",
    "        scores = model(inputs)\n",
    "          \n",
    "        # Define the loss\n",
    "        loss = criterion(scores, labels.long()) \n",
    "        loss.backward()\n",
    "        optimizer.step()\n",
    "        \n",
    "        # compute and accumulate stats\n",
    "        running_loss += loss.detach().item()\n",
    "       \n",
    "        num_batches+=1 \n",
    "        if i_batch%50 == 49:\n",
    "            print(i_batch)\n",
    "        \n",
    "    # AVERAGE STATS THEN DISPLAY    \n",
    "    total_loss = running_loss/num_batches\n",
    "   \n",
    "    elapsed = (time.time()-start)/60\n",
    "        \n",
    "    print('epoch=',epoch, '\\t time=', elapsed,'min', '\\t loss=', total_loss )\n",
    "   \n",
    "print('Finish Training')"
   ]
  },
  {
   "cell_type": "code",
   "execution_count": null,
   "metadata": {},
   "outputs": [],
   "source": []
  }
 ],
 "metadata": {
  "kernelspec": {
   "display_name": "Python 3",
   "language": "python",
   "name": "python3"
  },
  "language_info": {
   "codemirror_mode": {
    "name": "ipython",
    "version": 3
   },
   "file_extension": ".py",
   "mimetype": "text/x-python",
   "name": "python",
   "nbconvert_exporter": "python",
   "pygments_lexer": "ipython3",
   "version": "3.6.7"
  }
 },
 "nbformat": 4,
 "nbformat_minor": 2
}
